{
  "cells": [
    {
      "cell_type": "markdown",
      "metadata": {
        "id": "7Zx9rZEq8vhY"
      },
      "source": [
        "# Tensorflow Regression - Housing Price Prediction"
      ]
    },
    {
      "cell_type": "markdown",
      "metadata": {
        "id": "qty7wxVF-J37"
      },
      "source": [
        "[House Sales in King County, USA](Houhttps://www.kaggle.com/harlfoxem/housesalesprediction)\n",
        "\n",
        "#### Feature Columns\n",
        "    \n",
        "* id - Unique ID for each home sold\n",
        "* date - Date of the home sale\n",
        "* price - Price of each home sold\n",
        "* bedrooms - Number of bedrooms\n",
        "* bathrooms - Number of bathrooms, where .5 accounts for a room with a toilet but no shower\n",
        "* sqft_living - Square footage of the apartments interior living space\n",
        "* sqft_lot - Square footage of the land space\n",
        "* floors - Number of floors\n",
        "* waterfront - A dummy variable for whether the apartment was overlooking the waterfront or not\n",
        "* view - An index from 0 to 4 of how good the view of the property was\n",
        "* condition - An index from 1 to 5 on the condition of the apartment,\n",
        "* grade - An index from 1 to 13, where 1-3 falls short of building construction and design, 7 has an average level of construction and design, and 11-13 have a high quality level of construction and design.\n",
        "* sqft_above - The square footage of the interior housing space that is above ground level\n",
        "* sqft_basement - The square footage of the interior housing space that is below ground level\n",
        "* yr_built - The year the house was initially built\n",
        "* yr_renovated - The year of the house’s last renovation\n",
        "* zipcode - What zipcode area the house is in\n",
        "* lat - Lattitude\n",
        "* long - Longitude\n",
        "* sqft_living15 - The square footage of interior housing living space for the nearest 15 neighbors\n",
        "* sqft_lot15 - The square footage of the land lots of the nearest 15 neighbors"
      ]
    },
    {
      "cell_type": "markdown",
      "metadata": {
        "id": "Kc_dSFxvDM7a"
      },
      "source": [
        "## Imports"
      ]
    },
    {
      "cell_type": "code",
      "execution_count": null,
      "metadata": {
        "colab": {
          "background_save": true
        },
        "id": "jhFaPHDx9CS7"
      },
      "outputs": [],
      "source": [
        "import numpy as np\n",
        "import pandas as pd\n",
        "import matplotlib.pyplot as plt\n",
        "import seaborn as sns"
      ]
    },
    {
      "cell_type": "markdown",
      "metadata": {
        "id": "r0t1DRIVDM7b"
      },
      "source": [
        "## read kc house data"
      ]
    },
    {
      "cell_type": "code",
      "execution_count": null,
      "metadata": {
        "colab": {
          "base_uri": "https://localhost:8080/",
          "height": 256
        },
        "id": "Am8ghRj9-wRe",
        "outputId": "fbadeea6-335b-46f4-dc5b-0834301e4fc7"
      },
      "outputs": [
        {
          "data": {
            "text/html": [
              "\n",
              "  <div id=\"df-154f1437-c89f-4018-ac4e-a4a4b7062b1d\" class=\"colab-df-container\">\n",
              "    <div>\n",
              "<style scoped>\n",
              "    .dataframe tbody tr th:only-of-type {\n",
              "        vertical-align: middle;\n",
              "    }\n",
              "\n",
              "    .dataframe tbody tr th {\n",
              "        vertical-align: top;\n",
              "    }\n",
              "\n",
              "    .dataframe thead th {\n",
              "        text-align: right;\n",
              "    }\n",
              "</style>\n",
              "<table border=\"1\" class=\"dataframe\">\n",
              "  <thead>\n",
              "    <tr style=\"text-align: right;\">\n",
              "      <th></th>\n",
              "      <th>id</th>\n",
              "      <th>date</th>\n",
              "      <th>price</th>\n",
              "      <th>bedrooms</th>\n",
              "      <th>bathrooms</th>\n",
              "      <th>sqft_living</th>\n",
              "      <th>sqft_lot</th>\n",
              "      <th>floors</th>\n",
              "      <th>waterfront</th>\n",
              "      <th>view</th>\n",
              "      <th>...</th>\n",
              "      <th>grade</th>\n",
              "      <th>sqft_above</th>\n",
              "      <th>sqft_basement</th>\n",
              "      <th>yr_built</th>\n",
              "      <th>yr_renovated</th>\n",
              "      <th>zipcode</th>\n",
              "      <th>lat</th>\n",
              "      <th>long</th>\n",
              "      <th>sqft_living15</th>\n",
              "      <th>sqft_lot15</th>\n",
              "    </tr>\n",
              "  </thead>\n",
              "  <tbody>\n",
              "    <tr>\n",
              "      <th>0</th>\n",
              "      <td>7129300520</td>\n",
              "      <td>10/13/2014</td>\n",
              "      <td>221900.0</td>\n",
              "      <td>3</td>\n",
              "      <td>1.00</td>\n",
              "      <td>1180</td>\n",
              "      <td>5650</td>\n",
              "      <td>1.0</td>\n",
              "      <td>0</td>\n",
              "      <td>0</td>\n",
              "      <td>...</td>\n",
              "      <td>7</td>\n",
              "      <td>1180</td>\n",
              "      <td>0</td>\n",
              "      <td>1955.0</td>\n",
              "      <td>0.0</td>\n",
              "      <td>98178.0</td>\n",
              "      <td>47.5112</td>\n",
              "      <td>-122.257</td>\n",
              "      <td>1340.0</td>\n",
              "      <td>5650.0</td>\n",
              "    </tr>\n",
              "    <tr>\n",
              "      <th>1</th>\n",
              "      <td>6414100192</td>\n",
              "      <td>12/9/2014</td>\n",
              "      <td>538000.0</td>\n",
              "      <td>3</td>\n",
              "      <td>2.25</td>\n",
              "      <td>2570</td>\n",
              "      <td>7242</td>\n",
              "      <td>2.0</td>\n",
              "      <td>0</td>\n",
              "      <td>0</td>\n",
              "      <td>...</td>\n",
              "      <td>7</td>\n",
              "      <td>2170</td>\n",
              "      <td>400</td>\n",
              "      <td>1951.0</td>\n",
              "      <td>1991.0</td>\n",
              "      <td>98125.0</td>\n",
              "      <td>47.7210</td>\n",
              "      <td>-122.319</td>\n",
              "      <td>1690.0</td>\n",
              "      <td>7639.0</td>\n",
              "    </tr>\n",
              "    <tr>\n",
              "      <th>2</th>\n",
              "      <td>5631500400</td>\n",
              "      <td>2/25/2015</td>\n",
              "      <td>180000.0</td>\n",
              "      <td>2</td>\n",
              "      <td>1.00</td>\n",
              "      <td>770</td>\n",
              "      <td>10000</td>\n",
              "      <td>1.0</td>\n",
              "      <td>0</td>\n",
              "      <td>0</td>\n",
              "      <td>...</td>\n",
              "      <td>6</td>\n",
              "      <td>770</td>\n",
              "      <td>0</td>\n",
              "      <td>1933.0</td>\n",
              "      <td>0.0</td>\n",
              "      <td>98028.0</td>\n",
              "      <td>47.7379</td>\n",
              "      <td>-122.233</td>\n",
              "      <td>2720.0</td>\n",
              "      <td>8062.0</td>\n",
              "    </tr>\n",
              "    <tr>\n",
              "      <th>3</th>\n",
              "      <td>2487200875</td>\n",
              "      <td>12/9/2014</td>\n",
              "      <td>604000.0</td>\n",
              "      <td>4</td>\n",
              "      <td>3.00</td>\n",
              "      <td>1960</td>\n",
              "      <td>5000</td>\n",
              "      <td>1.0</td>\n",
              "      <td>0</td>\n",
              "      <td>0</td>\n",
              "      <td>...</td>\n",
              "      <td>7</td>\n",
              "      <td>1050</td>\n",
              "      <td>910</td>\n",
              "      <td>1965.0</td>\n",
              "      <td>0.0</td>\n",
              "      <td>98136.0</td>\n",
              "      <td>47.5208</td>\n",
              "      <td>-122.393</td>\n",
              "      <td>1360.0</td>\n",
              "      <td>5000.0</td>\n",
              "    </tr>\n",
              "    <tr>\n",
              "      <th>4</th>\n",
              "      <td>1954400510</td>\n",
              "      <td>2/18/2015</td>\n",
              "      <td>510000.0</td>\n",
              "      <td>3</td>\n",
              "      <td>2.00</td>\n",
              "      <td>1680</td>\n",
              "      <td>8080</td>\n",
              "      <td>1.0</td>\n",
              "      <td>0</td>\n",
              "      <td>0</td>\n",
              "      <td>...</td>\n",
              "      <td>8</td>\n",
              "      <td>1680</td>\n",
              "      <td>0</td>\n",
              "      <td>1987.0</td>\n",
              "      <td>0.0</td>\n",
              "      <td>98074.0</td>\n",
              "      <td>47.6168</td>\n",
              "      <td>-122.045</td>\n",
              "      <td>1800.0</td>\n",
              "      <td>7503.0</td>\n",
              "    </tr>\n",
              "  </tbody>\n",
              "</table>\n",
              "<p>5 rows × 21 columns</p>\n",
              "</div>\n",
              "    <div class=\"colab-df-buttons\">\n",
              "\n",
              "  <div class=\"colab-df-container\">\n",
              "    <button class=\"colab-df-convert\" onclick=\"convertToInteractive('df-154f1437-c89f-4018-ac4e-a4a4b7062b1d')\"\n",
              "            title=\"Convert this dataframe to an interactive table.\"\n",
              "            style=\"display:none;\">\n",
              "\n",
              "  <svg xmlns=\"http://www.w3.org/2000/svg\" height=\"24px\" viewBox=\"0 -960 960 960\">\n",
              "    <path d=\"M120-120v-720h720v720H120Zm60-500h600v-160H180v160Zm220 220h160v-160H400v160Zm0 220h160v-160H400v160ZM180-400h160v-160H180v160Zm440 0h160v-160H620v160ZM180-180h160v-160H180v160Zm440 0h160v-160H620v160Z\"/>\n",
              "  </svg>\n",
              "    </button>\n",
              "\n",
              "  <style>\n",
              "    .colab-df-container {\n",
              "      display:flex;\n",
              "      gap: 12px;\n",
              "    }\n",
              "\n",
              "    .colab-df-convert {\n",
              "      background-color: #E8F0FE;\n",
              "      border: none;\n",
              "      border-radius: 50%;\n",
              "      cursor: pointer;\n",
              "      display: none;\n",
              "      fill: #1967D2;\n",
              "      height: 32px;\n",
              "      padding: 0 0 0 0;\n",
              "      width: 32px;\n",
              "    }\n",
              "\n",
              "    .colab-df-convert:hover {\n",
              "      background-color: #E2EBFA;\n",
              "      box-shadow: 0px 1px 2px rgba(60, 64, 67, 0.3), 0px 1px 3px 1px rgba(60, 64, 67, 0.15);\n",
              "      fill: #174EA6;\n",
              "    }\n",
              "\n",
              "    .colab-df-buttons div {\n",
              "      margin-bottom: 4px;\n",
              "    }\n",
              "\n",
              "    [theme=dark] .colab-df-convert {\n",
              "      background-color: #3B4455;\n",
              "      fill: #D2E3FC;\n",
              "    }\n",
              "\n",
              "    [theme=dark] .colab-df-convert:hover {\n",
              "      background-color: #434B5C;\n",
              "      box-shadow: 0px 1px 3px 1px rgba(0, 0, 0, 0.15);\n",
              "      filter: drop-shadow(0px 1px 2px rgba(0, 0, 0, 0.3));\n",
              "      fill: #FFFFFF;\n",
              "    }\n",
              "  </style>\n",
              "\n",
              "    <script>\n",
              "      const buttonEl =\n",
              "        document.querySelector('#df-154f1437-c89f-4018-ac4e-a4a4b7062b1d button.colab-df-convert');\n",
              "      buttonEl.style.display =\n",
              "        google.colab.kernel.accessAllowed ? 'block' : 'none';\n",
              "\n",
              "      async function convertToInteractive(key) {\n",
              "        const element = document.querySelector('#df-154f1437-c89f-4018-ac4e-a4a4b7062b1d');\n",
              "        const dataTable =\n",
              "          await google.colab.kernel.invokeFunction('convertToInteractive',\n",
              "                                                    [key], {});\n",
              "        if (!dataTable) return;\n",
              "\n",
              "        const docLinkHtml = 'Like what you see? Visit the ' +\n",
              "          '<a target=\"_blank\" href=https://colab.research.google.com/notebooks/data_table.ipynb>data table notebook</a>'\n",
              "          + ' to learn more about interactive tables.';\n",
              "        element.innerHTML = '';\n",
              "        dataTable['output_type'] = 'display_data';\n",
              "        await google.colab.output.renderOutput(dataTable, element);\n",
              "        const docLink = document.createElement('div');\n",
              "        docLink.innerHTML = docLinkHtml;\n",
              "        element.appendChild(docLink);\n",
              "      }\n",
              "    </script>\n",
              "  </div>\n",
              "\n",
              "\n",
              "<div id=\"df-14bcafa4-d2c0-4102-9fbb-2d5c03976683\">\n",
              "  <button class=\"colab-df-quickchart\" onclick=\"quickchart('df-14bcafa4-d2c0-4102-9fbb-2d5c03976683')\"\n",
              "            title=\"Suggest charts.\"\n",
              "            style=\"display:none;\">\n",
              "\n",
              "<svg xmlns=\"http://www.w3.org/2000/svg\" height=\"24px\"viewBox=\"0 0 24 24\"\n",
              "     width=\"24px\">\n",
              "    <g>\n",
              "        <path d=\"M19 3H5c-1.1 0-2 .9-2 2v14c0 1.1.9 2 2 2h14c1.1 0 2-.9 2-2V5c0-1.1-.9-2-2-2zM9 17H7v-7h2v7zm4 0h-2V7h2v10zm4 0h-2v-4h2v4z\"/>\n",
              "    </g>\n",
              "</svg>\n",
              "  </button>\n",
              "\n",
              "<style>\n",
              "  .colab-df-quickchart {\n",
              "      --bg-color: #E8F0FE;\n",
              "      --fill-color: #1967D2;\n",
              "      --hover-bg-color: #E2EBFA;\n",
              "      --hover-fill-color: #174EA6;\n",
              "      --disabled-fill-color: #AAA;\n",
              "      --disabled-bg-color: #DDD;\n",
              "  }\n",
              "\n",
              "  [theme=dark] .colab-df-quickchart {\n",
              "      --bg-color: #3B4455;\n",
              "      --fill-color: #D2E3FC;\n",
              "      --hover-bg-color: #434B5C;\n",
              "      --hover-fill-color: #FFFFFF;\n",
              "      --disabled-bg-color: #3B4455;\n",
              "      --disabled-fill-color: #666;\n",
              "  }\n",
              "\n",
              "  .colab-df-quickchart {\n",
              "    background-color: var(--bg-color);\n",
              "    border: none;\n",
              "    border-radius: 50%;\n",
              "    cursor: pointer;\n",
              "    display: none;\n",
              "    fill: var(--fill-color);\n",
              "    height: 32px;\n",
              "    padding: 0;\n",
              "    width: 32px;\n",
              "  }\n",
              "\n",
              "  .colab-df-quickchart:hover {\n",
              "    background-color: var(--hover-bg-color);\n",
              "    box-shadow: 0 1px 2px rgba(60, 64, 67, 0.3), 0 1px 3px 1px rgba(60, 64, 67, 0.15);\n",
              "    fill: var(--button-hover-fill-color);\n",
              "  }\n",
              "\n",
              "  .colab-df-quickchart-complete:disabled,\n",
              "  .colab-df-quickchart-complete:disabled:hover {\n",
              "    background-color: var(--disabled-bg-color);\n",
              "    fill: var(--disabled-fill-color);\n",
              "    box-shadow: none;\n",
              "  }\n",
              "\n",
              "  .colab-df-spinner {\n",
              "    border: 2px solid var(--fill-color);\n",
              "    border-color: transparent;\n",
              "    border-bottom-color: var(--fill-color);\n",
              "    animation:\n",
              "      spin 1s steps(1) infinite;\n",
              "  }\n",
              "\n",
              "  @keyframes spin {\n",
              "    0% {\n",
              "      border-color: transparent;\n",
              "      border-bottom-color: var(--fill-color);\n",
              "      border-left-color: var(--fill-color);\n",
              "    }\n",
              "    20% {\n",
              "      border-color: transparent;\n",
              "      border-left-color: var(--fill-color);\n",
              "      border-top-color: var(--fill-color);\n",
              "    }\n",
              "    30% {\n",
              "      border-color: transparent;\n",
              "      border-left-color: var(--fill-color);\n",
              "      border-top-color: var(--fill-color);\n",
              "      border-right-color: var(--fill-color);\n",
              "    }\n",
              "    40% {\n",
              "      border-color: transparent;\n",
              "      border-right-color: var(--fill-color);\n",
              "      border-top-color: var(--fill-color);\n",
              "    }\n",
              "    60% {\n",
              "      border-color: transparent;\n",
              "      border-right-color: var(--fill-color);\n",
              "    }\n",
              "    80% {\n",
              "      border-color: transparent;\n",
              "      border-right-color: var(--fill-color);\n",
              "      border-bottom-color: var(--fill-color);\n",
              "    }\n",
              "    90% {\n",
              "      border-color: transparent;\n",
              "      border-bottom-color: var(--fill-color);\n",
              "    }\n",
              "  }\n",
              "</style>\n",
              "\n",
              "  <script>\n",
              "    async function quickchart(key) {\n",
              "      const quickchartButtonEl =\n",
              "        document.querySelector('#' + key + ' button');\n",
              "      quickchartButtonEl.disabled = true;  // To prevent multiple clicks.\n",
              "      quickchartButtonEl.classList.add('colab-df-spinner');\n",
              "      try {\n",
              "        const charts = await google.colab.kernel.invokeFunction(\n",
              "            'suggestCharts', [key], {});\n",
              "      } catch (error) {\n",
              "        console.error('Error during call to suggestCharts:', error);\n",
              "      }\n",
              "      quickchartButtonEl.classList.remove('colab-df-spinner');\n",
              "      quickchartButtonEl.classList.add('colab-df-quickchart-complete');\n",
              "    }\n",
              "    (() => {\n",
              "      let quickchartButtonEl =\n",
              "        document.querySelector('#df-14bcafa4-d2c0-4102-9fbb-2d5c03976683 button');\n",
              "      quickchartButtonEl.style.display =\n",
              "        google.colab.kernel.accessAllowed ? 'block' : 'none';\n",
              "    })();\n",
              "  </script>\n",
              "</div>\n",
              "    </div>\n",
              "  </div>\n"
            ],
            "text/plain": [
              "           id        date     price  bedrooms  bathrooms  sqft_living  \\\n",
              "0  7129300520  10/13/2014  221900.0         3       1.00         1180   \n",
              "1  6414100192   12/9/2014  538000.0         3       2.25         2570   \n",
              "2  5631500400   2/25/2015  180000.0         2       1.00          770   \n",
              "3  2487200875   12/9/2014  604000.0         4       3.00         1960   \n",
              "4  1954400510   2/18/2015  510000.0         3       2.00         1680   \n",
              "\n",
              "   sqft_lot  floors  waterfront  view  ...  grade  sqft_above  sqft_basement  \\\n",
              "0      5650     1.0           0     0  ...      7        1180              0   \n",
              "1      7242     2.0           0     0  ...      7        2170            400   \n",
              "2     10000     1.0           0     0  ...      6         770              0   \n",
              "3      5000     1.0           0     0  ...      7        1050            910   \n",
              "4      8080     1.0           0     0  ...      8        1680              0   \n",
              "\n",
              "   yr_built  yr_renovated  zipcode      lat     long  sqft_living15  \\\n",
              "0    1955.0           0.0  98178.0  47.5112 -122.257         1340.0   \n",
              "1    1951.0        1991.0  98125.0  47.7210 -122.319         1690.0   \n",
              "2    1933.0           0.0  98028.0  47.7379 -122.233         2720.0   \n",
              "3    1965.0           0.0  98136.0  47.5208 -122.393         1360.0   \n",
              "4    1987.0           0.0  98074.0  47.6168 -122.045         1800.0   \n",
              "\n",
              "   sqft_lot15  \n",
              "0      5650.0  \n",
              "1      7639.0  \n",
              "2      8062.0  \n",
              "3      5000.0  \n",
              "4      7503.0  \n",
              "\n",
              "[5 rows x 21 columns]"
            ]
          },
          "execution_count": 3,
          "metadata": {},
          "output_type": "execute_result"
        }
      ],
      "source": [
        "df =pd.read_csv('/content/kc_house_data.csv')\n",
        "df.head()"
      ]
    },
    {
      "cell_type": "markdown",
      "metadata": {
        "id": "dPyWjM5E-1QO"
      },
      "source": [
        "# Exploratory Data Analysis"
      ]
    },
    {
      "cell_type": "markdown",
      "metadata": {
        "id": "yUhKV-AsDM7d"
      },
      "source": [
        "# check for any missing data"
      ]
    },
    {
      "cell_type": "code",
      "execution_count": null,
      "metadata": {
        "colab": {
          "base_uri": "https://localhost:8080/"
        },
        "id": "vVTs0iP1_CaW",
        "outputId": "e492e078-88bb-42be-f3fd-6a6f2accabaa"
      },
      "outputs": [
        {
          "data": {
            "text/plain": [
              "id               0\n",
              "date             0\n",
              "price            0\n",
              "bedrooms         0\n",
              "bathrooms        0\n",
              "sqft_living      0\n",
              "sqft_lot         0\n",
              "floors           0\n",
              "waterfront       0\n",
              "view             0\n",
              "condition        0\n",
              "grade            0\n",
              "sqft_above       0\n",
              "sqft_basement    0\n",
              "yr_built         1\n",
              "yr_renovated     1\n",
              "zipcode          1\n",
              "lat              1\n",
              "long             1\n",
              "sqft_living15    1\n",
              "sqft_lot15       1\n",
              "dtype: int64"
            ]
          },
          "execution_count": 4,
          "metadata": {},
          "output_type": "execute_result"
        }
      ],
      "source": [
        "df.isna().sum()"
      ]
    },
    {
      "cell_type": "markdown",
      "metadata": {
        "id": "BmGuMPziDM7d"
      },
      "source": [
        "## Statistical report for the data"
      ]
    },
    {
      "cell_type": "code",
      "execution_count": null,
      "metadata": {
        "colab": {
          "base_uri": "https://localhost:8080/",
          "height": 320
        },
        "id": "z2J5w185_NSd",
        "outputId": "0cae6726-bfac-4a0e-f727-82d3370da30d"
      },
      "outputs": [
        {
          "data": {
            "text/html": [
              "\n",
              "  <div id=\"df-6a8a77d9-f311-470b-8c67-8afa7e27e809\" class=\"colab-df-container\">\n",
              "    <div>\n",
              "<style scoped>\n",
              "    .dataframe tbody tr th:only-of-type {\n",
              "        vertical-align: middle;\n",
              "    }\n",
              "\n",
              "    .dataframe tbody tr th {\n",
              "        vertical-align: top;\n",
              "    }\n",
              "\n",
              "    .dataframe thead th {\n",
              "        text-align: right;\n",
              "    }\n",
              "</style>\n",
              "<table border=\"1\" class=\"dataframe\">\n",
              "  <thead>\n",
              "    <tr style=\"text-align: right;\">\n",
              "      <th></th>\n",
              "      <th>id</th>\n",
              "      <th>price</th>\n",
              "      <th>bedrooms</th>\n",
              "      <th>bathrooms</th>\n",
              "      <th>sqft_living</th>\n",
              "      <th>sqft_lot</th>\n",
              "      <th>floors</th>\n",
              "      <th>waterfront</th>\n",
              "      <th>view</th>\n",
              "      <th>condition</th>\n",
              "      <th>grade</th>\n",
              "      <th>sqft_above</th>\n",
              "      <th>sqft_basement</th>\n",
              "      <th>yr_built</th>\n",
              "      <th>yr_renovated</th>\n",
              "      <th>zipcode</th>\n",
              "      <th>lat</th>\n",
              "      <th>long</th>\n",
              "      <th>sqft_living15</th>\n",
              "      <th>sqft_lot15</th>\n",
              "    </tr>\n",
              "  </thead>\n",
              "  <tbody>\n",
              "    <tr>\n",
              "      <th>count</th>\n",
              "      <td>1.026700e+04</td>\n",
              "      <td>1.026700e+04</td>\n",
              "      <td>10267.000000</td>\n",
              "      <td>10267.000000</td>\n",
              "      <td>10267.000000</td>\n",
              "      <td>1.026700e+04</td>\n",
              "      <td>10267.000000</td>\n",
              "      <td>10267.000000</td>\n",
              "      <td>10267.000000</td>\n",
              "      <td>10267.000000</td>\n",
              "      <td>10267.000000</td>\n",
              "      <td>10267.000000</td>\n",
              "      <td>10267.000000</td>\n",
              "      <td>10266.000000</td>\n",
              "      <td>10266.000000</td>\n",
              "      <td>10266.000000</td>\n",
              "      <td>10266.000000</td>\n",
              "      <td>10266.000000</td>\n",
              "      <td>10266.000000</td>\n",
              "      <td>10266.000000</td>\n",
              "    </tr>\n",
              "    <tr>\n",
              "      <th>mean</th>\n",
              "      <td>4.541123e+09</td>\n",
              "      <td>5.324289e+05</td>\n",
              "      <td>3.365735</td>\n",
              "      <td>2.062287</td>\n",
              "      <td>2051.454174</td>\n",
              "      <td>1.590865e+04</td>\n",
              "      <td>1.432015</td>\n",
              "      <td>0.007889</td>\n",
              "      <td>0.237655</td>\n",
              "      <td>3.447258</td>\n",
              "      <td>7.594526</td>\n",
              "      <td>1749.101490</td>\n",
              "      <td>302.352683</td>\n",
              "      <td>1967.271868</td>\n",
              "      <td>91.006624</td>\n",
              "      <td>98077.841516</td>\n",
              "      <td>47.559765</td>\n",
              "      <td>-122.214164</td>\n",
              "      <td>1974.714884</td>\n",
              "      <td>13291.978375</td>\n",
              "    </tr>\n",
              "    <tr>\n",
              "      <th>std</th>\n",
              "      <td>2.863507e+09</td>\n",
              "      <td>3.747679e+05</td>\n",
              "      <td>0.909057</td>\n",
              "      <td>0.763287</td>\n",
              "      <td>907.828354</td>\n",
              "      <td>4.453824e+04</td>\n",
              "      <td>0.511560</td>\n",
              "      <td>0.088475</td>\n",
              "      <td>0.764631</td>\n",
              "      <td>0.665462</td>\n",
              "      <td>1.159626</td>\n",
              "      <td>807.900078</td>\n",
              "      <td>450.519239</td>\n",
              "      <td>27.977853</td>\n",
              "      <td>416.441549</td>\n",
              "      <td>53.926600</td>\n",
              "      <td>0.140214</td>\n",
              "      <td>0.139346</td>\n",
              "      <td>670.498284</td>\n",
              "      <td>27100.189956</td>\n",
              "    </tr>\n",
              "    <tr>\n",
              "      <th>min</th>\n",
              "      <td>1.000102e+06</td>\n",
              "      <td>8.000000e+04</td>\n",
              "      <td>1.000000</td>\n",
              "      <td>0.500000</td>\n",
              "      <td>380.000000</td>\n",
              "      <td>5.720000e+02</td>\n",
              "      <td>1.000000</td>\n",
              "      <td>0.000000</td>\n",
              "      <td>0.000000</td>\n",
              "      <td>1.000000</td>\n",
              "      <td>3.000000</td>\n",
              "      <td>380.000000</td>\n",
              "      <td>0.000000</td>\n",
              "      <td>1900.000000</td>\n",
              "      <td>0.000000</td>\n",
              "      <td>98001.000000</td>\n",
              "      <td>47.155900</td>\n",
              "      <td>-122.515000</td>\n",
              "      <td>620.000000</td>\n",
              "      <td>660.000000</td>\n",
              "    </tr>\n",
              "    <tr>\n",
              "      <th>25%</th>\n",
              "      <td>2.113200e+09</td>\n",
              "      <td>3.150000e+05</td>\n",
              "      <td>3.000000</td>\n",
              "      <td>1.500000</td>\n",
              "      <td>1410.000000</td>\n",
              "      <td>5.439500e+03</td>\n",
              "      <td>1.000000</td>\n",
              "      <td>0.000000</td>\n",
              "      <td>0.000000</td>\n",
              "      <td>3.000000</td>\n",
              "      <td>7.000000</td>\n",
              "      <td>1180.000000</td>\n",
              "      <td>0.000000</td>\n",
              "      <td>1950.000000</td>\n",
              "      <td>0.000000</td>\n",
              "      <td>98032.000000</td>\n",
              "      <td>47.461925</td>\n",
              "      <td>-122.326000</td>\n",
              "      <td>1490.000000</td>\n",
              "      <td>5425.750000</td>\n",
              "    </tr>\n",
              "    <tr>\n",
              "      <th>50%</th>\n",
              "      <td>3.904921e+09</td>\n",
              "      <td>4.462500e+05</td>\n",
              "      <td>3.000000</td>\n",
              "      <td>2.000000</td>\n",
              "      <td>1890.000000</td>\n",
              "      <td>7.912000e+03</td>\n",
              "      <td>1.000000</td>\n",
              "      <td>0.000000</td>\n",
              "      <td>0.000000</td>\n",
              "      <td>3.000000</td>\n",
              "      <td>7.000000</td>\n",
              "      <td>1530.000000</td>\n",
              "      <td>0.000000</td>\n",
              "      <td>1969.000000</td>\n",
              "      <td>0.000000</td>\n",
              "      <td>98065.000000</td>\n",
              "      <td>47.573200</td>\n",
              "      <td>-122.230000</td>\n",
              "      <td>1830.000000</td>\n",
              "      <td>7840.000000</td>\n",
              "    </tr>\n",
              "    <tr>\n",
              "      <th>75%</th>\n",
              "      <td>7.256200e+09</td>\n",
              "      <td>6.390000e+05</td>\n",
              "      <td>4.000000</td>\n",
              "      <td>2.500000</td>\n",
              "      <td>2500.000000</td>\n",
              "      <td>1.112150e+04</td>\n",
              "      <td>2.000000</td>\n",
              "      <td>0.000000</td>\n",
              "      <td>0.000000</td>\n",
              "      <td>4.000000</td>\n",
              "      <td>8.000000</td>\n",
              "      <td>2130.000000</td>\n",
              "      <td>600.000000</td>\n",
              "      <td>1990.000000</td>\n",
              "      <td>0.000000</td>\n",
              "      <td>98118.000000</td>\n",
              "      <td>47.679500</td>\n",
              "      <td>-122.126000</td>\n",
              "      <td>2340.000000</td>\n",
              "      <td>10363.250000</td>\n",
              "    </tr>\n",
              "    <tr>\n",
              "      <th>max</th>\n",
              "      <td>9.842301e+09</td>\n",
              "      <td>7.700000e+06</td>\n",
              "      <td>11.000000</td>\n",
              "      <td>8.000000</td>\n",
              "      <td>12050.000000</td>\n",
              "      <td>1.651359e+06</td>\n",
              "      <td>3.500000</td>\n",
              "      <td>1.000000</td>\n",
              "      <td>4.000000</td>\n",
              "      <td>5.000000</td>\n",
              "      <td>13.000000</td>\n",
              "      <td>8860.000000</td>\n",
              "      <td>4820.000000</td>\n",
              "      <td>2015.000000</td>\n",
              "      <td>2015.000000</td>\n",
              "      <td>98199.000000</td>\n",
              "      <td>47.777600</td>\n",
              "      <td>-121.315000</td>\n",
              "      <td>5790.000000</td>\n",
              "      <td>871200.000000</td>\n",
              "    </tr>\n",
              "  </tbody>\n",
              "</table>\n",
              "</div>\n",
              "    <div class=\"colab-df-buttons\">\n",
              "\n",
              "  <div class=\"colab-df-container\">\n",
              "    <button class=\"colab-df-convert\" onclick=\"convertToInteractive('df-6a8a77d9-f311-470b-8c67-8afa7e27e809')\"\n",
              "            title=\"Convert this dataframe to an interactive table.\"\n",
              "            style=\"display:none;\">\n",
              "\n",
              "  <svg xmlns=\"http://www.w3.org/2000/svg\" height=\"24px\" viewBox=\"0 -960 960 960\">\n",
              "    <path d=\"M120-120v-720h720v720H120Zm60-500h600v-160H180v160Zm220 220h160v-160H400v160Zm0 220h160v-160H400v160ZM180-400h160v-160H180v160Zm440 0h160v-160H620v160ZM180-180h160v-160H180v160Zm440 0h160v-160H620v160Z\"/>\n",
              "  </svg>\n",
              "    </button>\n",
              "\n",
              "  <style>\n",
              "    .colab-df-container {\n",
              "      display:flex;\n",
              "      gap: 12px;\n",
              "    }\n",
              "\n",
              "    .colab-df-convert {\n",
              "      background-color: #E8F0FE;\n",
              "      border: none;\n",
              "      border-radius: 50%;\n",
              "      cursor: pointer;\n",
              "      display: none;\n",
              "      fill: #1967D2;\n",
              "      height: 32px;\n",
              "      padding: 0 0 0 0;\n",
              "      width: 32px;\n",
              "    }\n",
              "\n",
              "    .colab-df-convert:hover {\n",
              "      background-color: #E2EBFA;\n",
              "      box-shadow: 0px 1px 2px rgba(60, 64, 67, 0.3), 0px 1px 3px 1px rgba(60, 64, 67, 0.15);\n",
              "      fill: #174EA6;\n",
              "    }\n",
              "\n",
              "    .colab-df-buttons div {\n",
              "      margin-bottom: 4px;\n",
              "    }\n",
              "\n",
              "    [theme=dark] .colab-df-convert {\n",
              "      background-color: #3B4455;\n",
              "      fill: #D2E3FC;\n",
              "    }\n",
              "\n",
              "    [theme=dark] .colab-df-convert:hover {\n",
              "      background-color: #434B5C;\n",
              "      box-shadow: 0px 1px 3px 1px rgba(0, 0, 0, 0.15);\n",
              "      filter: drop-shadow(0px 1px 2px rgba(0, 0, 0, 0.3));\n",
              "      fill: #FFFFFF;\n",
              "    }\n",
              "  </style>\n",
              "\n",
              "    <script>\n",
              "      const buttonEl =\n",
              "        document.querySelector('#df-6a8a77d9-f311-470b-8c67-8afa7e27e809 button.colab-df-convert');\n",
              "      buttonEl.style.display =\n",
              "        google.colab.kernel.accessAllowed ? 'block' : 'none';\n",
              "\n",
              "      async function convertToInteractive(key) {\n",
              "        const element = document.querySelector('#df-6a8a77d9-f311-470b-8c67-8afa7e27e809');\n",
              "        const dataTable =\n",
              "          await google.colab.kernel.invokeFunction('convertToInteractive',\n",
              "                                                    [key], {});\n",
              "        if (!dataTable) return;\n",
              "\n",
              "        const docLinkHtml = 'Like what you see? Visit the ' +\n",
              "          '<a target=\"_blank\" href=https://colab.research.google.com/notebooks/data_table.ipynb>data table notebook</a>'\n",
              "          + ' to learn more about interactive tables.';\n",
              "        element.innerHTML = '';\n",
              "        dataTable['output_type'] = 'display_data';\n",
              "        await google.colab.output.renderOutput(dataTable, element);\n",
              "        const docLink = document.createElement('div');\n",
              "        docLink.innerHTML = docLinkHtml;\n",
              "        element.appendChild(docLink);\n",
              "      }\n",
              "    </script>\n",
              "  </div>\n",
              "\n",
              "\n",
              "<div id=\"df-8234651b-83ca-417c-ad3d-bc184848ec97\">\n",
              "  <button class=\"colab-df-quickchart\" onclick=\"quickchart('df-8234651b-83ca-417c-ad3d-bc184848ec97')\"\n",
              "            title=\"Suggest charts.\"\n",
              "            style=\"display:none;\">\n",
              "\n",
              "<svg xmlns=\"http://www.w3.org/2000/svg\" height=\"24px\"viewBox=\"0 0 24 24\"\n",
              "     width=\"24px\">\n",
              "    <g>\n",
              "        <path d=\"M19 3H5c-1.1 0-2 .9-2 2v14c0 1.1.9 2 2 2h14c1.1 0 2-.9 2-2V5c0-1.1-.9-2-2-2zM9 17H7v-7h2v7zm4 0h-2V7h2v10zm4 0h-2v-4h2v4z\"/>\n",
              "    </g>\n",
              "</svg>\n",
              "  </button>\n",
              "\n",
              "<style>\n",
              "  .colab-df-quickchart {\n",
              "      --bg-color: #E8F0FE;\n",
              "      --fill-color: #1967D2;\n",
              "      --hover-bg-color: #E2EBFA;\n",
              "      --hover-fill-color: #174EA6;\n",
              "      --disabled-fill-color: #AAA;\n",
              "      --disabled-bg-color: #DDD;\n",
              "  }\n",
              "\n",
              "  [theme=dark] .colab-df-quickchart {\n",
              "      --bg-color: #3B4455;\n",
              "      --fill-color: #D2E3FC;\n",
              "      --hover-bg-color: #434B5C;\n",
              "      --hover-fill-color: #FFFFFF;\n",
              "      --disabled-bg-color: #3B4455;\n",
              "      --disabled-fill-color: #666;\n",
              "  }\n",
              "\n",
              "  .colab-df-quickchart {\n",
              "    background-color: var(--bg-color);\n",
              "    border: none;\n",
              "    border-radius: 50%;\n",
              "    cursor: pointer;\n",
              "    display: none;\n",
              "    fill: var(--fill-color);\n",
              "    height: 32px;\n",
              "    padding: 0;\n",
              "    width: 32px;\n",
              "  }\n",
              "\n",
              "  .colab-df-quickchart:hover {\n",
              "    background-color: var(--hover-bg-color);\n",
              "    box-shadow: 0 1px 2px rgba(60, 64, 67, 0.3), 0 1px 3px 1px rgba(60, 64, 67, 0.15);\n",
              "    fill: var(--button-hover-fill-color);\n",
              "  }\n",
              "\n",
              "  .colab-df-quickchart-complete:disabled,\n",
              "  .colab-df-quickchart-complete:disabled:hover {\n",
              "    background-color: var(--disabled-bg-color);\n",
              "    fill: var(--disabled-fill-color);\n",
              "    box-shadow: none;\n",
              "  }\n",
              "\n",
              "  .colab-df-spinner {\n",
              "    border: 2px solid var(--fill-color);\n",
              "    border-color: transparent;\n",
              "    border-bottom-color: var(--fill-color);\n",
              "    animation:\n",
              "      spin 1s steps(1) infinite;\n",
              "  }\n",
              "\n",
              "  @keyframes spin {\n",
              "    0% {\n",
              "      border-color: transparent;\n",
              "      border-bottom-color: var(--fill-color);\n",
              "      border-left-color: var(--fill-color);\n",
              "    }\n",
              "    20% {\n",
              "      border-color: transparent;\n",
              "      border-left-color: var(--fill-color);\n",
              "      border-top-color: var(--fill-color);\n",
              "    }\n",
              "    30% {\n",
              "      border-color: transparent;\n",
              "      border-left-color: var(--fill-color);\n",
              "      border-top-color: var(--fill-color);\n",
              "      border-right-color: var(--fill-color);\n",
              "    }\n",
              "    40% {\n",
              "      border-color: transparent;\n",
              "      border-right-color: var(--fill-color);\n",
              "      border-top-color: var(--fill-color);\n",
              "    }\n",
              "    60% {\n",
              "      border-color: transparent;\n",
              "      border-right-color: var(--fill-color);\n",
              "    }\n",
              "    80% {\n",
              "      border-color: transparent;\n",
              "      border-right-color: var(--fill-color);\n",
              "      border-bottom-color: var(--fill-color);\n",
              "    }\n",
              "    90% {\n",
              "      border-color: transparent;\n",
              "      border-bottom-color: var(--fill-color);\n",
              "    }\n",
              "  }\n",
              "</style>\n",
              "\n",
              "  <script>\n",
              "    async function quickchart(key) {\n",
              "      const quickchartButtonEl =\n",
              "        document.querySelector('#' + key + ' button');\n",
              "      quickchartButtonEl.disabled = true;  // To prevent multiple clicks.\n",
              "      quickchartButtonEl.classList.add('colab-df-spinner');\n",
              "      try {\n",
              "        const charts = await google.colab.kernel.invokeFunction(\n",
              "            'suggestCharts', [key], {});\n",
              "      } catch (error) {\n",
              "        console.error('Error during call to suggestCharts:', error);\n",
              "      }\n",
              "      quickchartButtonEl.classList.remove('colab-df-spinner');\n",
              "      quickchartButtonEl.classList.add('colab-df-quickchart-complete');\n",
              "    }\n",
              "    (() => {\n",
              "      let quickchartButtonEl =\n",
              "        document.querySelector('#df-8234651b-83ca-417c-ad3d-bc184848ec97 button');\n",
              "      quickchartButtonEl.style.display =\n",
              "        google.colab.kernel.accessAllowed ? 'block' : 'none';\n",
              "    })();\n",
              "  </script>\n",
              "</div>\n",
              "    </div>\n",
              "  </div>\n"
            ],
            "text/plain": [
              "                 id         price      bedrooms     bathrooms   sqft_living  \\\n",
              "count  1.026700e+04  1.026700e+04  10267.000000  10267.000000  10267.000000   \n",
              "mean   4.541123e+09  5.324289e+05      3.365735      2.062287   2051.454174   \n",
              "std    2.863507e+09  3.747679e+05      0.909057      0.763287    907.828354   \n",
              "min    1.000102e+06  8.000000e+04      1.000000      0.500000    380.000000   \n",
              "25%    2.113200e+09  3.150000e+05      3.000000      1.500000   1410.000000   \n",
              "50%    3.904921e+09  4.462500e+05      3.000000      2.000000   1890.000000   \n",
              "75%    7.256200e+09  6.390000e+05      4.000000      2.500000   2500.000000   \n",
              "max    9.842301e+09  7.700000e+06     11.000000      8.000000  12050.000000   \n",
              "\n",
              "           sqft_lot        floors    waterfront          view     condition  \\\n",
              "count  1.026700e+04  10267.000000  10267.000000  10267.000000  10267.000000   \n",
              "mean   1.590865e+04      1.432015      0.007889      0.237655      3.447258   \n",
              "std    4.453824e+04      0.511560      0.088475      0.764631      0.665462   \n",
              "min    5.720000e+02      1.000000      0.000000      0.000000      1.000000   \n",
              "25%    5.439500e+03      1.000000      0.000000      0.000000      3.000000   \n",
              "50%    7.912000e+03      1.000000      0.000000      0.000000      3.000000   \n",
              "75%    1.112150e+04      2.000000      0.000000      0.000000      4.000000   \n",
              "max    1.651359e+06      3.500000      1.000000      4.000000      5.000000   \n",
              "\n",
              "              grade    sqft_above  sqft_basement      yr_built  yr_renovated  \\\n",
              "count  10267.000000  10267.000000   10267.000000  10266.000000  10266.000000   \n",
              "mean       7.594526   1749.101490     302.352683   1967.271868     91.006624   \n",
              "std        1.159626    807.900078     450.519239     27.977853    416.441549   \n",
              "min        3.000000    380.000000       0.000000   1900.000000      0.000000   \n",
              "25%        7.000000   1180.000000       0.000000   1950.000000      0.000000   \n",
              "50%        7.000000   1530.000000       0.000000   1969.000000      0.000000   \n",
              "75%        8.000000   2130.000000     600.000000   1990.000000      0.000000   \n",
              "max       13.000000   8860.000000    4820.000000   2015.000000   2015.000000   \n",
              "\n",
              "            zipcode           lat          long  sqft_living15     sqft_lot15  \n",
              "count  10266.000000  10266.000000  10266.000000   10266.000000   10266.000000  \n",
              "mean   98077.841516     47.559765   -122.214164    1974.714884   13291.978375  \n",
              "std       53.926600      0.140214      0.139346     670.498284   27100.189956  \n",
              "min    98001.000000     47.155900   -122.515000     620.000000     660.000000  \n",
              "25%    98032.000000     47.461925   -122.326000    1490.000000    5425.750000  \n",
              "50%    98065.000000     47.573200   -122.230000    1830.000000    7840.000000  \n",
              "75%    98118.000000     47.679500   -122.126000    2340.000000   10363.250000  \n",
              "max    98199.000000     47.777600   -121.315000    5790.000000  871200.000000  "
            ]
          },
          "execution_count": 5,
          "metadata": {},
          "output_type": "execute_result"
        }
      ],
      "source": [
        "df.describe()"
      ]
    },
    {
      "cell_type": "markdown",
      "metadata": {
        "id": "6seLJ_st_YKn"
      },
      "source": [
        "Let's explore the data visually"
      ]
    },
    {
      "cell_type": "markdown",
      "metadata": {
        "id": "qDNUIAheDM7e"
      },
      "source": [
        "## use sns.distplot() on the price feature"
      ]
    },
    {
      "cell_type": "code",
      "execution_count": null,
      "metadata": {
        "colab": {
          "background_save": true,
          "base_uri": "https://localhost:8080/",
          "height": 523
        },
        "id": "SZs4LIRa_srs",
        "outputId": "2bbc10f5-51ad-47f8-d6db-8e8dc94067b0"
      },
      "outputs": [
        {
          "data": {
            "text/plain": [
              "<seaborn.axisgrid.FacetGrid at 0x7c492142db40>"
            ]
          },
          "execution_count": 19,
          "metadata": {},
          "output_type": "execute_result"
        },
        {
          "data": {
            "image/png": "[encoded data removed]",
            "text/plain": [
              "<Figure size 500x500 with 1 Axes>"
            ]
          },
          "metadata": {},
          "output_type": "display_data"
        }
      ],
      "source": [
        "sns.displot(df['price'])"
      ]
    },
    {
      "cell_type": "markdown",
      "metadata": {
        "id": "JMmGTGWg_yde"
      },
      "source": [
        "We can see from the above chart, most of the house price fall between 0 to 2,000,000 USD. There are a few outliers which is beyond those prices. So realistically, we may want to drop those outliers as there are not so much houses with those price range in the market and it won't be very useful for our model's predictions."
      ]
    },
    {
      "cell_type": "markdown",
      "metadata": {
        "id": "Bf9F71KKDM7f"
      },
      "source": [
        "## use sns.countplot() on bedrooms features"
      ]
    },
    {
      "cell_type": "code",
      "execution_count": null,
      "metadata": {
        "colab": {
          "background_save": true,
          "base_uri": "https://localhost:8080/",
          "height": 466
        },
        "id": "K-4eZ3Q0BTx0",
        "outputId": "79fa985f-fa94-4841-b360-c1d8b81d5961"
      },
      "outputs": [
        {
          "data": {
            "text/plain": [
              "<Axes: xlabel='bedrooms', ylabel='count'>"
            ]
          },
          "execution_count": 20,
          "metadata": {},
          "output_type": "execute_result"
        },
        {
          "data": {
            "image/png": "[encoded data removed]",
            "text/plain": [
              "<Figure size 640x480 with 1 Axes>"
            ]
          },
          "metadata": {},
          "output_type": "display_data"
        }
      ],
      "source": [
        "sns.countplot(data=df, x='bedrooms')"
      ]
    },
    {
      "cell_type": "markdown",
      "metadata": {
        "id": "XnZxf-X2Bbwd"
      },
      "source": [
        "Most of the houses have either 3 or 4 bedrooms. On extreme ends, there are some houses with 1 bedroom or 33 bedrooms."
      ]
    },
    {
      "cell_type": "code",
      "execution_count": null,
      "metadata": {
        "colab": {
          "background_save": true,
          "base_uri": "https://localhost:8080/"
        },
        "id": "0YkcQGUWB0Ki",
        "outputId": "476e20f0-e9e1-4e9a-81ee-07bbe8815b44"
      },
      "outputs": [
        {
          "name": "stderr",
          "output_type": "stream",
          "text": [
            "<ipython-input-21-bcc7b0138f7d>:2: FutureWarning: The default value of numeric_only in DataFrame.corr is deprecated. In a future version, it will default to False. Select only valid columns or specify the value of numeric_only to silence this warning.\n",
            "  df.corr()['price'].sort_values()\n"
          ]
        },
        {
          "data": {
            "text/plain": [
              "zipcode         -0.051383\n",
              "id               0.005937\n",
              "long             0.014904\n",
              "yr_built         0.033527\n",
              "condition        0.043663\n",
              "sqft_lot15       0.087843\n",
              "sqft_lot         0.091490\n",
              "yr_renovated     0.144623\n",
              "floors           0.276091\n",
              "lat              0.298268\n",
              "waterfront       0.298800\n",
              "bedrooms         0.299980\n",
              "sqft_basement    0.326125\n",
              "view             0.401116\n",
              "bathrooms        0.520569\n",
              "sqft_living15    0.582609\n",
              "sqft_above       0.605355\n",
              "grade            0.650187\n",
              "sqft_living      0.700564\n",
              "price            1.000000\n",
              "Name: price, dtype: float64"
            ]
          },
          "execution_count": 21,
          "metadata": {},
          "output_type": "execute_result"
        }
      ],
      "source": [
        "# check the correlation\n",
        "df.corr()['price'].sort_values()"
      ]
    },
    {
      "cell_type": "markdown",
      "metadata": {
        "id": "93ShBytCCKzj"
      },
      "source": [
        "Seem like `sqft_living` is highly correlated with `price`. so what we can do is further explore those features using `scatterplot`.\n"
      ]
    },
    {
      "cell_type": "markdown",
      "metadata": {
        "id": "IuFWeswvDM7g"
      },
      "source": [
        "## use sns.scatterplot on price and sqft_living"
      ]
    },
    {
      "cell_type": "code",
      "execution_count": null,
      "metadata": {
        "colab": {
          "background_save": true,
          "base_uri": "https://localhost:8080/",
          "height": 467
        },
        "id": "pI_cOgPoCaIe",
        "outputId": "b74a83bf-b1aa-41d9-ab46-e2f969177bbe"
      },
      "outputs": [
        {
          "data": {
            "text/plain": [
              "<Axes: xlabel='price', ylabel='sqft_living'>"
            ]
          },
          "execution_count": 22,
          "metadata": {},
          "output_type": "execute_result"
        },
        {
          "data": {
            "image/png": "[encoded data removed]",
            "text/plain": [
              "<Figure size 640x480 with 1 Axes>"
            ]
          },
          "metadata": {},
          "output_type": "display_data"
        }
      ],
      "source": [
        "sns.scatterplot(x=df['price'], y=df['sqft_living'])"
      ]
    },
    {
      "cell_type": "markdown",
      "metadata": {
        "id": "yGIHy2r-Chd0"
      },
      "source": [
        "We can see a strong positive linear relationship.\n"
      ]
    },
    {
      "cell_type": "markdown",
      "metadata": {
        "id": "pKTkwWrVDM7h"
      },
      "source": [
        "## sns.boxplot on bedrooms and price"
      ]
    },
    {
      "cell_type": "code",
      "execution_count": null,
      "metadata": {
        "colab": {
          "background_save": true,
          "base_uri": "https://localhost:8080/",
          "height": 557
        },
        "id": "lnvAXd4TCvis",
        "outputId": "d1b390cf-5a68-4774-e27a-7b1a88d3b4f1"
      },
      "outputs": [
        {
          "data": {
            "image/png": "[encoded data removed]",
            "text/plain": [
              "<Figure size 1200x600 with 1 Axes>"
            ]
          },
          "metadata": {},
          "output_type": "display_data"
        }
      ],
      "source": [
        "plt.figure(figsize=(12,6))\n",
        "sns.boxplot(data=df, x='bedrooms', y='price');"
      ]
    },
    {
      "cell_type": "markdown",
      "metadata": {
        "id": "M-5FjL_OC6fV"
      },
      "source": [
        "As we already know majority of houses have bedrooms between 4 - 7, there are variety of prices for those range."
      ]
    },
    {
      "cell_type": "markdown",
      "metadata": {
        "id": "bqi4E8TpDdgM"
      },
      "source": [
        "## Geographical Properties"
      ]
    },
    {
      "cell_type": "markdown",
      "metadata": {
        "id": "XUYU82P7DM7h"
      },
      "source": [
        "###  let's see price distribution for price, long"
      ]
    },
    {
      "cell_type": "code",
      "execution_count": null,
      "metadata": {
        "colab": {
          "background_save": true,
          "base_uri": "https://localhost:8080/",
          "height": 466
        },
        "id": "GPS5EUxTDl4j",
        "outputId": "3e2e2273-d653-4b30-f84b-377ece3f38de"
      },
      "outputs": [
        {
          "data": {
            "text/plain": [
              "<Axes: xlabel='price', ylabel='long'>"
            ]
          },
          "execution_count": 24,
          "metadata": {},
          "output_type": "execute_result"
        },
        {
          "data": {
            "image/png": "[encoded data removed]",
            "text/plain": [
              "<Figure size 640x480 with 1 Axes>"
            ]
          },
          "metadata": {},
          "output_type": "display_data"
        }
      ],
      "source": [
        "sns.scatterplot(x=df['price'], y=df['long'])"
      ]
    },
    {
      "cell_type": "markdown",
      "metadata": {
        "id": "38Eu6qmsD0N_"
      },
      "source": [
        "We can see that around `long: -122.2`, there seem to be expensive houses. Becuase prices are much higher for those `long` values."
      ]
    },
    {
      "cell_type": "markdown",
      "metadata": {
        "id": "SznClIcyDM7i"
      },
      "source": [
        "###  let's see price distribution for price, lat"
      ]
    },
    {
      "cell_type": "code",
      "execution_count": null,
      "metadata": {
        "colab": {
          "background_save": true,
          "base_uri": "https://localhost:8080/",
          "height": 467
        },
        "id": "EU3KhUV6Ec3G",
        "outputId": "29eb4ae3-857a-48ad-e09d-227dd19c1173"
      },
      "outputs": [
        {
          "data": {
            "text/plain": [
              "<Axes: xlabel='price', ylabel='lat'>"
            ]
          },
          "execution_count": 25,
          "metadata": {},
          "output_type": "execute_result"
        },
        {
          "data": {
            "image/png": "[encoded data removed]",
            "text/plain": [
              "<Figure size 640x480 with 1 Axes>"
            ]
          },
          "metadata": {},
          "output_type": "display_data"
        }
      ],
      "source": [
        "sns.scatterplot(x=df['price'], y=df['lat'])"
      ]
    },
    {
      "cell_type": "markdown",
      "metadata": {
        "id": "68-VFdP-Ef8o"
      },
      "source": [
        "There is same behaviour with `lat` too. There are some sort of expensive houses between 47.6 and 47.7."
      ]
    },
    {
      "cell_type": "markdown",
      "metadata": {
        "id": "ePioqKLUIbBf"
      },
      "source": [
        "## Exploring for price hotspots"
      ]
    },
    {
      "cell_type": "markdown",
      "metadata": {
        "id": "NX_232TtDM7j"
      },
      "source": [
        "###  sns.scatterplot on long and lat and hue = price"
      ]
    },
    {
      "cell_type": "code",
      "execution_count": null,
      "metadata": {
        "colab": {
          "background_save": true,
          "base_uri": "https://localhost:8080/",
          "height": 467
        },
        "id": "88HrjcaHEwQa",
        "outputId": "ff78cae1-d2c2-471f-b126-508ee90a338f"
      },
      "outputs": [
        {
          "data": {
            "text/plain": [
              "<Axes: xlabel='long', ylabel='lat'>"
            ]
          },
          "execution_count": 26,
          "metadata": {},
          "output_type": "execute_result"
        },
        {
          "data": {
            "image/png": "[encoded data removed]",
            "text/plain": [
              "<Figure size 640x480 with 1 Axes>"
            ]
          },
          "metadata": {},
          "output_type": "display_data"
        }
      ],
      "source": [
        "sns.scatterplot(x='long', y='lat', data= df ,hue = 'price')"
      ]
    },
    {
      "cell_type": "markdown",
      "metadata": {
        "id": "emQSdjtBFSnN"
      },
      "source": [
        "We can see that there are some hotspot areas. However, the distribution is not very clear."
      ]
    },
    {
      "cell_type": "markdown",
      "metadata": {
        "id": "dXaB41bJGaQ6"
      },
      "source": [
        "We can see that maximum house price is around 7.7 millions and the price quickly drop to the range of 3 millions. So we can set the cut off point at 3 millions as there are not so much houses beyond those price ranges.\n",
        "\n",
        "---\n",
        "\n"
      ]
    },
    {
      "cell_type": "markdown",
      "metadata": {
        "id": "cr8DL6S6HXF8"
      },
      "source": [
        "If we calculate TOP 1% of houses, there are about 216 houses.\n",
        "\n",
        "As our scatterplot hotspot is impacted by those outliers, we want to exclude those outliers houses when we do the visual exploration.\n",
        "\n",
        "So let's create a dataframe excluding those Top 1 % houses, meaning we will be grabbing bottom 99% houses."
      ]
    },
    {
      "cell_type": "markdown",
      "metadata": {
        "id": "-fOmk8byIJOo"
      },
      "source": [
        "Now we can see a lot clearer color distribution (no longer influenced by those expensive outliers hourses)."
      ]
    },
    {
      "cell_type": "markdown",
      "metadata": {
        "id": "ZBQXKVQzJoQQ"
      },
      "source": [
        "# Feature Engineering - Working with Feature Data"
      ]
    },
    {
      "cell_type": "markdown",
      "metadata": {
        "id": "IYbd0ufiDM7l"
      },
      "source": [
        "## features info"
      ]
    },
    {
      "cell_type": "code",
      "execution_count": null,
      "metadata": {
        "colab": {
          "background_save": true,
          "base_uri": "https://localhost:8080/"
        },
        "id": "oHBVj6h9Ppk7",
        "outputId": "c944ab51-ea19-4776-e1b9-ecba28b75887"
      },
      "outputs": [
        {
          "name": "stdout",
          "output_type": "stream",
          "text": [
            "<class 'pandas.core.frame.DataFrame'>\n",
            "RangeIndex: 10267 entries, 0 to 10266\n",
            "Data columns (total 21 columns):\n",
            " #   Column         Non-Null Count  Dtype  \n",
            "---  ------         --------------  -----  \n",
            " 0   id             10267 non-null  int64  \n",
            " 1   date           10267 non-null  object \n",
            " 2   price          10267 non-null  float64\n",
            " 3   bedrooms       10267 non-null  int64  \n",
            " 4   bathrooms      10267 non-null  float64\n",
            " 5   sqft_living    10267 non-null  int64  \n",
            " 6   sqft_lot       10267 non-null  int64  \n",
            " 7   floors         10267 non-null  float64\n",
            " 8   waterfront     10267 non-null  int64  \n",
            " 9   view           10267 non-null  int64  \n",
            " 10  condition      10267 non-null  int64  \n",
            " 11  grade          10267 non-null  int64  \n",
            " 12  sqft_above     10267 non-null  int64  \n",
            " 13  sqft_basement  10267 non-null  int64  \n",
            " 14  yr_built       10266 non-null  float64\n",
            " 15  yr_renovated   10266 non-null  float64\n",
            " 16  zipcode        10266 non-null  float64\n",
            " 17  lat            10266 non-null  float64\n",
            " 18  long           10266 non-null  float64\n",
            " 19  sqft_living15  10266 non-null  float64\n",
            " 20  sqft_lot15     10266 non-null  float64\n",
            "dtypes: float64(10), int64(10), object(1)\n",
            "memory usage: 1.6+ MB\n"
          ]
        }
      ],
      "source": [
        "df.info()"
      ]
    },
    {
      "cell_type": "markdown",
      "metadata": {
        "id": "FZlVHMiTROAY"
      },
      "source": [
        "### Id column is not really helpful for us, so we will drop it"
      ]
    },
    {
      "cell_type": "code",
      "execution_count": null,
      "metadata": {
        "colab": {
          "background_save": true
        },
        "id": "fVca8CEHPqqN"
      },
      "outputs": [],
      "source": [
        "# Id column is not really helpful for us, so we will drop it\n",
        "df = df.drop('id', axis=1)"
      ]
    },
    {
      "cell_type": "markdown",
      "metadata": {
        "id": "Qz6Jg74qRS2B"
      },
      "source": [
        "### Feature Engineering from Date"
      ]
    },
    {
      "cell_type": "code",
      "execution_count": null,
      "metadata": {
        "colab": {
          "background_save": true,
          "base_uri": "https://localhost:8080/"
        },
        "id": "13vMk384P4aV",
        "outputId": "ecd1314f-3df5-45e3-966d-bad8517048fa"
      },
      "outputs": [
        {
          "data": {
            "text/plain": [
              "0        10/13/2014\n",
              "1         12/9/2014\n",
              "2         2/25/2015\n",
              "3         12/9/2014\n",
              "4         2/18/2015\n",
              "            ...    \n",
              "10262     3/16/2015\n",
              "10263     9/24/2014\n",
              "10264     9/22/2014\n",
              "10265      1/7/2015\n",
              "10266     8/18/2014\n",
              "Name: date, Length: 10267, dtype: object"
            ]
          },
          "execution_count": 29,
          "metadata": {},
          "output_type": "execute_result"
        }
      ],
      "source": [
        "# Date column\n",
        "df['date']"
      ]
    },
    {
      "cell_type": "markdown",
      "metadata": {
        "id": "ZXYD3evkQDgG"
      },
      "source": [
        "We can see that `date` column is object type and we can convert it to datetime type.\n",
        "\n",
        "In this way, we can extract date related information easily."
      ]
    },
    {
      "cell_type": "code",
      "execution_count": null,
      "metadata": {
        "colab": {
          "background_save": true
        },
        "id": "HJH0SAKQQMBQ"
      },
      "outputs": [],
      "source": [
        "df['date'] = pd.to_datetime(df['date'])"
      ]
    },
    {
      "cell_type": "code",
      "execution_count": null,
      "metadata": {
        "colab": {
          "background_save": true,
          "base_uri": "https://localhost:8080/"
        },
        "id": "X1dw68VeQR2-",
        "outputId": "851dbb54-7be2-4aa4-b784-f954aabb91e9"
      },
      "outputs": [
        {
          "data": {
            "text/plain": [
              "0       2014-10-13\n",
              "1       2014-12-09\n",
              "2       2015-02-25\n",
              "3       2014-12-09\n",
              "4       2015-02-18\n",
              "           ...    \n",
              "10262   2015-03-16\n",
              "10263   2014-09-24\n",
              "10264   2014-09-22\n",
              "10265   2015-01-07\n",
              "10266   2014-08-18\n",
              "Name: date, Length: 10267, dtype: datetime64[ns]"
            ]
          },
          "execution_count": 31,
          "metadata": {},
          "output_type": "execute_result"
        }
      ],
      "source": [
        "df['date']"
      ]
    },
    {
      "cell_type": "code",
      "execution_count": null,
      "metadata": {
        "colab": {
          "background_save": true
        },
        "id": "h_ymauJmQR0n"
      },
      "outputs": [],
      "source": [
        "# Extracting information from date column\n",
        "df['year'] = df['date'].apply(lambda date: date.year)\n",
        "df['month'] = df['date'].apply(lambda date: date.month)"
      ]
    },
    {
      "cell_type": "code",
      "execution_count": null,
      "metadata": {
        "colab": {
          "background_save": true,
          "base_uri": "https://localhost:8080/",
          "height": 141
        },
        "id": "VCpQkyr5QRx2",
        "outputId": "389ec2f4-1673-4bce-8e68-0612af4e4991"
      },
      "outputs": [
        {
          "data": {
            "text/html": [
              "\n",
              "  <div id=\"df-80a96cff-e8c7-45c3-bf44-d1ee89565d30\" class=\"colab-df-container\">\n",
              "    <div>\n",
              "<style scoped>\n",
              "    .dataframe tbody tr th:only-of-type {\n",
              "        vertical-align: middle;\n",
              "    }\n",
              "\n",
              "    .dataframe tbody tr th {\n",
              "        vertical-align: top;\n",
              "    }\n",
              "\n",
              "    .dataframe thead th {\n",
              "        text-align: right;\n",
              "    }\n",
              "</style>\n",
              "<table border=\"1\" class=\"dataframe\">\n",
              "  <thead>\n",
              "    <tr style=\"text-align: right;\">\n",
              "      <th></th>\n",
              "      <th>date</th>\n",
              "      <th>price</th>\n",
              "      <th>bedrooms</th>\n",
              "      <th>bathrooms</th>\n",
              "      <th>sqft_living</th>\n",
              "      <th>sqft_lot</th>\n",
              "      <th>floors</th>\n",
              "      <th>waterfront</th>\n",
              "      <th>view</th>\n",
              "      <th>condition</th>\n",
              "      <th>...</th>\n",
              "      <th>sqft_basement</th>\n",
              "      <th>yr_built</th>\n",
              "      <th>yr_renovated</th>\n",
              "      <th>zipcode</th>\n",
              "      <th>lat</th>\n",
              "      <th>long</th>\n",
              "      <th>sqft_living15</th>\n",
              "      <th>sqft_lot15</th>\n",
              "      <th>year</th>\n",
              "      <th>month</th>\n",
              "    </tr>\n",
              "  </thead>\n",
              "  <tbody>\n",
              "    <tr>\n",
              "      <th>0</th>\n",
              "      <td>2014-10-13</td>\n",
              "      <td>221900.0</td>\n",
              "      <td>3</td>\n",
              "      <td>1.00</td>\n",
              "      <td>1180</td>\n",
              "      <td>5650</td>\n",
              "      <td>1.0</td>\n",
              "      <td>0</td>\n",
              "      <td>0</td>\n",
              "      <td>3</td>\n",
              "      <td>...</td>\n",
              "      <td>0</td>\n",
              "      <td>1955.0</td>\n",
              "      <td>0.0</td>\n",
              "      <td>98178.0</td>\n",
              "      <td>47.5112</td>\n",
              "      <td>-122.257</td>\n",
              "      <td>1340.0</td>\n",
              "      <td>5650.0</td>\n",
              "      <td>2014</td>\n",
              "      <td>10</td>\n",
              "    </tr>\n",
              "    <tr>\n",
              "      <th>1</th>\n",
              "      <td>2014-12-09</td>\n",
              "      <td>538000.0</td>\n",
              "      <td>3</td>\n",
              "      <td>2.25</td>\n",
              "      <td>2570</td>\n",
              "      <td>7242</td>\n",
              "      <td>2.0</td>\n",
              "      <td>0</td>\n",
              "      <td>0</td>\n",
              "      <td>3</td>\n",
              "      <td>...</td>\n",
              "      <td>400</td>\n",
              "      <td>1951.0</td>\n",
              "      <td>1991.0</td>\n",
              "      <td>98125.0</td>\n",
              "      <td>47.7210</td>\n",
              "      <td>-122.319</td>\n",
              "      <td>1690.0</td>\n",
              "      <td>7639.0</td>\n",
              "      <td>2014</td>\n",
              "      <td>12</td>\n",
              "    </tr>\n",
              "  </tbody>\n",
              "</table>\n",
              "<p>2 rows × 22 columns</p>\n",
              "</div>\n",
              "    <div class=\"colab-df-buttons\">\n",
              "\n",
              "  <div class=\"colab-df-container\">\n",
              "    <button class=\"colab-df-convert\" onclick=\"convertToInteractive('df-80a96cff-e8c7-45c3-bf44-d1ee89565d30')\"\n",
              "            title=\"Convert this dataframe to an interactive table.\"\n",
              "            style=\"display:none;\">\n",
              "\n",
              "  <svg xmlns=\"http://www.w3.org/2000/svg\" height=\"24px\" viewBox=\"0 -960 960 960\">\n",
              "    <path d=\"M120-120v-720h720v720H120Zm60-500h600v-160H180v160Zm220 220h160v-160H400v160Zm0 220h160v-160H400v160ZM180-400h160v-160H180v160Zm440 0h160v-160H620v160ZM180-180h160v-160H180v160Zm440 0h160v-160H620v160Z\"/>\n",
              "  </svg>\n",
              "    </button>\n",
              "\n",
              "  <style>\n",
              "    .colab-df-container {\n",
              "      display:flex;\n",
              "      gap: 12px;\n",
              "    }\n",
              "\n",
              "    .colab-df-convert {\n",
              "      background-color: #E8F0FE;\n",
              "      border: none;\n",
              "      border-radius: 50%;\n",
              "      cursor: pointer;\n",
              "      display: none;\n",
              "      fill: #1967D2;\n",
              "      height: 32px;\n",
              "      padding: 0 0 0 0;\n",
              "      width: 32px;\n",
              "    }\n",
              "\n",
              "    .colab-df-convert:hover {\n",
              "      background-color: #E2EBFA;\n",
              "      box-shadow: 0px 1px 2px rgba(60, 64, 67, 0.3), 0px 1px 3px 1px rgba(60, 64, 67, 0.15);\n",
              "      fill: #174EA6;\n",
              "    }\n",
              "\n",
              "    .colab-df-buttons div {\n",
              "      margin-bottom: 4px;\n",
              "    }\n",
              "\n",
              "    [theme=dark] .colab-df-convert {\n",
              "      background-color: #3B4455;\n",
              "      fill: #D2E3FC;\n",
              "    }\n",
              "\n",
              "    [theme=dark] .colab-df-convert:hover {\n",
              "      background-color: #434B5C;\n",
              "      box-shadow: 0px 1px 3px 1px rgba(0, 0, 0, 0.15);\n",
              "      filter: drop-shadow(0px 1px 2px rgba(0, 0, 0, 0.3));\n",
              "      fill: #FFFFFF;\n",
              "    }\n",
              "  </style>\n",
              "\n",
              "    <script>\n",
              "      const buttonEl =\n",
              "        document.querySelector('#df-80a96cff-e8c7-45c3-bf44-d1ee89565d30 button.colab-df-convert');\n",
              "      buttonEl.style.display =\n",
              "        google.colab.kernel.accessAllowed ? 'block' : 'none';\n",
              "\n",
              "      async function convertToInteractive(key) {\n",
              "        const element = document.querySelector('#df-80a96cff-e8c7-45c3-bf44-d1ee89565d30');\n",
              "        const dataTable =\n",
              "          await google.colab.kernel.invokeFunction('convertToInteractive',\n",
              "                                                    [key], {});\n",
              "        if (!dataTable) return;\n",
              "\n",
              "        const docLinkHtml = 'Like what you see? Visit the ' +\n",
              "          '<a target=\"_blank\" href=https://colab.research.google.com/notebooks/data_table.ipynb>data table notebook</a>'\n",
              "          + ' to learn more about interactive tables.';\n",
              "        element.innerHTML = '';\n",
              "        dataTable['output_type'] = 'display_data';\n",
              "        await google.colab.output.renderOutput(dataTable, element);\n",
              "        const docLink = document.createElement('div');\n",
              "        docLink.innerHTML = docLinkHtml;\n",
              "        element.appendChild(docLink);\n",
              "      }\n",
              "    </script>\n",
              "  </div>\n",
              "\n",
              "\n",
              "<div id=\"df-9114c678-25b7-4c68-8030-c0c50a3dbc1a\">\n",
              "  <button class=\"colab-df-quickchart\" onclick=\"quickchart('df-9114c678-25b7-4c68-8030-c0c50a3dbc1a')\"\n",
              "            title=\"Suggest charts.\"\n",
              "            style=\"display:none;\">\n",
              "\n",
              "<svg xmlns=\"http://www.w3.org/2000/svg\" height=\"24px\"viewBox=\"0 0 24 24\"\n",
              "     width=\"24px\">\n",
              "    <g>\n",
              "        <path d=\"M19 3H5c-1.1 0-2 .9-2 2v14c0 1.1.9 2 2 2h14c1.1 0 2-.9 2-2V5c0-1.1-.9-2-2-2zM9 17H7v-7h2v7zm4 0h-2V7h2v10zm4 0h-2v-4h2v4z\"/>\n",
              "    </g>\n",
              "</svg>\n",
              "  </button>\n",
              "\n",
              "<style>\n",
              "  .colab-df-quickchart {\n",
              "      --bg-color: #E8F0FE;\n",
              "      --fill-color: #1967D2;\n",
              "      --hover-bg-color: #E2EBFA;\n",
              "      --hover-fill-color: #174EA6;\n",
              "      --disabled-fill-color: #AAA;\n",
              "      --disabled-bg-color: #DDD;\n",
              "  }\n",
              "\n",
              "  [theme=dark] .colab-df-quickchart {\n",
              "      --bg-color: #3B4455;\n",
              "      --fill-color: #D2E3FC;\n",
              "      --hover-bg-color: #434B5C;\n",
              "      --hover-fill-color: #FFFFFF;\n",
              "      --disabled-bg-color: #3B4455;\n",
              "      --disabled-fill-color: #666;\n",
              "  }\n",
              "\n",
              "  .colab-df-quickchart {\n",
              "    background-color: var(--bg-color);\n",
              "    border: none;\n",
              "    border-radius: 50%;\n",
              "    cursor: pointer;\n",
              "    display: none;\n",
              "    fill: var(--fill-color);\n",
              "    height: 32px;\n",
              "    padding: 0;\n",
              "    width: 32px;\n",
              "  }\n",
              "\n",
              "  .colab-df-quickchart:hover {\n",
              "    background-color: var(--hover-bg-color);\n",
              "    box-shadow: 0 1px 2px rgba(60, 64, 67, 0.3), 0 1px 3px 1px rgba(60, 64, 67, 0.15);\n",
              "    fill: var(--button-hover-fill-color);\n",
              "  }\n",
              "\n",
              "  .colab-df-quickchart-complete:disabled,\n",
              "  .colab-df-quickchart-complete:disabled:hover {\n",
              "    background-color: var(--disabled-bg-color);\n",
              "    fill: var(--disabled-fill-color);\n",
              "    box-shadow: none;\n",
              "  }\n",
              "\n",
              "  .colab-df-spinner {\n",
              "    border: 2px solid var(--fill-color);\n",
              "    border-color: transparent;\n",
              "    border-bottom-color: var(--fill-color);\n",
              "    animation:\n",
              "      spin 1s steps(1) infinite;\n",
              "  }\n",
              "\n",
              "  @keyframes spin {\n",
              "    0% {\n",
              "      border-color: transparent;\n",
              "      border-bottom-color: var(--fill-color);\n",
              "      border-left-color: var(--fill-color);\n",
              "    }\n",
              "    20% {\n",
              "      border-color: transparent;\n",
              "      border-left-color: var(--fill-color);\n",
              "      border-top-color: var(--fill-color);\n",
              "    }\n",
              "    30% {\n",
              "      border-color: transparent;\n",
              "      border-left-color: var(--fill-color);\n",
              "      border-top-color: var(--fill-color);\n",
              "      border-right-color: var(--fill-color);\n",
              "    }\n",
              "    40% {\n",
              "      border-color: transparent;\n",
              "      border-right-color: var(--fill-color);\n",
              "      border-top-color: var(--fill-color);\n",
              "    }\n",
              "    60% {\n",
              "      border-color: transparent;\n",
              "      border-right-color: var(--fill-color);\n",
              "    }\n",
              "    80% {\n",
              "      border-color: transparent;\n",
              "      border-right-color: var(--fill-color);\n",
              "      border-bottom-color: var(--fill-color);\n",
              "    }\n",
              "    90% {\n",
              "      border-color: transparent;\n",
              "      border-bottom-color: var(--fill-color);\n",
              "    }\n",
              "  }\n",
              "</style>\n",
              "\n",
              "  <script>\n",
              "    async function quickchart(key) {\n",
              "      const quickchartButtonEl =\n",
              "        document.querySelector('#' + key + ' button');\n",
              "      quickchartButtonEl.disabled = true;  // To prevent multiple clicks.\n",
              "      quickchartButtonEl.classList.add('colab-df-spinner');\n",
              "      try {\n",
              "        const charts = await google.colab.kernel.invokeFunction(\n",
              "            'suggestCharts', [key], {});\n",
              "      } catch (error) {\n",
              "        console.error('Error during call to suggestCharts:', error);\n",
              "      }\n",
              "      quickchartButtonEl.classList.remove('colab-df-spinner');\n",
              "      quickchartButtonEl.classList.add('colab-df-quickchart-complete');\n",
              "    }\n",
              "    (() => {\n",
              "      let quickchartButtonEl =\n",
              "        document.querySelector('#df-9114c678-25b7-4c68-8030-c0c50a3dbc1a button');\n",
              "      quickchartButtonEl.style.display =\n",
              "        google.colab.kernel.accessAllowed ? 'block' : 'none';\n",
              "    })();\n",
              "  </script>\n",
              "</div>\n",
              "    </div>\n",
              "  </div>\n"
            ],
            "text/plain": [
              "        date     price  bedrooms  bathrooms  sqft_living  sqft_lot  floors  \\\n",
              "0 2014-10-13  221900.0         3       1.00         1180      5650     1.0   \n",
              "1 2014-12-09  538000.0         3       2.25         2570      7242     2.0   \n",
              "\n",
              "   waterfront  view  condition  ...  sqft_basement  yr_built  yr_renovated  \\\n",
              "0           0     0          3  ...              0    1955.0           0.0   \n",
              "1           0     0          3  ...            400    1951.0        1991.0   \n",
              "\n",
              "   zipcode      lat     long  sqft_living15  sqft_lot15  year  month  \n",
              "0  98178.0  47.5112 -122.257         1340.0      5650.0  2014     10  \n",
              "1  98125.0  47.7210 -122.319         1690.0      7639.0  2014     12  \n",
              "\n",
              "[2 rows x 22 columns]"
            ]
          },
          "execution_count": 33,
          "metadata": {},
          "output_type": "execute_result"
        }
      ],
      "source": [
        "df.head(2)"
      ]
    },
    {
      "cell_type": "markdown",
      "metadata": {
        "id": "ZhBOStycQRvS"
      },
      "source": [
        "### Explore whether there is any seasonal sales related to Month"
      ]
    },
    {
      "cell_type": "code",
      "execution_count": null,
      "metadata": {
        "colab": {
          "background_save": true,
          "base_uri": "https://localhost:8080/",
          "height": 711
        },
        "id": "0nL7gDsyQRsw",
        "outputId": "7448b26e-5109-4b19-95b6-ab3f09c1c895"
      },
      "outputs": [
        {
          "data": {
            "image/png": "[encoded data removed]",
            "text/plain": [
              "<Figure size 1200x800 with 1 Axes>"
            ]
          },
          "metadata": {},
          "output_type": "display_data"
        }
      ],
      "source": [
        "plt.figure(figsize=(12,8))\n",
        "sns.boxplot(data=df, x='month', y='price');"
      ]
    },
    {
      "cell_type": "markdown",
      "metadata": {
        "id": "fwjU-xK_RvHN"
      },
      "source": [
        "From the boxplot itself, it is hard to tell whether for specific month, price is more expensive.\n",
        "\n",
        "So let's look at the data itself."
      ]
    },
    {
      "cell_type": "code",
      "execution_count": null,
      "metadata": {
        "colab": {
          "background_save": true,
          "base_uri": "https://localhost:8080/"
        },
        "id": "YavWQYFtSIfv",
        "outputId": "fe1ae993-6dfd-4d47-fb98-92d47176bbcf"
      },
      "outputs": [
        {
          "name": "stderr",
          "output_type": "stream",
          "text": [
            "<ipython-input-35-93396d665159>:1: FutureWarning: The default value of numeric_only in DataFrameGroupBy.mean is deprecated. In a future version, numeric_only will default to False. Either specify numeric_only or select only columns which should be valid for the function.\n",
            "  df.groupby('month').mean()['price']\n"
          ]
        },
        {
          "data": {
            "text/plain": [
              "month\n",
              "1     506049.236025\n",
              "2     498299.122112\n",
              "3     543585.682682\n",
              "4     557768.398482\n",
              "5     528206.384351\n",
              "6     556275.580492\n",
              "7     527782.042898\n",
              "8     516110.914966\n",
              "9     529638.352273\n",
              "10    533744.405213\n",
              "11    546051.503106\n",
              "12    515971.295359\n",
              "Name: price, dtype: float64"
            ]
          },
          "execution_count": 35,
          "metadata": {},
          "output_type": "execute_result"
        }
      ],
      "source": [
        "df.groupby('month').mean()['price']"
      ]
    },
    {
      "cell_type": "code",
      "execution_count": null,
      "metadata": {
        "colab": {
          "background_save": true,
          "base_uri": "https://localhost:8080/",
          "height": 504
        },
        "id": "ePD5GK_ZSNG0",
        "outputId": "2ca1fe87-fcd0-4c46-f8cc-4f2425d104f3"
      },
      "outputs": [
        {
          "name": "stderr",
          "output_type": "stream",
          "text": [
            "<ipython-input-36-513a8acf2abc>:1: FutureWarning: The default value of numeric_only in DataFrameGroupBy.mean is deprecated. In a future version, numeric_only will default to False. Either specify numeric_only or select only columns which should be valid for the function.\n",
            "  df.groupby('month').mean()['price'].plot();\n"
          ]
        },
        {
          "data": {
            "image/png": "[encoded data removed]",
            "text/plain": [
              "<Figure size 640x480 with 1 Axes>"
            ]
          },
          "metadata": {},
          "output_type": "display_data"
        }
      ],
      "source": [
        "df.groupby('month').mean()['price'].plot();"
      ]
    },
    {
      "cell_type": "code",
      "execution_count": null,
      "metadata": {
        "colab": {
          "background_save": true,
          "base_uri": "https://localhost:8080/",
          "height": 504
        },
        "id": "tWeUL1UsSsCD",
        "outputId": "b094bf1e-7df4-45f3-b3a4-8670db70b44b"
      },
      "outputs": [
        {
          "name": "stderr",
          "output_type": "stream",
          "text": [
            "<ipython-input-37-4f4f33707ef9>:1: FutureWarning: The default value of numeric_only in DataFrameGroupBy.mean is deprecated. In a future version, numeric_only will default to False. Either specify numeric_only or select only columns which should be valid for the function.\n",
            "  df.groupby('year').mean()['price'].plot();\n"
          ]
        },
        {
          "data": {
            "image/png": "[encoded data removed]",
            "text/plain": [
              "<Figure size 640x480 with 1 Axes>"
            ]
          },
          "metadata": {},
          "output_type": "display_data"
        }
      ],
      "source": [
        "df.groupby('year').mean()['price'].plot();"
      ]
    },
    {
      "cell_type": "markdown",
      "metadata": {
        "id": "Ku_Xijh7S4De"
      },
      "source": [
        "As the date column is no longer necessary, we will drop it."
      ]
    },
    {
      "cell_type": "code",
      "execution_count": null,
      "metadata": {
        "colab": {
          "background_save": true
        },
        "id": "ms4yQ74uTPX5"
      },
      "outputs": [],
      "source": [
        "df = df.drop('date', axis=1)"
      ]
    },
    {
      "cell_type": "code",
      "execution_count": null,
      "metadata": {
        "colab": {
          "background_save": true,
          "base_uri": "https://localhost:8080/",
          "height": 141
        },
        "id": "mtCUap1pTR4s",
        "outputId": "0cf79af1-4017-4ebb-aac1-b1628d76c106"
      },
      "outputs": [
        {
          "data": {
            "text/html": [
              "\n",
              "  <div id=\"df-82368cb4-b48e-4c7e-905e-166808fc9ab5\" class=\"colab-df-container\">\n",
              "    <div>\n",
              "<style scoped>\n",
              "    .dataframe tbody tr th:only-of-type {\n",
              "        vertical-align: middle;\n",
              "    }\n",
              "\n",
              "    .dataframe tbody tr th {\n",
              "        vertical-align: top;\n",
              "    }\n",
              "\n",
              "    .dataframe thead th {\n",
              "        text-align: right;\n",
              "    }\n",
              "</style>\n",
              "<table border=\"1\" class=\"dataframe\">\n",
              "  <thead>\n",
              "    <tr style=\"text-align: right;\">\n",
              "      <th></th>\n",
              "      <th>price</th>\n",
              "      <th>bedrooms</th>\n",
              "      <th>bathrooms</th>\n",
              "      <th>sqft_living</th>\n",
              "      <th>sqft_lot</th>\n",
              "      <th>floors</th>\n",
              "      <th>waterfront</th>\n",
              "      <th>view</th>\n",
              "      <th>condition</th>\n",
              "      <th>grade</th>\n",
              "      <th>...</th>\n",
              "      <th>sqft_basement</th>\n",
              "      <th>yr_built</th>\n",
              "      <th>yr_renovated</th>\n",
              "      <th>zipcode</th>\n",
              "      <th>lat</th>\n",
              "      <th>long</th>\n",
              "      <th>sqft_living15</th>\n",
              "      <th>sqft_lot15</th>\n",
              "      <th>year</th>\n",
              "      <th>month</th>\n",
              "    </tr>\n",
              "  </thead>\n",
              "  <tbody>\n",
              "    <tr>\n",
              "      <th>0</th>\n",
              "      <td>221900.0</td>\n",
              "      <td>3</td>\n",
              "      <td>1.00</td>\n",
              "      <td>1180</td>\n",
              "      <td>5650</td>\n",
              "      <td>1.0</td>\n",
              "      <td>0</td>\n",
              "      <td>0</td>\n",
              "      <td>3</td>\n",
              "      <td>7</td>\n",
              "      <td>...</td>\n",
              "      <td>0</td>\n",
              "      <td>1955.0</td>\n",
              "      <td>0.0</td>\n",
              "      <td>98178.0</td>\n",
              "      <td>47.5112</td>\n",
              "      <td>-122.257</td>\n",
              "      <td>1340.0</td>\n",
              "      <td>5650.0</td>\n",
              "      <td>2014</td>\n",
              "      <td>10</td>\n",
              "    </tr>\n",
              "    <tr>\n",
              "      <th>1</th>\n",
              "      <td>538000.0</td>\n",
              "      <td>3</td>\n",
              "      <td>2.25</td>\n",
              "      <td>2570</td>\n",
              "      <td>7242</td>\n",
              "      <td>2.0</td>\n",
              "      <td>0</td>\n",
              "      <td>0</td>\n",
              "      <td>3</td>\n",
              "      <td>7</td>\n",
              "      <td>...</td>\n",
              "      <td>400</td>\n",
              "      <td>1951.0</td>\n",
              "      <td>1991.0</td>\n",
              "      <td>98125.0</td>\n",
              "      <td>47.7210</td>\n",
              "      <td>-122.319</td>\n",
              "      <td>1690.0</td>\n",
              "      <td>7639.0</td>\n",
              "      <td>2014</td>\n",
              "      <td>12</td>\n",
              "    </tr>\n",
              "  </tbody>\n",
              "</table>\n",
              "<p>2 rows × 21 columns</p>\n",
              "</div>\n",
              "    <div class=\"colab-df-buttons\">\n",
              "\n",
              "  <div class=\"colab-df-container\">\n",
              "    <button class=\"colab-df-convert\" onclick=\"convertToInteractive('df-82368cb4-b48e-4c7e-905e-166808fc9ab5')\"\n",
              "            title=\"Convert this dataframe to an interactive table.\"\n",
              "            style=\"display:none;\">\n",
              "\n",
              "  <svg xmlns=\"http://www.w3.org/2000/svg\" height=\"24px\" viewBox=\"0 -960 960 960\">\n",
              "    <path d=\"M120-120v-720h720v720H120Zm60-500h600v-160H180v160Zm220 220h160v-160H400v160Zm0 220h160v-160H400v160ZM180-400h160v-160H180v160Zm440 0h160v-160H620v160ZM180-180h160v-160H180v160Zm440 0h160v-160H620v160Z\"/>\n",
              "  </svg>\n",
              "    </button>\n",
              "\n",
              "  <style>\n",
              "    .colab-df-container {\n",
              "      display:flex;\n",
              "      gap: 12px;\n",
              "    }\n",
              "\n",
              "    .colab-df-convert {\n",
              "      background-color: #E8F0FE;\n",
              "      border: none;\n",
              "      border-radius: 50%;\n",
              "      cursor: pointer;\n",
              "      display: none;\n",
              "      fill: #1967D2;\n",
              "      height: 32px;\n",
              "      padding: 0 0 0 0;\n",
              "      width: 32px;\n",
              "    }\n",
              "\n",
              "    .colab-df-convert:hover {\n",
              "      background-color: #E2EBFA;\n",
              "      box-shadow: 0px 1px 2px rgba(60, 64, 67, 0.3), 0px 1px 3px 1px rgba(60, 64, 67, 0.15);\n",
              "      fill: #174EA6;\n",
              "    }\n",
              "\n",
              "    .colab-df-buttons div {\n",
              "      margin-bottom: 4px;\n",
              "    }\n",
              "\n",
              "    [theme=dark] .colab-df-convert {\n",
              "      background-color: #3B4455;\n",
              "      fill: #D2E3FC;\n",
              "    }\n",
              "\n",
              "    [theme=dark] .colab-df-convert:hover {\n",
              "      background-color: #434B5C;\n",
              "      box-shadow: 0px 1px 3px 1px rgba(0, 0, 0, 0.15);\n",
              "      filter: drop-shadow(0px 1px 2px rgba(0, 0, 0, 0.3));\n",
              "      fill: #FFFFFF;\n",
              "    }\n",
              "  </style>\n",
              "\n",
              "    <script>\n",
              "      const buttonEl =\n",
              "        document.querySelector('#df-82368cb4-b48e-4c7e-905e-166808fc9ab5 button.colab-df-convert');\n",
              "      buttonEl.style.display =\n",
              "        google.colab.kernel.accessAllowed ? 'block' : 'none';\n",
              "\n",
              "      async function convertToInteractive(key) {\n",
              "        const element = document.querySelector('#df-82368cb4-b48e-4c7e-905e-166808fc9ab5');\n",
              "        const dataTable =\n",
              "          await google.colab.kernel.invokeFunction('convertToInteractive',\n",
              "                                                    [key], {});\n",
              "        if (!dataTable) return;\n",
              "\n",
              "        const docLinkHtml = 'Like what you see? Visit the ' +\n",
              "          '<a target=\"_blank\" href=https://colab.research.google.com/notebooks/data_table.ipynb>data table notebook</a>'\n",
              "          + ' to learn more about interactive tables.';\n",
              "        element.innerHTML = '';\n",
              "        dataTable['output_type'] = 'display_data';\n",
              "        await google.colab.output.renderOutput(dataTable, element);\n",
              "        const docLink = document.createElement('div');\n",
              "        docLink.innerHTML = docLinkHtml;\n",
              "        element.appendChild(docLink);\n",
              "      }\n",
              "    </script>\n",
              "  </div>\n",
              "\n",
              "\n",
              "<div id=\"df-bb8873b5-5bfd-405e-a11a-2d9c217a157b\">\n",
              "  <button class=\"colab-df-quickchart\" onclick=\"quickchart('df-bb8873b5-5bfd-405e-a11a-2d9c217a157b')\"\n",
              "            title=\"Suggest charts.\"\n",
              "            style=\"display:none;\">\n",
              "\n",
              "<svg xmlns=\"http://www.w3.org/2000/svg\" height=\"24px\"viewBox=\"0 0 24 24\"\n",
              "     width=\"24px\">\n",
              "    <g>\n",
              "        <path d=\"M19 3H5c-1.1 0-2 .9-2 2v14c0 1.1.9 2 2 2h14c1.1 0 2-.9 2-2V5c0-1.1-.9-2-2-2zM9 17H7v-7h2v7zm4 0h-2V7h2v10zm4 0h-2v-4h2v4z\"/>\n",
              "    </g>\n",
              "</svg>\n",
              "  </button>\n",
              "\n",
              "<style>\n",
              "  .colab-df-quickchart {\n",
              "      --bg-color: #E8F0FE;\n",
              "      --fill-color: #1967D2;\n",
              "      --hover-bg-color: #E2EBFA;\n",
              "      --hover-fill-color: #174EA6;\n",
              "      --disabled-fill-color: #AAA;\n",
              "      --disabled-bg-color: #DDD;\n",
              "  }\n",
              "\n",
              "  [theme=dark] .colab-df-quickchart {\n",
              "      --bg-color: #3B4455;\n",
              "      --fill-color: #D2E3FC;\n",
              "      --hover-bg-color: #434B5C;\n",
              "      --hover-fill-color: #FFFFFF;\n",
              "      --disabled-bg-color: #3B4455;\n",
              "      --disabled-fill-color: #666;\n",
              "  }\n",
              "\n",
              "  .colab-df-quickchart {\n",
              "    background-color: var(--bg-color);\n",
              "    border: none;\n",
              "    border-radius: 50%;\n",
              "    cursor: pointer;\n",
              "    display: none;\n",
              "    fill: var(--fill-color);\n",
              "    height: 32px;\n",
              "    padding: 0;\n",
              "    width: 32px;\n",
              "  }\n",
              "\n",
              "  .colab-df-quickchart:hover {\n",
              "    background-color: var(--hover-bg-color);\n",
              "    box-shadow: 0 1px 2px rgba(60, 64, 67, 0.3), 0 1px 3px 1px rgba(60, 64, 67, 0.15);\n",
              "    fill: var(--button-hover-fill-color);\n",
              "  }\n",
              "\n",
              "  .colab-df-quickchart-complete:disabled,\n",
              "  .colab-df-quickchart-complete:disabled:hover {\n",
              "    background-color: var(--disabled-bg-color);\n",
              "    fill: var(--disabled-fill-color);\n",
              "    box-shadow: none;\n",
              "  }\n",
              "\n",
              "  .colab-df-spinner {\n",
              "    border: 2px solid var(--fill-color);\n",
              "    border-color: transparent;\n",
              "    border-bottom-color: var(--fill-color);\n",
              "    animation:\n",
              "      spin 1s steps(1) infinite;\n",
              "  }\n",
              "\n",
              "  @keyframes spin {\n",
              "    0% {\n",
              "      border-color: transparent;\n",
              "      border-bottom-color: var(--fill-color);\n",
              "      border-left-color: var(--fill-color);\n",
              "    }\n",
              "    20% {\n",
              "      border-color: transparent;\n",
              "      border-left-color: var(--fill-color);\n",
              "      border-top-color: var(--fill-color);\n",
              "    }\n",
              "    30% {\n",
              "      border-color: transparent;\n",
              "      border-left-color: var(--fill-color);\n",
              "      border-top-color: var(--fill-color);\n",
              "      border-right-color: var(--fill-color);\n",
              "    }\n",
              "    40% {\n",
              "      border-color: transparent;\n",
              "      border-right-color: var(--fill-color);\n",
              "      border-top-color: var(--fill-color);\n",
              "    }\n",
              "    60% {\n",
              "      border-color: transparent;\n",
              "      border-right-color: var(--fill-color);\n",
              "    }\n",
              "    80% {\n",
              "      border-color: transparent;\n",
              "      border-right-color: var(--fill-color);\n",
              "      border-bottom-color: var(--fill-color);\n",
              "    }\n",
              "    90% {\n",
              "      border-color: transparent;\n",
              "      border-bottom-color: var(--fill-color);\n",
              "    }\n",
              "  }\n",
              "</style>\n",
              "\n",
              "  <script>\n",
              "    async function quickchart(key) {\n",
              "      const quickchartButtonEl =\n",
              "        document.querySelector('#' + key + ' button');\n",
              "      quickchartButtonEl.disabled = true;  // To prevent multiple clicks.\n",
              "      quickchartButtonEl.classList.add('colab-df-spinner');\n",
              "      try {\n",
              "        const charts = await google.colab.kernel.invokeFunction(\n",
              "            'suggestCharts', [key], {});\n",
              "      } catch (error) {\n",
              "        console.error('Error during call to suggestCharts:', error);\n",
              "      }\n",
              "      quickchartButtonEl.classList.remove('colab-df-spinner');\n",
              "      quickchartButtonEl.classList.add('colab-df-quickchart-complete');\n",
              "    }\n",
              "    (() => {\n",
              "      let quickchartButtonEl =\n",
              "        document.querySelector('#df-bb8873b5-5bfd-405e-a11a-2d9c217a157b button');\n",
              "      quickchartButtonEl.style.display =\n",
              "        google.colab.kernel.accessAllowed ? 'block' : 'none';\n",
              "    })();\n",
              "  </script>\n",
              "</div>\n",
              "    </div>\n",
              "  </div>\n"
            ],
            "text/plain": [
              "      price  bedrooms  bathrooms  sqft_living  sqft_lot  floors  waterfront  \\\n",
              "0  221900.0         3       1.00         1180      5650     1.0           0   \n",
              "1  538000.0         3       2.25         2570      7242     2.0           0   \n",
              "\n",
              "   view  condition  grade  ...  sqft_basement  yr_built  yr_renovated  \\\n",
              "0     0          3      7  ...              0    1955.0           0.0   \n",
              "1     0          3      7  ...            400    1951.0        1991.0   \n",
              "\n",
              "   zipcode      lat     long  sqft_living15  sqft_lot15  year  month  \n",
              "0  98178.0  47.5112 -122.257         1340.0      5650.0  2014     10  \n",
              "1  98125.0  47.7210 -122.319         1690.0      7639.0  2014     12  \n",
              "\n",
              "[2 rows x 21 columns]"
            ]
          },
          "execution_count": 39,
          "metadata": {},
          "output_type": "execute_result"
        }
      ],
      "source": [
        "df.head(2)"
      ]
    },
    {
      "cell_type": "markdown",
      "metadata": {
        "id": "zFobYxm7TTV3"
      },
      "source": [
        "### Zipcode column"
      ]
    },
    {
      "cell_type": "code",
      "execution_count": null,
      "metadata": {
        "colab": {
          "background_save": true,
          "base_uri": "https://localhost:8080/"
        },
        "id": "4FToSVCtTrLI",
        "outputId": "e721f8a4-b28c-439d-c798-6ac586dd6cba"
      },
      "outputs": [
        {
          "data": {
            "text/plain": [
              "98038.0    282\n",
              "98052.0    282\n",
              "98115.0    281\n",
              "98034.0    277\n",
              "98117.0    267\n",
              "          ... \n",
              "98109.0     49\n",
              "98024.0     47\n",
              "98102.0     45\n",
              "98148.0     29\n",
              "98039.0     16\n",
              "Name: zipcode, Length: 70, dtype: int64"
            ]
          },
          "execution_count": 40,
          "metadata": {},
          "output_type": "execute_result"
        }
      ],
      "source": [
        "df['zipcode'].value_counts()"
      ]
    },
    {
      "cell_type": "markdown",
      "metadata": {
        "id": "EJ3A24S9TtOC"
      },
      "source": [
        "What we can further do is to map the expensive zip codes and inexpensive zip code areas categories. For this one, it will be helpful to approach domain expert."
      ]
    },
    {
      "cell_type": "code",
      "execution_count": null,
      "metadata": {
        "colab": {
          "background_save": true
        },
        "id": "IT9kuFUbUVbO"
      },
      "outputs": [],
      "source": [
        "# for this project, we will drop zipcode.\n",
        "\n",
        "df = df.drop('zipcode', axis=1)"
      ]
    },
    {
      "cell_type": "markdown",
      "metadata": {
        "id": "PvBsdvs_Uf8O"
      },
      "source": [
        "### yr_renovated column\n",
        "\n",
        "We can see there a lot of houses have `0` value which indicate `no rennovation`. So it makes more sense to have `has renovate: YES/NO` value rather than the year iteself.\n",
        "\n",
        "However on the flip side, we can intuitively think that `more recently renovated houses will have higher values`. Those houses are associated with high number of year. The smaller the year value (meaning the not very recently renovated), it is likely that prices can be lower. So for NO RENOVATION HOUSES with 0 value is alinged with it.  0 => 1944 => 2000 => 2014, the price can get higher.\n",
        "\n",
        "So we don't really need to make any changes for this column and leave it like that."
      ]
    },
    {
      "cell_type": "code",
      "execution_count": null,
      "metadata": {
        "colab": {
          "background_save": true,
          "base_uri": "https://localhost:8080/"
        },
        "id": "9-T0Wv_wVU3N",
        "outputId": "48b5656b-6142-4565-87c5-94010266cdba"
      },
      "outputs": [
        {
          "data": {
            "text/plain": [
              "0.0       9798\n",
              "2014.0      54\n",
              "2005.0      23\n",
              "2013.0      21\n",
              "2003.0      20\n",
              "          ... \n",
              "1957.0       1\n",
              "1956.0       1\n",
              "1954.0       1\n",
              "1976.0       1\n",
              "1946.0       1\n",
              "Name: yr_renovated, Length: 64, dtype: int64"
            ]
          },
          "execution_count": 42,
          "metadata": {},
          "output_type": "execute_result"
        }
      ],
      "source": [
        "df['yr_renovated'].value_counts()"
      ]
    },
    {
      "cell_type": "markdown",
      "metadata": {
        "id": "-HhTnnbDVXzJ"
      },
      "source": [
        "### sqft_basement\n",
        "\n",
        "There is a similar situation with `sqft_basement` column too."
      ]
    },
    {
      "cell_type": "code",
      "execution_count": null,
      "metadata": {
        "colab": {
          "background_save": true,
          "base_uri": "https://localhost:8080/"
        },
        "id": "S7IwvJusXeCu",
        "outputId": "981a0adb-a5f9-404d-dea6-5f3110d88e87"
      },
      "outputs": [
        {
          "data": {
            "text/plain": [
              "0       6159\n",
              "700      112\n",
              "600      111\n",
              "500      109\n",
              "400      105\n",
              "        ... \n",
              "1960       1\n",
              "588        1\n",
              "2100       1\n",
              "3000       1\n",
              "3260       1\n",
              "Name: sqft_basement, Length: 239, dtype: int64"
            ]
          },
          "execution_count": 43,
          "metadata": {},
          "output_type": "execute_result"
        }
      ],
      "source": [
        "df['sqft_basement'].value_counts()"
      ]
    },
    {
      "cell_type": "code",
      "execution_count": null,
      "metadata": {
        "colab": {
          "background_save": true,
          "base_uri": "https://localhost:8080/",
          "height": 112
        },
        "id": "HhDjCYj6blfK",
        "outputId": "c2b65747-8224-4ae8-e9e2-a751ecf2a657"
      },
      "outputs": [
        {
          "data": {
            "text/html": [
              "\n",
              "  <div id=\"df-afdfeb34-a34f-4500-add4-2ad1e8718cd4\" class=\"colab-df-container\">\n",
              "    <div>\n",
              "<style scoped>\n",
              "    .dataframe tbody tr th:only-of-type {\n",
              "        vertical-align: middle;\n",
              "    }\n",
              "\n",
              "    .dataframe tbody tr th {\n",
              "        vertical-align: top;\n",
              "    }\n",
              "\n",
              "    .dataframe thead th {\n",
              "        text-align: right;\n",
              "    }\n",
              "</style>\n",
              "<table border=\"1\" class=\"dataframe\">\n",
              "  <thead>\n",
              "    <tr style=\"text-align: right;\">\n",
              "      <th></th>\n",
              "      <th>price</th>\n",
              "      <th>bedrooms</th>\n",
              "      <th>bathrooms</th>\n",
              "      <th>sqft_living</th>\n",
              "      <th>sqft_lot</th>\n",
              "      <th>floors</th>\n",
              "      <th>waterfront</th>\n",
              "      <th>view</th>\n",
              "      <th>condition</th>\n",
              "      <th>grade</th>\n",
              "      <th>sqft_above</th>\n",
              "      <th>sqft_basement</th>\n",
              "      <th>yr_built</th>\n",
              "      <th>yr_renovated</th>\n",
              "      <th>lat</th>\n",
              "      <th>long</th>\n",
              "      <th>sqft_living15</th>\n",
              "      <th>sqft_lot15</th>\n",
              "      <th>year</th>\n",
              "      <th>month</th>\n",
              "    </tr>\n",
              "  </thead>\n",
              "  <tbody>\n",
              "    <tr>\n",
              "      <th>0</th>\n",
              "      <td>221900.0</td>\n",
              "      <td>3</td>\n",
              "      <td>1.00</td>\n",
              "      <td>1180</td>\n",
              "      <td>5650</td>\n",
              "      <td>1.0</td>\n",
              "      <td>0</td>\n",
              "      <td>0</td>\n",
              "      <td>3</td>\n",
              "      <td>7</td>\n",
              "      <td>1180</td>\n",
              "      <td>0</td>\n",
              "      <td>1955.0</td>\n",
              "      <td>0.0</td>\n",
              "      <td>47.5112</td>\n",
              "      <td>-122.257</td>\n",
              "      <td>1340.0</td>\n",
              "      <td>5650.0</td>\n",
              "      <td>2014</td>\n",
              "      <td>10</td>\n",
              "    </tr>\n",
              "    <tr>\n",
              "      <th>1</th>\n",
              "      <td>538000.0</td>\n",
              "      <td>3</td>\n",
              "      <td>2.25</td>\n",
              "      <td>2570</td>\n",
              "      <td>7242</td>\n",
              "      <td>2.0</td>\n",
              "      <td>0</td>\n",
              "      <td>0</td>\n",
              "      <td>3</td>\n",
              "      <td>7</td>\n",
              "      <td>2170</td>\n",
              "      <td>400</td>\n",
              "      <td>1951.0</td>\n",
              "      <td>1991.0</td>\n",
              "      <td>47.7210</td>\n",
              "      <td>-122.319</td>\n",
              "      <td>1690.0</td>\n",
              "      <td>7639.0</td>\n",
              "      <td>2014</td>\n",
              "      <td>12</td>\n",
              "    </tr>\n",
              "  </tbody>\n",
              "</table>\n",
              "</div>\n",
              "    <div class=\"colab-df-buttons\">\n",
              "\n",
              "  <div class=\"colab-df-container\">\n",
              "    <button class=\"colab-df-convert\" onclick=\"convertToInteractive('df-afdfeb34-a34f-4500-add4-2ad1e8718cd4')\"\n",
              "            title=\"Convert this dataframe to an interactive table.\"\n",
              "            style=\"display:none;\">\n",
              "\n",
              "  <svg xmlns=\"http://www.w3.org/2000/svg\" height=\"24px\" viewBox=\"0 -960 960 960\">\n",
              "    <path d=\"M120-120v-720h720v720H120Zm60-500h600v-160H180v160Zm220 220h160v-160H400v160Zm0 220h160v-160H400v160ZM180-400h160v-160H180v160Zm440 0h160v-160H620v160ZM180-180h160v-160H180v160Zm440 0h160v-160H620v160Z\"/>\n",
              "  </svg>\n",
              "    </button>\n",
              "\n",
              "  <style>\n",
              "    .colab-df-container {\n",
              "      display:flex;\n",
              "      gap: 12px;\n",
              "    }\n",
              "\n",
              "    .colab-df-convert {\n",
              "      background-color: #E8F0FE;\n",
              "      border: none;\n",
              "      border-radius: 50%;\n",
              "      cursor: pointer;\n",
              "      display: none;\n",
              "      fill: #1967D2;\n",
              "      height: 32px;\n",
              "      padding: 0 0 0 0;\n",
              "      width: 32px;\n",
              "    }\n",
              "\n",
              "    .colab-df-convert:hover {\n",
              "      background-color: #E2EBFA;\n",
              "      box-shadow: 0px 1px 2px rgba(60, 64, 67, 0.3), 0px 1px 3px 1px rgba(60, 64, 67, 0.15);\n",
              "      fill: #174EA6;\n",
              "    }\n",
              "\n",
              "    .colab-df-buttons div {\n",
              "      margin-bottom: 4px;\n",
              "    }\n",
              "\n",
              "    [theme=dark] .colab-df-convert {\n",
              "      background-color: #3B4455;\n",
              "      fill: #D2E3FC;\n",
              "    }\n",
              "\n",
              "    [theme=dark] .colab-df-convert:hover {\n",
              "      background-color: #434B5C;\n",
              "      box-shadow: 0px 1px 3px 1px rgba(0, 0, 0, 0.15);\n",
              "      filter: drop-shadow(0px 1px 2px rgba(0, 0, 0, 0.3));\n",
              "      fill: #FFFFFF;\n",
              "    }\n",
              "  </style>\n",
              "\n",
              "    <script>\n",
              "      const buttonEl =\n",
              "        document.querySelector('#df-afdfeb34-a34f-4500-add4-2ad1e8718cd4 button.colab-df-convert');\n",
              "      buttonEl.style.display =\n",
              "        google.colab.kernel.accessAllowed ? 'block' : 'none';\n",
              "\n",
              "      async function convertToInteractive(key) {\n",
              "        const element = document.querySelector('#df-afdfeb34-a34f-4500-add4-2ad1e8718cd4');\n",
              "        const dataTable =\n",
              "          await google.colab.kernel.invokeFunction('convertToInteractive',\n",
              "                                                    [key], {});\n",
              "        if (!dataTable) return;\n",
              "\n",
              "        const docLinkHtml = 'Like what you see? Visit the ' +\n",
              "          '<a target=\"_blank\" href=https://colab.research.google.com/notebooks/data_table.ipynb>data table notebook</a>'\n",
              "          + ' to learn more about interactive tables.';\n",
              "        element.innerHTML = '';\n",
              "        dataTable['output_type'] = 'display_data';\n",
              "        await google.colab.output.renderOutput(dataTable, element);\n",
              "        const docLink = document.createElement('div');\n",
              "        docLink.innerHTML = docLinkHtml;\n",
              "        element.appendChild(docLink);\n",
              "      }\n",
              "    </script>\n",
              "  </div>\n",
              "\n",
              "\n",
              "<div id=\"df-29cbcb3a-0278-4094-a724-20cd0b8b1b6b\">\n",
              "  <button class=\"colab-df-quickchart\" onclick=\"quickchart('df-29cbcb3a-0278-4094-a724-20cd0b8b1b6b')\"\n",
              "            title=\"Suggest charts.\"\n",
              "            style=\"display:none;\">\n",
              "\n",
              "<svg xmlns=\"http://www.w3.org/2000/svg\" height=\"24px\"viewBox=\"0 0 24 24\"\n",
              "     width=\"24px\">\n",
              "    <g>\n",
              "        <path d=\"M19 3H5c-1.1 0-2 .9-2 2v14c0 1.1.9 2 2 2h14c1.1 0 2-.9 2-2V5c0-1.1-.9-2-2-2zM9 17H7v-7h2v7zm4 0h-2V7h2v10zm4 0h-2v-4h2v4z\"/>\n",
              "    </g>\n",
              "</svg>\n",
              "  </button>\n",
              "\n",
              "<style>\n",
              "  .colab-df-quickchart {\n",
              "      --bg-color: #E8F0FE;\n",
              "      --fill-color: #1967D2;\n",
              "      --hover-bg-color: #E2EBFA;\n",
              "      --hover-fill-color: #174EA6;\n",
              "      --disabled-fill-color: #AAA;\n",
              "      --disabled-bg-color: #DDD;\n",
              "  }\n",
              "\n",
              "  [theme=dark] .colab-df-quickchart {\n",
              "      --bg-color: #3B4455;\n",
              "      --fill-color: #D2E3FC;\n",
              "      --hover-bg-color: #434B5C;\n",
              "      --hover-fill-color: #FFFFFF;\n",
              "      --disabled-bg-color: #3B4455;\n",
              "      --disabled-fill-color: #666;\n",
              "  }\n",
              "\n",
              "  .colab-df-quickchart {\n",
              "    background-color: var(--bg-color);\n",
              "    border: none;\n",
              "    border-radius: 50%;\n",
              "    cursor: pointer;\n",
              "    display: none;\n",
              "    fill: var(--fill-color);\n",
              "    height: 32px;\n",
              "    padding: 0;\n",
              "    width: 32px;\n",
              "  }\n",
              "\n",
              "  .colab-df-quickchart:hover {\n",
              "    background-color: var(--hover-bg-color);\n",
              "    box-shadow: 0 1px 2px rgba(60, 64, 67, 0.3), 0 1px 3px 1px rgba(60, 64, 67, 0.15);\n",
              "    fill: var(--button-hover-fill-color);\n",
              "  }\n",
              "\n",
              "  .colab-df-quickchart-complete:disabled,\n",
              "  .colab-df-quickchart-complete:disabled:hover {\n",
              "    background-color: var(--disabled-bg-color);\n",
              "    fill: var(--disabled-fill-color);\n",
              "    box-shadow: none;\n",
              "  }\n",
              "\n",
              "  .colab-df-spinner {\n",
              "    border: 2px solid var(--fill-color);\n",
              "    border-color: transparent;\n",
              "    border-bottom-color: var(--fill-color);\n",
              "    animation:\n",
              "      spin 1s steps(1) infinite;\n",
              "  }\n",
              "\n",
              "  @keyframes spin {\n",
              "    0% {\n",
              "      border-color: transparent;\n",
              "      border-bottom-color: var(--fill-color);\n",
              "      border-left-color: var(--fill-color);\n",
              "    }\n",
              "    20% {\n",
              "      border-color: transparent;\n",
              "      border-left-color: var(--fill-color);\n",
              "      border-top-color: var(--fill-color);\n",
              "    }\n",
              "    30% {\n",
              "      border-color: transparent;\n",
              "      border-left-color: var(--fill-color);\n",
              "      border-top-color: var(--fill-color);\n",
              "      border-right-color: var(--fill-color);\n",
              "    }\n",
              "    40% {\n",
              "      border-color: transparent;\n",
              "      border-right-color: var(--fill-color);\n",
              "      border-top-color: var(--fill-color);\n",
              "    }\n",
              "    60% {\n",
              "      border-color: transparent;\n",
              "      border-right-color: var(--fill-color);\n",
              "    }\n",
              "    80% {\n",
              "      border-color: transparent;\n",
              "      border-right-color: var(--fill-color);\n",
              "      border-bottom-color: var(--fill-color);\n",
              "    }\n",
              "    90% {\n",
              "      border-color: transparent;\n",
              "      border-bottom-color: var(--fill-color);\n",
              "    }\n",
              "  }\n",
              "</style>\n",
              "\n",
              "  <script>\n",
              "    async function quickchart(key) {\n",
              "      const quickchartButtonEl =\n",
              "        document.querySelector('#' + key + ' button');\n",
              "      quickchartButtonEl.disabled = true;  // To prevent multiple clicks.\n",
              "      quickchartButtonEl.classList.add('colab-df-spinner');\n",
              "      try {\n",
              "        const charts = await google.colab.kernel.invokeFunction(\n",
              "            'suggestCharts', [key], {});\n",
              "      } catch (error) {\n",
              "        console.error('Error during call to suggestCharts:', error);\n",
              "      }\n",
              "      quickchartButtonEl.classList.remove('colab-df-spinner');\n",
              "      quickchartButtonEl.classList.add('colab-df-quickchart-complete');\n",
              "    }\n",
              "    (() => {\n",
              "      let quickchartButtonEl =\n",
              "        document.querySelector('#df-29cbcb3a-0278-4094-a724-20cd0b8b1b6b button');\n",
              "      quickchartButtonEl.style.display =\n",
              "        google.colab.kernel.accessAllowed ? 'block' : 'none';\n",
              "    })();\n",
              "  </script>\n",
              "</div>\n",
              "    </div>\n",
              "  </div>\n"
            ],
            "text/plain": [
              "      price  bedrooms  bathrooms  sqft_living  sqft_lot  floors  waterfront  \\\n",
              "0  221900.0         3       1.00         1180      5650     1.0           0   \n",
              "1  538000.0         3       2.25         2570      7242     2.0           0   \n",
              "\n",
              "   view  condition  grade  sqft_above  sqft_basement  yr_built  yr_renovated  \\\n",
              "0     0          3      7        1180              0    1955.0           0.0   \n",
              "1     0          3      7        2170            400    1951.0        1991.0   \n",
              "\n",
              "       lat     long  sqft_living15  sqft_lot15  year  month  \n",
              "0  47.5112 -122.257         1340.0      5650.0  2014     10  \n",
              "1  47.7210 -122.319         1690.0      7639.0  2014     12  "
            ]
          },
          "execution_count": 44,
          "metadata": {},
          "output_type": "execute_result"
        }
      ],
      "source": [
        "df.head(2)"
      ]
    },
    {
      "cell_type": "markdown",
      "metadata": {
        "id": "PSeRTKn1Xf8S"
      },
      "source": [
        "# Scaling and Train Test Split"
      ]
    },
    {
      "cell_type": "code",
      "execution_count": null,
      "metadata": {
        "colab": {
          "background_save": true
        },
        "id": "3zXgiYo7bZO_"
      },
      "outputs": [],
      "source": [
        "# separate Features and Labels\n",
        "# tensor can only work with numeric array, not with pandas series or dataframe\n",
        "from sklearn.model_selection import train_test_split"
      ]
    },
    {
      "cell_type": "code",
      "execution_count": null,
      "metadata": {
        "colab": {
          "background_save": true
        },
        "id": "f08W7i29cCz2"
      },
      "outputs": [],
      "source": [
        "x = df.drop('price', axis=1).values"
      ]
    },
    {
      "cell_type": "code",
      "execution_count": null,
      "metadata": {
        "colab": {
          "background_save": true
        },
        "id": "x8GtI61ZbSiJ"
      },
      "outputs": [],
      "source": [
        "y = df['price']"
      ]
    },
    {
      "cell_type": "markdown",
      "metadata": {
        "id": "eGlMHxgvDM7t"
      },
      "source": [
        "train_test_split"
      ]
    },
    {
      "cell_type": "code",
      "execution_count": null,
      "metadata": {
        "colab": {
          "background_save": true
        },
        "id": "GP-ne0PBcHAu"
      },
      "outputs": [],
      "source": [
        "xtrain ,xtest, ytrain, ytest =train_test_split(x,y,test_size=0.3,random_state=20)"
      ]
    },
    {
      "cell_type": "markdown",
      "metadata": {
        "id": "0C9E81zInE5m"
      },
      "source": [
        "## Scaling"
      ]
    },
    {
      "cell_type": "code",
      "execution_count": null,
      "metadata": {
        "colab": {
          "background_save": true
        },
        "id": "XED_jHdjdgWf"
      },
      "outputs": [],
      "source": [
        "# Scaling\n",
        "from sklearn.preprocessing import RobustScaler"
      ]
    },
    {
      "cell_type": "code",
      "execution_count": null,
      "metadata": {
        "colab": {
          "background_save": true
        },
        "id": "gkA3dlnmm3JJ"
      },
      "outputs": [],
      "source": [
        "scaler = RobustScaler()\n",
        "x_train_scaled=scaler.fit_transform(xtrain)\n",
        "x_test_scaled=scaler.transform(xtest)"
      ]
    },
    {
      "cell_type": "code",
      "execution_count": null,
      "metadata": {
        "colab": {
          "background_save": true,
          "base_uri": "https://localhost:8080/"
        },
        "id": "H1RO-UQBm4uE",
        "outputId": "8eb7901b-e7de-4cb0-abd4-b0821c1c0e15"
      },
      "outputs": [
        {
          "data": {
            "text/plain": [
              "(nan, nan, -3.0, 2015.0)"
            ]
          },
          "execution_count": 51,
          "metadata": {},
          "output_type": "execute_result"
        }
      ],
      "source": [
        "x_train_scaled.min(),x_train_scaled.max(),x_test_scaled.min(),x_test_scaled.max()"
      ]
    },
    {
      "cell_type": "markdown",
      "metadata": {
        "id": "odQy0LnfnAD9"
      },
      "source": [
        "# Model Building"
      ]
    },
    {
      "cell_type": "code",
      "execution_count": null,
      "metadata": {
        "colab": {
          "background_save": true
        },
        "id": "hi0HS1YInABK"
      },
      "outputs": [],
      "source": [
        "from tensorflow.keras.models import Sequential\n",
        "from tensorflow.keras.layers import Dense"
      ]
    },
    {
      "cell_type": "code",
      "execution_count": null,
      "metadata": {
        "colab": {
          "background_save": true,
          "base_uri": "https://localhost:8080/",
          "height": 424
        },
        "id": "ukrp_iAvNt1w",
        "outputId": "3d9fe032-6bde-406d-9ecc-36e1d9f5b06f"
      },
      "outputs": [
        {
          "data": {
            "text/html": [
              "\n",
              "  <div id=\"df-4a2ac21f-c90a-422b-bde5-75ac35d3afd1\" class=\"colab-df-container\">\n",
              "    <div>\n",
              "<style scoped>\n",
              "    .dataframe tbody tr th:only-of-type {\n",
              "        vertical-align: middle;\n",
              "    }\n",
              "\n",
              "    .dataframe tbody tr th {\n",
              "        vertical-align: top;\n",
              "    }\n",
              "\n",
              "    .dataframe thead th {\n",
              "        text-align: right;\n",
              "    }\n",
              "</style>\n",
              "<table border=\"1\" class=\"dataframe\">\n",
              "  <thead>\n",
              "    <tr style=\"text-align: right;\">\n",
              "      <th></th>\n",
              "      <th>price</th>\n",
              "      <th>bedrooms</th>\n",
              "      <th>bathrooms</th>\n",
              "      <th>sqft_living</th>\n",
              "      <th>sqft_lot</th>\n",
              "      <th>floors</th>\n",
              "      <th>waterfront</th>\n",
              "      <th>view</th>\n",
              "      <th>condition</th>\n",
              "      <th>grade</th>\n",
              "      <th>sqft_above</th>\n",
              "      <th>sqft_basement</th>\n",
              "      <th>yr_built</th>\n",
              "      <th>yr_renovated</th>\n",
              "      <th>lat</th>\n",
              "      <th>long</th>\n",
              "      <th>sqft_living15</th>\n",
              "      <th>sqft_lot15</th>\n",
              "      <th>year</th>\n",
              "      <th>month</th>\n",
              "    </tr>\n",
              "  </thead>\n",
              "  <tbody>\n",
              "    <tr>\n",
              "      <th>0</th>\n",
              "      <td>221900.0</td>\n",
              "      <td>3</td>\n",
              "      <td>1.00</td>\n",
              "      <td>1180</td>\n",
              "      <td>5650</td>\n",
              "      <td>1.0</td>\n",
              "      <td>0</td>\n",
              "      <td>0</td>\n",
              "      <td>3</td>\n",
              "      <td>7</td>\n",
              "      <td>1180</td>\n",
              "      <td>0</td>\n",
              "      <td>1955.0</td>\n",
              "      <td>0.0</td>\n",
              "      <td>47.5112</td>\n",
              "      <td>-122.257</td>\n",
              "      <td>1340.0</td>\n",
              "      <td>5650.0</td>\n",
              "      <td>2014</td>\n",
              "      <td>10</td>\n",
              "    </tr>\n",
              "    <tr>\n",
              "      <th>1</th>\n",
              "      <td>538000.0</td>\n",
              "      <td>3</td>\n",
              "      <td>2.25</td>\n",
              "      <td>2570</td>\n",
              "      <td>7242</td>\n",
              "      <td>2.0</td>\n",
              "      <td>0</td>\n",
              "      <td>0</td>\n",
              "      <td>3</td>\n",
              "      <td>7</td>\n",
              "      <td>2170</td>\n",
              "      <td>400</td>\n",
              "      <td>1951.0</td>\n",
              "      <td>1991.0</td>\n",
              "      <td>47.7210</td>\n",
              "      <td>-122.319</td>\n",
              "      <td>1690.0</td>\n",
              "      <td>7639.0</td>\n",
              "      <td>2014</td>\n",
              "      <td>12</td>\n",
              "    </tr>\n",
              "    <tr>\n",
              "      <th>2</th>\n",
              "      <td>180000.0</td>\n",
              "      <td>2</td>\n",
              "      <td>1.00</td>\n",
              "      <td>770</td>\n",
              "      <td>10000</td>\n",
              "      <td>1.0</td>\n",
              "      <td>0</td>\n",
              "      <td>0</td>\n",
              "      <td>3</td>\n",
              "      <td>6</td>\n",
              "      <td>770</td>\n",
              "      <td>0</td>\n",
              "      <td>1933.0</td>\n",
              "      <td>0.0</td>\n",
              "      <td>47.7379</td>\n",
              "      <td>-122.233</td>\n",
              "      <td>2720.0</td>\n",
              "      <td>8062.0</td>\n",
              "      <td>2015</td>\n",
              "      <td>2</td>\n",
              "    </tr>\n",
              "    <tr>\n",
              "      <th>3</th>\n",
              "      <td>604000.0</td>\n",
              "      <td>4</td>\n",
              "      <td>3.00</td>\n",
              "      <td>1960</td>\n",
              "      <td>5000</td>\n",
              "      <td>1.0</td>\n",
              "      <td>0</td>\n",
              "      <td>0</td>\n",
              "      <td>5</td>\n",
              "      <td>7</td>\n",
              "      <td>1050</td>\n",
              "      <td>910</td>\n",
              "      <td>1965.0</td>\n",
              "      <td>0.0</td>\n",
              "      <td>47.5208</td>\n",
              "      <td>-122.393</td>\n",
              "      <td>1360.0</td>\n",
              "      <td>5000.0</td>\n",
              "      <td>2014</td>\n",
              "      <td>12</td>\n",
              "    </tr>\n",
              "    <tr>\n",
              "      <th>4</th>\n",
              "      <td>510000.0</td>\n",
              "      <td>3</td>\n",
              "      <td>2.00</td>\n",
              "      <td>1680</td>\n",
              "      <td>8080</td>\n",
              "      <td>1.0</td>\n",
              "      <td>0</td>\n",
              "      <td>0</td>\n",
              "      <td>3</td>\n",
              "      <td>8</td>\n",
              "      <td>1680</td>\n",
              "      <td>0</td>\n",
              "      <td>1987.0</td>\n",
              "      <td>0.0</td>\n",
              "      <td>47.6168</td>\n",
              "      <td>-122.045</td>\n",
              "      <td>1800.0</td>\n",
              "      <td>7503.0</td>\n",
              "      <td>2015</td>\n",
              "      <td>2</td>\n",
              "    </tr>\n",
              "    <tr>\n",
              "      <th>...</th>\n",
              "      <td>...</td>\n",
              "      <td>...</td>\n",
              "      <td>...</td>\n",
              "      <td>...</td>\n",
              "      <td>...</td>\n",
              "      <td>...</td>\n",
              "      <td>...</td>\n",
              "      <td>...</td>\n",
              "      <td>...</td>\n",
              "      <td>...</td>\n",
              "      <td>...</td>\n",
              "      <td>...</td>\n",
              "      <td>...</td>\n",
              "      <td>...</td>\n",
              "      <td>...</td>\n",
              "      <td>...</td>\n",
              "      <td>...</td>\n",
              "      <td>...</td>\n",
              "      <td>...</td>\n",
              "      <td>...</td>\n",
              "    </tr>\n",
              "    <tr>\n",
              "      <th>10262</th>\n",
              "      <td>208000.0</td>\n",
              "      <td>3</td>\n",
              "      <td>1.00</td>\n",
              "      <td>920</td>\n",
              "      <td>7314</td>\n",
              "      <td>1.0</td>\n",
              "      <td>0</td>\n",
              "      <td>0</td>\n",
              "      <td>3</td>\n",
              "      <td>6</td>\n",
              "      <td>920</td>\n",
              "      <td>0</td>\n",
              "      <td>1960.0</td>\n",
              "      <td>0.0</td>\n",
              "      <td>47.2892</td>\n",
              "      <td>-122.220</td>\n",
              "      <td>1010.0</td>\n",
              "      <td>7420.0</td>\n",
              "      <td>2015</td>\n",
              "      <td>3</td>\n",
              "    </tr>\n",
              "    <tr>\n",
              "      <th>10263</th>\n",
              "      <td>325000.0</td>\n",
              "      <td>4</td>\n",
              "      <td>2.00</td>\n",
              "      <td>1780</td>\n",
              "      <td>10622</td>\n",
              "      <td>1.0</td>\n",
              "      <td>0</td>\n",
              "      <td>0</td>\n",
              "      <td>4</td>\n",
              "      <td>7</td>\n",
              "      <td>900</td>\n",
              "      <td>880</td>\n",
              "      <td>1976.0</td>\n",
              "      <td>0.0</td>\n",
              "      <td>47.4573</td>\n",
              "      <td>-122.158</td>\n",
              "      <td>1550.0</td>\n",
              "      <td>8900.0</td>\n",
              "      <td>2014</td>\n",
              "      <td>9</td>\n",
              "    </tr>\n",
              "    <tr>\n",
              "      <th>10264</th>\n",
              "      <td>597157.0</td>\n",
              "      <td>7</td>\n",
              "      <td>4.00</td>\n",
              "      <td>2690</td>\n",
              "      <td>10880</td>\n",
              "      <td>1.0</td>\n",
              "      <td>0</td>\n",
              "      <td>0</td>\n",
              "      <td>4</td>\n",
              "      <td>8</td>\n",
              "      <td>2690</td>\n",
              "      <td>0</td>\n",
              "      <td>1960.0</td>\n",
              "      <td>0.0</td>\n",
              "      <td>47.6787</td>\n",
              "      <td>-122.168</td>\n",
              "      <td>1840.0</td>\n",
              "      <td>10836.0</td>\n",
              "      <td>2014</td>\n",
              "      <td>9</td>\n",
              "    </tr>\n",
              "    <tr>\n",
              "      <th>10265</th>\n",
              "      <td>728725.0</td>\n",
              "      <td>4</td>\n",
              "      <td>2.50</td>\n",
              "      <td>3010</td>\n",
              "      <td>3120</td>\n",
              "      <td>2.5</td>\n",
              "      <td>0</td>\n",
              "      <td>2</td>\n",
              "      <td>3</td>\n",
              "      <td>8</td>\n",
              "      <td>3010</td>\n",
              "      <td>0</td>\n",
              "      <td>2006.0</td>\n",
              "      <td>0.0</td>\n",
              "      <td>47.5539</td>\n",
              "      <td>-121.996</td>\n",
              "      <td>2140.0</td>\n",
              "      <td>3840.0</td>\n",
              "      <td>2015</td>\n",
              "      <td>1</td>\n",
              "    </tr>\n",
              "    <tr>\n",
              "      <th>10266</th>\n",
              "      <td>708000.0</td>\n",
              "      <td>5</td>\n",
              "      <td>2.00</td>\n",
              "      <td>3180</td>\n",
              "      <td>10800</td>\n",
              "      <td>1.0</td>\n",
              "      <td>0</td>\n",
              "      <td>0</td>\n",
              "      <td>3</td>\n",
              "      <td>8</td>\n",
              "      <td>1910</td>\n",
              "      <td>1270</td>\n",
              "      <td>NaN</td>\n",
              "      <td>NaN</td>\n",
              "      <td>NaN</td>\n",
              "      <td>NaN</td>\n",
              "      <td>NaN</td>\n",
              "      <td>NaN</td>\n",
              "      <td>2014</td>\n",
              "      <td>8</td>\n",
              "    </tr>\n",
              "  </tbody>\n",
              "</table>\n",
              "<p>10267 rows × 20 columns</p>\n",
              "</div>\n",
              "    <div class=\"colab-df-buttons\">\n",
              "\n",
              "  <div class=\"colab-df-container\">\n",
              "    <button class=\"colab-df-convert\" onclick=\"convertToInteractive('df-4a2ac21f-c90a-422b-bde5-75ac35d3afd1')\"\n",
              "            title=\"Convert this dataframe to an interactive table.\"\n",
              "            style=\"display:none;\">\n",
              "\n",
              "  <svg xmlns=\"http://www.w3.org/2000/svg\" height=\"24px\" viewBox=\"0 -960 960 960\">\n",
              "    <path d=\"M120-120v-720h720v720H120Zm60-500h600v-160H180v160Zm220 220h160v-160H400v160Zm0 220h160v-160H400v160ZM180-400h160v-160H180v160Zm440 0h160v-160H620v160ZM180-180h160v-160H180v160Zm440 0h160v-160H620v160Z\"/>\n",
              "  </svg>\n",
              "    </button>\n",
              "\n",
              "  <style>\n",
              "    .colab-df-container {\n",
              "      display:flex;\n",
              "      gap: 12px;\n",
              "    }\n",
              "\n",
              "    .colab-df-convert {\n",
              "      background-color: #E8F0FE;\n",
              "      border: none;\n",
              "      border-radius: 50%;\n",
              "      cursor: pointer;\n",
              "      display: none;\n",
              "      fill: #1967D2;\n",
              "      height: 32px;\n",
              "      padding: 0 0 0 0;\n",
              "      width: 32px;\n",
              "    }\n",
              "\n",
              "    .colab-df-convert:hover {\n",
              "      background-color: #E2EBFA;\n",
              "      box-shadow: 0px 1px 2px rgba(60, 64, 67, 0.3), 0px 1px 3px 1px rgba(60, 64, 67, 0.15);\n",
              "      fill: #174EA6;\n",
              "    }\n",
              "\n",
              "    .colab-df-buttons div {\n",
              "      margin-bottom: 4px;\n",
              "    }\n",
              "\n",
              "    [theme=dark] .colab-df-convert {\n",
              "      background-color: #3B4455;\n",
              "      fill: #D2E3FC;\n",
              "    }\n",
              "\n",
              "    [theme=dark] .colab-df-convert:hover {\n",
              "      background-color: #434B5C;\n",
              "      box-shadow: 0px 1px 3px 1px rgba(0, 0, 0, 0.15);\n",
              "      filter: drop-shadow(0px 1px 2px rgba(0, 0, 0, 0.3));\n",
              "      fill: #FFFFFF;\n",
              "    }\n",
              "  </style>\n",
              "\n",
              "    <script>\n",
              "      const buttonEl =\n",
              "        document.querySelector('#df-4a2ac21f-c90a-422b-bde5-75ac35d3afd1 button.colab-df-convert');\n",
              "      buttonEl.style.display =\n",
              "        google.colab.kernel.accessAllowed ? 'block' : 'none';\n",
              "\n",
              "      async function convertToInteractive(key) {\n",
              "        const element = document.querySelector('#df-4a2ac21f-c90a-422b-bde5-75ac35d3afd1');\n",
              "        const dataTable =\n",
              "          await google.colab.kernel.invokeFunction('convertToInteractive',\n",
              "                                                    [key], {});\n",
              "        if (!dataTable) return;\n",
              "\n",
              "        const docLinkHtml = 'Like what you see? Visit the ' +\n",
              "          '<a target=\"_blank\" href=https://colab.research.google.com/notebooks/data_table.ipynb>data table notebook</a>'\n",
              "          + ' to learn more about interactive tables.';\n",
              "        element.innerHTML = '';\n",
              "        dataTable['output_type'] = 'display_data';\n",
              "        await google.colab.output.renderOutput(dataTable, element);\n",
              "        const docLink = document.createElement('div');\n",
              "        docLink.innerHTML = docLinkHtml;\n",
              "        element.appendChild(docLink);\n",
              "      }\n",
              "    </script>\n",
              "  </div>\n",
              "\n",
              "\n",
              "<div id=\"df-67cf7a1b-0961-468a-8be4-edb158bd7bab\">\n",
              "  <button class=\"colab-df-quickchart\" onclick=\"quickchart('df-67cf7a1b-0961-468a-8be4-edb158bd7bab')\"\n",
              "            title=\"Suggest charts.\"\n",
              "            style=\"display:none;\">\n",
              "\n",
              "<svg xmlns=\"http://www.w3.org/2000/svg\" height=\"24px\"viewBox=\"0 0 24 24\"\n",
              "     width=\"24px\">\n",
              "    <g>\n",
              "        <path d=\"M19 3H5c-1.1 0-2 .9-2 2v14c0 1.1.9 2 2 2h14c1.1 0 2-.9 2-2V5c0-1.1-.9-2-2-2zM9 17H7v-7h2v7zm4 0h-2V7h2v10zm4 0h-2v-4h2v4z\"/>\n",
              "    </g>\n",
              "</svg>\n",
              "  </button>\n",
              "\n",
              "<style>\n",
              "  .colab-df-quickchart {\n",
              "      --bg-color: #E8F0FE;\n",
              "      --fill-color: #1967D2;\n",
              "      --hover-bg-color: #E2EBFA;\n",
              "      --hover-fill-color: #174EA6;\n",
              "      --disabled-fill-color: #AAA;\n",
              "      --disabled-bg-color: #DDD;\n",
              "  }\n",
              "\n",
              "  [theme=dark] .colab-df-quickchart {\n",
              "      --bg-color: #3B4455;\n",
              "      --fill-color: #D2E3FC;\n",
              "      --hover-bg-color: #434B5C;\n",
              "      --hover-fill-color: #FFFFFF;\n",
              "      --disabled-bg-color: #3B4455;\n",
              "      --disabled-fill-color: #666;\n",
              "  }\n",
              "\n",
              "  .colab-df-quickchart {\n",
              "    background-color: var(--bg-color);\n",
              "    border: none;\n",
              "    border-radius: 50%;\n",
              "    cursor: pointer;\n",
              "    display: none;\n",
              "    fill: var(--fill-color);\n",
              "    height: 32px;\n",
              "    padding: 0;\n",
              "    width: 32px;\n",
              "  }\n",
              "\n",
              "  .colab-df-quickchart:hover {\n",
              "    background-color: var(--hover-bg-color);\n",
              "    box-shadow: 0 1px 2px rgba(60, 64, 67, 0.3), 0 1px 3px 1px rgba(60, 64, 67, 0.15);\n",
              "    fill: var(--button-hover-fill-color);\n",
              "  }\n",
              "\n",
              "  .colab-df-quickchart-complete:disabled,\n",
              "  .colab-df-quickchart-complete:disabled:hover {\n",
              "    background-color: var(--disabled-bg-color);\n",
              "    fill: var(--disabled-fill-color);\n",
              "    box-shadow: none;\n",
              "  }\n",
              "\n",
              "  .colab-df-spinner {\n",
              "    border: 2px solid var(--fill-color);\n",
              "    border-color: transparent;\n",
              "    border-bottom-color: var(--fill-color);\n",
              "    animation:\n",
              "      spin 1s steps(1) infinite;\n",
              "  }\n",
              "\n",
              "  @keyframes spin {\n",
              "    0% {\n",
              "      border-color: transparent;\n",
              "      border-bottom-color: var(--fill-color);\n",
              "      border-left-color: var(--fill-color);\n",
              "    }\n",
              "    20% {\n",
              "      border-color: transparent;\n",
              "      border-left-color: var(--fill-color);\n",
              "      border-top-color: var(--fill-color);\n",
              "    }\n",
              "    30% {\n",
              "      border-color: transparent;\n",
              "      border-left-color: var(--fill-color);\n",
              "      border-top-color: var(--fill-color);\n",
              "      border-right-color: var(--fill-color);\n",
              "    }\n",
              "    40% {\n",
              "      border-color: transparent;\n",
              "      border-right-color: var(--fill-color);\n",
              "      border-top-color: var(--fill-color);\n",
              "    }\n",
              "    60% {\n",
              "      border-color: transparent;\n",
              "      border-right-color: var(--fill-color);\n",
              "    }\n",
              "    80% {\n",
              "      border-color: transparent;\n",
              "      border-right-color: var(--fill-color);\n",
              "      border-bottom-color: var(--fill-color);\n",
              "    }\n",
              "    90% {\n",
              "      border-color: transparent;\n",
              "      border-bottom-color: var(--fill-color);\n",
              "    }\n",
              "  }\n",
              "</style>\n",
              "\n",
              "  <script>\n",
              "    async function quickchart(key) {\n",
              "      const quickchartButtonEl =\n",
              "        document.querySelector('#' + key + ' button');\n",
              "      quickchartButtonEl.disabled = true;  // To prevent multiple clicks.\n",
              "      quickchartButtonEl.classList.add('colab-df-spinner');\n",
              "      try {\n",
              "        const charts = await google.colab.kernel.invokeFunction(\n",
              "            'suggestCharts', [key], {});\n",
              "      } catch (error) {\n",
              "        console.error('Error during call to suggestCharts:', error);\n",
              "      }\n",
              "      quickchartButtonEl.classList.remove('colab-df-spinner');\n",
              "      quickchartButtonEl.classList.add('colab-df-quickchart-complete');\n",
              "    }\n",
              "    (() => {\n",
              "      let quickchartButtonEl =\n",
              "        document.querySelector('#df-67cf7a1b-0961-468a-8be4-edb158bd7bab button');\n",
              "      quickchartButtonEl.style.display =\n",
              "        google.colab.kernel.accessAllowed ? 'block' : 'none';\n",
              "    })();\n",
              "  </script>\n",
              "</div>\n",
              "    </div>\n",
              "  </div>\n"
            ],
            "text/plain": [
              "          price  bedrooms  bathrooms  sqft_living  sqft_lot  floors  \\\n",
              "0      221900.0         3       1.00         1180      5650     1.0   \n",
              "1      538000.0         3       2.25         2570      7242     2.0   \n",
              "2      180000.0         2       1.00          770     10000     1.0   \n",
              "3      604000.0         4       3.00         1960      5000     1.0   \n",
              "4      510000.0         3       2.00         1680      8080     1.0   \n",
              "...         ...       ...        ...          ...       ...     ...   \n",
              "10262  208000.0         3       1.00          920      7314     1.0   \n",
              "10263  325000.0         4       2.00         1780     10622     1.0   \n",
              "10264  597157.0         7       4.00         2690     10880     1.0   \n",
              "10265  728725.0         4       2.50         3010      3120     2.5   \n",
              "10266  708000.0         5       2.00         3180     10800     1.0   \n",
              "\n",
              "       waterfront  view  condition  grade  sqft_above  sqft_basement  \\\n",
              "0               0     0          3      7        1180              0   \n",
              "1               0     0          3      7        2170            400   \n",
              "2               0     0          3      6         770              0   \n",
              "3               0     0          5      7        1050            910   \n",
              "4               0     0          3      8        1680              0   \n",
              "...           ...   ...        ...    ...         ...            ...   \n",
              "10262           0     0          3      6         920              0   \n",
              "10263           0     0          4      7         900            880   \n",
              "10264           0     0          4      8        2690              0   \n",
              "10265           0     2          3      8        3010              0   \n",
              "10266           0     0          3      8        1910           1270   \n",
              "\n",
              "       yr_built  yr_renovated      lat     long  sqft_living15  sqft_lot15  \\\n",
              "0        1955.0           0.0  47.5112 -122.257         1340.0      5650.0   \n",
              "1        1951.0        1991.0  47.7210 -122.319         1690.0      7639.0   \n",
              "2        1933.0           0.0  47.7379 -122.233         2720.0      8062.0   \n",
              "3        1965.0           0.0  47.5208 -122.393         1360.0      5000.0   \n",
              "4        1987.0           0.0  47.6168 -122.045         1800.0      7503.0   \n",
              "...         ...           ...      ...      ...            ...         ...   \n",
              "10262    1960.0           0.0  47.2892 -122.220         1010.0      7420.0   \n",
              "10263    1976.0           0.0  47.4573 -122.158         1550.0      8900.0   \n",
              "10264    1960.0           0.0  47.6787 -122.168         1840.0     10836.0   \n",
              "10265    2006.0           0.0  47.5539 -121.996         2140.0      3840.0   \n",
              "10266       NaN           NaN      NaN      NaN            NaN         NaN   \n",
              "\n",
              "       year  month  \n",
              "0      2014     10  \n",
              "1      2014     12  \n",
              "2      2015      2  \n",
              "3      2014     12  \n",
              "4      2015      2  \n",
              "...     ...    ...  \n",
              "10262  2015      3  \n",
              "10263  2014      9  \n",
              "10264  2014      9  \n",
              "10265  2015      1  \n",
              "10266  2014      8  \n",
              "\n",
              "[10267 rows x 20 columns]"
            ]
          },
          "execution_count": 53,
          "metadata": {},
          "output_type": "execute_result"
        }
      ],
      "source": [
        "df"
      ]
    },
    {
      "cell_type": "markdown",
      "metadata": {
        "id": "1twF5XG2DM7v"
      },
      "source": [
        "## print shapes of data"
      ]
    },
    {
      "cell_type": "code",
      "execution_count": null,
      "metadata": {
        "colab": {
          "background_save": true,
          "base_uri": "https://localhost:8080/"
        },
        "id": "8jQXBzdlnxW6",
        "outputId": "bb817f05-9e2f-4a9f-81a2-27c8f31d4525"
      },
      "outputs": [
        {
          "data": {
            "text/plain": [
              "(7186, 19)"
            ]
          },
          "execution_count": 54,
          "metadata": {},
          "output_type": "execute_result"
        }
      ],
      "source": [
        "x_train_scaled.shape"
      ]
    },
    {
      "cell_type": "markdown",
      "metadata": {
        "id": "0nhTKH2Vnzom"
      },
      "source": [
        "**We can see that there are 19 incoming features, so it is best to have at least 19 neurons in our model.**"
      ]
    },
    {
      "cell_type": "code",
      "execution_count": null,
      "metadata": {
        "colab": {
          "background_save": true
        },
        "id": "I6_FQFa_m_70"
      },
      "outputs": [],
      "source": [
        " # input layer\n",
        "model = Sequential()\n",
        "model.add(Dense(units=19,activation='relu'))\n",
        "model.add(Dense(units=19,activation='relu'))\n",
        "model.add(Dense(units=19,activation='relu'))\n",
        " # output layer\n",
        "model.add(Dense(units=1))"
      ]
    },
    {
      "cell_type": "code",
      "execution_count": null,
      "metadata": {
        "colab": {
          "background_save": true
        },
        "id": "sSg4rzPhPcLP"
      },
      "outputs": [],
      "source": [
        "model.compile(optimizer='adam', loss='mse' )"
      ]
    },
    {
      "cell_type": "markdown",
      "metadata": {
        "id": "qw7f4TN8rVNX"
      },
      "source": [
        "## Training the Model"
      ]
    },
    {
      "cell_type": "markdown",
      "metadata": {
        "id": "G0-z4hKro4CV"
      },
      "source": [
        "### Why passing `validation data` is good?\n",
        "\n",
        "* When fitting the model, validation data can be passed too.\n",
        "\n",
        "* What it means is after each epoch training on training data, it gonna quickly run the test data and check our loss on the test data.\n",
        "\n",
        "* In this way, we can keep a tracking of how well performing our model not just on our training data, but also on test data.\n",
        "\n",
        "* But Keep in mind that this test data will not have any impact on weights and bias of our network.\n",
        "\n",
        "---------\n",
        "\n",
        "### `batch_size`\n",
        "* NOTE: for `batch_size`, it is typical to use `2^(n)` values like 64, 128, etc.\n",
        "* the smaller the batch_size, the longer it takes to train. However, it is likely to overfit your data because you are not passing your entire dataset at once. Instead, you are focusing on smaller batches."
      ]
    },
    {
      "cell_type": "code",
      "execution_count": null,
      "metadata": {
        "colab": {
          "base_uri": "https://localhost:8080/"
        },
        "id": "RHPfeY1Tm_5G",
        "outputId": "e635a46c-c417-4742-b0e0-ad818ae17ff9"
      },
      "outputs": [
        {
          "name": "stdout",
          "output_type": "stream",
          "text": [
            "Epoch 1/400\n",
            "60/60 [==============================] - 1s 6ms/step - loss: 433333370880.0000 - val_loss: 411695644672.0000\n",
            "Epoch 2/400\n",
            "60/60 [==============================] - 0s 4ms/step - loss: 433180409856.0000 - val_loss: 411293614080.0000\n",
            "Epoch 3/400\n",
            "60/60 [==============================] - 0s 3ms/step - loss: 432165945344.0000 - val_loss: 409225134080.0000\n",
            "Epoch 4/400\n",
            "60/60 [==============================] - 0s 3ms/step - loss: 428760793088.0000 - val_loss: 403789021184.0000\n",
            "Epoch 5/400\n",
            "60/60 [==============================] - 0s 4ms/step - loss: 421206818816.0000 - val_loss: 393571106816.0000\n",
            "Epoch 6/400\n",
            "60/60 [==============================] - 0s 3ms/step - loss: 409286639616.0000 - val_loss: 380949856256.0000\n",
            "Epoch 7/400\n",
            "60/60 [==============================] - 0s 3ms/step - loss: 398041022464.0000 - val_loss: 372224655360.0000\n",
            "Epoch 8/400\n",
            "60/60 [==============================] - 0s 4ms/step - loss: 390236635136.0000 - val_loss: 365971243008.0000\n",
            "Epoch 9/400\n",
            "60/60 [==============================] - 0s 3ms/step - loss: 383437963264.0000 - val_loss: 358609125376.0000\n",
            "Epoch 10/400\n",
            "60/60 [==============================] - 0s 3ms/step - loss: 374911074304.0000 - val_loss: 349147758592.0000\n",
            "Epoch 11/400\n",
            "60/60 [==============================] - 0s 3ms/step - loss: 364130992128.0000 - val_loss: 337205460992.0000\n",
            "Epoch 12/400\n",
            "60/60 [==============================] - 0s 3ms/step - loss: 350603935744.0000 - val_loss: 322957443072.0000\n",
            "Epoch 13/400\n",
            "60/60 [==============================] - 0s 3ms/step - loss: 334549778432.0000 - val_loss: 306923077632.0000\n",
            "Epoch 14/400\n",
            "60/60 [==============================] - 0s 3ms/step - loss: 316484485120.0000 - val_loss: 289762672640.0000\n",
            "Epoch 15/400\n",
            "60/60 [==============================] - 0s 3ms/step - loss: 297346662400.0000 - val_loss: 272104275968.0000\n",
            "Epoch 16/400\n",
            "60/60 [==============================] - 0s 3ms/step - loss: 277775876096.0000 - val_loss: 254610276352.0000\n",
            "Epoch 17/400\n",
            "60/60 [==============================] - 0s 3ms/step - loss: 257562640384.0000 - val_loss: 236629360640.0000\n",
            "Epoch 18/400\n",
            "60/60 [==============================] - 0s 3ms/step - loss: 237558464512.0000 - val_loss: 218901905408.0000\n",
            "Epoch 19/400\n",
            "60/60 [==============================] - 0s 3ms/step - loss: 218330382336.0000 - val_loss: 201766895616.0000\n",
            "Epoch 20/400\n",
            "60/60 [==============================] - 0s 3ms/step - loss: 199767425024.0000 - val_loss: 185527107584.0000\n",
            "Epoch 21/400\n",
            "60/60 [==============================] - 0s 3ms/step - loss: 182686269440.0000 - val_loss: 170289397760.0000\n",
            "Epoch 22/400\n",
            "60/60 [==============================] - 0s 3ms/step - loss: 166804815872.0000 - val_loss: 156474277888.0000\n",
            "Epoch 23/400\n",
            "60/60 [==============================] - 0s 3ms/step - loss: 152594481152.0000 - val_loss: 143358066688.0000\n",
            "Epoch 24/400\n",
            "60/60 [==============================] - 0s 3ms/step - loss: 140080955392.0000 - val_loss: 132471775232.0000\n",
            "Epoch 25/400\n",
            "60/60 [==============================] - 0s 3ms/step - loss: 129550254080.0000 - val_loss: 122780983296.0000\n",
            "Epoch 26/400\n",
            "60/60 [==============================] - 0s 3ms/step - loss: 120168914944.0000 - val_loss: 114868002816.0000\n",
            "Epoch 27/400\n",
            "60/60 [==============================] - 0s 3ms/step - loss: 112779444224.0000 - val_loss: 108041871360.0000\n",
            "Epoch 28/400\n",
            "60/60 [==============================] - 0s 3ms/step - loss: 106593910784.0000 - val_loss: 102861340672.0000\n",
            "Epoch 29/400\n",
            "60/60 [==============================] - 0s 4ms/step - loss: 101413609472.0000 - val_loss: 98279391232.0000\n",
            "Epoch 30/400\n",
            "60/60 [==============================] - 0s 3ms/step - loss: 97266114560.0000 - val_loss: 94604001280.0000\n",
            "Epoch 31/400\n",
            "60/60 [==============================] - 0s 3ms/step - loss: 93829562368.0000 - val_loss: 91413749760.0000\n",
            "Epoch 32/400\n",
            "60/60 [==============================] - 0s 4ms/step - loss: 90932092928.0000 - val_loss: 88524070912.0000\n",
            "Epoch 33/400\n",
            "60/60 [==============================] - 0s 3ms/step - loss: 88400445440.0000 - val_loss: 86203138048.0000\n",
            "Epoch 34/400\n",
            "60/60 [==============================] - 0s 3ms/step - loss: 86177783808.0000 - val_loss: 84142587904.0000\n",
            "Epoch 35/400\n",
            "60/60 [==============================] - 0s 3ms/step - loss: 84199596032.0000 - val_loss: 82089132032.0000\n",
            "Epoch 36/400\n",
            "60/60 [==============================] - 0s 3ms/step - loss: 82330206208.0000 - val_loss: 80480387072.0000\n",
            "Epoch 37/400\n",
            "60/60 [==============================] - 0s 3ms/step - loss: 80636485632.0000 - val_loss: 78736220160.0000\n",
            "Epoch 38/400\n",
            "60/60 [==============================] - 0s 3ms/step - loss: 79105064960.0000 - val_loss: 77369868288.0000\n",
            "Epoch 39/400\n",
            "60/60 [==============================] - 0s 3ms/step - loss: 77738876928.0000 - val_loss: 75950432256.0000\n",
            "Epoch 40/400\n",
            "60/60 [==============================] - 0s 3ms/step - loss: 76281602048.0000 - val_loss: 74368802816.0000\n",
            "Epoch 41/400\n",
            "60/60 [==============================] - 0s 3ms/step - loss: 75120508928.0000 - val_loss: 73126838272.0000\n",
            "Epoch 42/400\n",
            "60/60 [==============================] - 0s 3ms/step - loss: 73843122176.0000 - val_loss: 71897939968.0000\n",
            "Epoch 43/400\n",
            "60/60 [==============================] - 0s 3ms/step - loss: 72787984384.0000 - val_loss: 70767149056.0000\n",
            "Epoch 44/400\n",
            "60/60 [==============================] - 0s 4ms/step - loss: 71671087104.0000 - val_loss: 69701517312.0000\n",
            "Epoch 45/400\n",
            "60/60 [==============================] - 0s 5ms/step - loss: 70606331904.0000 - val_loss: 68764983296.0000\n",
            "Epoch 46/400\n",
            "60/60 [==============================] - 0s 5ms/step - loss: 69679030272.0000 - val_loss: 67721805824.0000\n",
            "Epoch 47/400\n",
            "60/60 [==============================] - 0s 5ms/step - loss: 68686385152.0000 - val_loss: 66684215296.0000\n",
            "Epoch 48/400\n",
            "60/60 [==============================] - 0s 4ms/step - loss: 67858894848.0000 - val_loss: 66000531456.0000\n",
            "Epoch 49/400\n",
            "60/60 [==============================] - 0s 5ms/step - loss: 67110617088.0000 - val_loss: 64913788928.0000\n",
            "Epoch 50/400\n",
            "60/60 [==============================] - 0s 4ms/step - loss: 66190688256.0000 - val_loss: 63947870208.0000\n",
            "Epoch 51/400\n",
            "60/60 [==============================] - 0s 5ms/step - loss: 65381830656.0000 - val_loss: 63468482560.0000\n",
            "Epoch 52/400\n",
            "60/60 [==============================] - 0s 4ms/step - loss: 64672985088.0000 - val_loss: 62529736704.0000\n",
            "Epoch 53/400\n",
            "60/60 [==============================] - 0s 5ms/step - loss: 63961755648.0000 - val_loss: 61680615424.0000\n",
            "Epoch 54/400\n",
            "60/60 [==============================] - 0s 4ms/step - loss: 63240220672.0000 - val_loss: 61015064576.0000\n",
            "Epoch 55/400\n",
            "60/60 [==============================] - 0s 5ms/step - loss: 62590271488.0000 - val_loss: 60349292544.0000\n",
            "Epoch 56/400\n",
            "60/60 [==============================] - 0s 3ms/step - loss: 61939847168.0000 - val_loss: 59639869440.0000\n",
            "Epoch 57/400\n",
            "60/60 [==============================] - 0s 3ms/step - loss: 61380509696.0000 - val_loss: 58977091584.0000\n",
            "Epoch 58/400\n",
            "60/60 [==============================] - 0s 3ms/step - loss: 60746043392.0000 - val_loss: 58506067968.0000\n",
            "Epoch 59/400\n",
            "60/60 [==============================] - 0s 4ms/step - loss: 60280995840.0000 - val_loss: 57837232128.0000\n",
            "Epoch 60/400\n",
            "60/60 [==============================] - 0s 3ms/step - loss: 59663880192.0000 - val_loss: 57203105792.0000\n",
            "Epoch 61/400\n",
            "60/60 [==============================] - 0s 4ms/step - loss: 59103051776.0000 - val_loss: 57002221568.0000\n",
            "Epoch 62/400\n",
            "60/60 [==============================] - 0s 4ms/step - loss: 58635464704.0000 - val_loss: 56209252352.0000\n",
            "Epoch 63/400\n",
            "60/60 [==============================] - 0s 3ms/step - loss: 58256396288.0000 - val_loss: 55987556352.0000\n",
            "Epoch 64/400\n",
            "60/60 [==============================] - 0s 3ms/step - loss: 57780682752.0000 - val_loss: 55225929728.0000\n",
            "Epoch 65/400\n",
            "60/60 [==============================] - 0s 3ms/step - loss: 57279696896.0000 - val_loss: 54794526720.0000\n",
            "Epoch 66/400\n",
            "60/60 [==============================] - 0s 3ms/step - loss: 56766201856.0000 - val_loss: 54269280256.0000\n",
            "Epoch 67/400\n",
            "60/60 [==============================] - 0s 3ms/step - loss: 56432517120.0000 - val_loss: 53880590336.0000\n",
            "Epoch 68/400\n",
            "60/60 [==============================] - 0s 3ms/step - loss: 56024899584.0000 - val_loss: 53406818304.0000\n",
            "Epoch 69/400\n",
            "60/60 [==============================] - 0s 4ms/step - loss: 55533338624.0000 - val_loss: 53061496832.0000\n",
            "Epoch 70/400\n",
            "60/60 [==============================] - 0s 4ms/step - loss: 55126605824.0000 - val_loss: 52619399168.0000\n",
            "Epoch 71/400\n",
            "60/60 [==============================] - 0s 3ms/step - loss: 54757191680.0000 - val_loss: 52174397440.0000\n",
            "Epoch 72/400\n",
            "60/60 [==============================] - 0s 3ms/step - loss: 54426771456.0000 - val_loss: 51902062592.0000\n",
            "Epoch 73/400\n",
            "60/60 [==============================] - 0s 3ms/step - loss: 54010200064.0000 - val_loss: 51469721600.0000\n",
            "Epoch 74/400\n",
            "60/60 [==============================] - 0s 4ms/step - loss: 53733285888.0000 - val_loss: 51063193600.0000\n",
            "Epoch 75/400\n",
            "60/60 [==============================] - 0s 3ms/step - loss: 53468528640.0000 - val_loss: 50750701568.0000\n",
            "Epoch 76/400\n",
            "60/60 [==============================] - 0s 3ms/step - loss: 53158277120.0000 - val_loss: 50334056448.0000\n",
            "Epoch 77/400\n",
            "60/60 [==============================] - 0s 4ms/step - loss: 52664401920.0000 - val_loss: 50153238528.0000\n",
            "Epoch 78/400\n",
            "60/60 [==============================] - 0s 3ms/step - loss: 52303364096.0000 - val_loss: 49728679936.0000\n",
            "Epoch 79/400\n",
            "60/60 [==============================] - 0s 3ms/step - loss: 51977945088.0000 - val_loss: 49648410624.0000\n",
            "Epoch 80/400\n",
            "60/60 [==============================] - 0s 3ms/step - loss: 51761823744.0000 - val_loss: 49239592960.0000\n",
            "Epoch 81/400\n",
            "60/60 [==============================] - 0s 3ms/step - loss: 51431960576.0000 - val_loss: 48959578112.0000\n",
            "Epoch 82/400\n",
            "60/60 [==============================] - 0s 3ms/step - loss: 51130441728.0000 - val_loss: 48519122944.0000\n",
            "Epoch 83/400\n",
            "60/60 [==============================] - 0s 3ms/step - loss: 50824560640.0000 - val_loss: 48206409728.0000\n",
            "Epoch 84/400\n",
            "60/60 [==============================] - 0s 3ms/step - loss: 50576158720.0000 - val_loss: 47937069056.0000\n",
            "Epoch 85/400\n",
            "60/60 [==============================] - 0s 3ms/step - loss: 50336067584.0000 - val_loss: 47679705088.0000\n",
            "Epoch 86/400\n",
            "60/60 [==============================] - 0s 4ms/step - loss: 50087211008.0000 - val_loss: 47490281472.0000\n",
            "Epoch 87/400\n",
            "60/60 [==============================] - 0s 3ms/step - loss: 49808834560.0000 - val_loss: 47356145664.0000\n",
            "Epoch 88/400\n",
            "60/60 [==============================] - 0s 3ms/step - loss: 49548709888.0000 - val_loss: 46883770368.0000\n",
            "Epoch 89/400\n",
            "60/60 [==============================] - 0s 3ms/step - loss: 49448833024.0000 - val_loss: 46736207872.0000\n",
            "Epoch 90/400\n",
            "60/60 [==============================] - 0s 4ms/step - loss: 49117159424.0000 - val_loss: 46448762880.0000\n",
            "Epoch 91/400\n",
            "60/60 [==============================] - 0s 3ms/step - loss: 48819171328.0000 - val_loss: 46270078976.0000\n",
            "Epoch 92/400\n",
            "60/60 [==============================] - 0s 4ms/step - loss: 48606420992.0000 - val_loss: 46191964160.0000\n",
            "Epoch 93/400\n",
            "60/60 [==============================] - 0s 4ms/step - loss: 48410484736.0000 - val_loss: 45865152512.0000\n",
            "Epoch 94/400\n",
            "60/60 [==============================] - 0s 4ms/step - loss: 48154378240.0000 - val_loss: 45580427264.0000\n",
            "Epoch 95/400\n",
            "60/60 [==============================] - 0s 4ms/step - loss: 48117534720.0000 - val_loss: 45398683648.0000\n",
            "Epoch 96/400\n",
            "60/60 [==============================] - 0s 4ms/step - loss: 47809708032.0000 - val_loss: 45244010496.0000\n",
            "Epoch 97/400\n",
            "60/60 [==============================] - 0s 5ms/step - loss: 47547645952.0000 - val_loss: 45124542464.0000\n",
            "Epoch 98/400\n",
            "60/60 [==============================] - 0s 5ms/step - loss: 47463247872.0000 - val_loss: 44821291008.0000\n",
            "Epoch 99/400\n",
            "60/60 [==============================] - 0s 5ms/step - loss: 47133822976.0000 - val_loss: 44949864448.0000\n",
            "Epoch 100/400\n",
            "60/60 [==============================] - 0s 4ms/step - loss: 46991613952.0000 - val_loss: 44535906304.0000\n",
            "Epoch 101/400\n",
            "60/60 [==============================] - 0s 4ms/step - loss: 46807293952.0000 - val_loss: 44415979520.0000\n",
            "Epoch 102/400\n",
            "60/60 [==============================] - 0s 4ms/step - loss: 46647193600.0000 - val_loss: 44158107648.0000\n",
            "Epoch 103/400\n",
            "60/60 [==============================] - 0s 5ms/step - loss: 46467620864.0000 - val_loss: 43960889344.0000\n",
            "Epoch 104/400\n",
            "60/60 [==============================] - 0s 4ms/step - loss: 46321102848.0000 - val_loss: 43734515712.0000\n",
            "Epoch 105/400\n",
            "60/60 [==============================] - 0s 5ms/step - loss: 46068731904.0000 - val_loss: 43665702912.0000\n",
            "Epoch 106/400\n",
            "60/60 [==============================] - 0s 5ms/step - loss: 45905338368.0000 - val_loss: 43659309056.0000\n",
            "Epoch 107/400\n",
            "60/60 [==============================] - 0s 5ms/step - loss: 45748948992.0000 - val_loss: 43332280320.0000\n",
            "Epoch 108/400\n",
            "60/60 [==============================] - 0s 5ms/step - loss: 45630894080.0000 - val_loss: 43227914240.0000\n",
            "Epoch 109/400\n",
            "60/60 [==============================] - 0s 4ms/step - loss: 45422252032.0000 - val_loss: 42928037888.0000\n",
            "Epoch 110/400\n",
            "60/60 [==============================] - 0s 5ms/step - loss: 45254565888.0000 - val_loss: 42991255552.0000\n",
            "Epoch 111/400\n",
            "60/60 [==============================] - 0s 4ms/step - loss: 45152784384.0000 - val_loss: 42822721536.0000\n",
            "Epoch 112/400\n",
            "60/60 [==============================] - 0s 5ms/step - loss: 45009608704.0000 - val_loss: 42560942080.0000\n",
            "Epoch 113/400\n",
            "60/60 [==============================] - 0s 4ms/step - loss: 44866240512.0000 - val_loss: 42408853504.0000\n",
            "Epoch 114/400\n",
            "60/60 [==============================] - 0s 4ms/step - loss: 44755050496.0000 - val_loss: 42320965632.0000\n",
            "Epoch 115/400\n",
            "60/60 [==============================] - 0s 4ms/step - loss: 44570976256.0000 - val_loss: 42195214336.0000\n",
            "Epoch 116/400\n",
            "60/60 [==============================] - 0s 4ms/step - loss: 44427407360.0000 - val_loss: 42066006016.0000\n",
            "Epoch 117/400\n",
            "60/60 [==============================] - 0s 3ms/step - loss: 44273799168.0000 - val_loss: 41976893440.0000\n",
            "Epoch 118/400\n",
            "60/60 [==============================] - 0s 3ms/step - loss: 44154310656.0000 - val_loss: 41814904832.0000\n",
            "Epoch 119/400\n",
            "60/60 [==============================] - 0s 3ms/step - loss: 44054274048.0000 - val_loss: 41755185152.0000\n",
            "Epoch 120/400\n",
            "60/60 [==============================] - 0s 3ms/step - loss: 43920195584.0000 - val_loss: 41810710528.0000\n",
            "Epoch 121/400\n",
            "60/60 [==============================] - 0s 3ms/step - loss: 43817463808.0000 - val_loss: 41537576960.0000\n",
            "Epoch 122/400\n",
            "60/60 [==============================] - 0s 3ms/step - loss: 43690356736.0000 - val_loss: 41467596800.0000\n",
            "Epoch 123/400\n",
            "60/60 [==============================] - 0s 4ms/step - loss: 43554058240.0000 - val_loss: 41392951296.0000\n",
            "Epoch 124/400\n",
            "60/60 [==============================] - 0s 3ms/step - loss: 43527340032.0000 - val_loss: 41629257728.0000\n",
            "Epoch 125/400\n",
            "60/60 [==============================] - 0s 4ms/step - loss: 43373076480.0000 - val_loss: 41209507840.0000\n",
            "Epoch 126/400\n",
            "60/60 [==============================] - 0s 4ms/step - loss: 43228598272.0000 - val_loss: 41085624320.0000\n",
            "Epoch 127/400\n",
            "60/60 [==============================] - 0s 3ms/step - loss: 43139227648.0000 - val_loss: 40966950912.0000\n",
            "Epoch 128/400\n",
            "60/60 [==============================] - 0s 3ms/step - loss: 43010351104.0000 - val_loss: 41075351552.0000\n",
            "Epoch 129/400\n",
            "60/60 [==============================] - 0s 3ms/step - loss: 42922000384.0000 - val_loss: 40751849472.0000\n",
            "Epoch 130/400\n",
            "60/60 [==============================] - 0s 3ms/step - loss: 42823901184.0000 - val_loss: 40755671040.0000\n",
            "Epoch 131/400\n",
            "60/60 [==============================] - 0s 3ms/step - loss: 42695315456.0000 - val_loss: 40771174400.0000\n",
            "Epoch 132/400\n",
            "60/60 [==============================] - 0s 4ms/step - loss: 42637869056.0000 - val_loss: 40533458944.0000\n",
            "Epoch 133/400\n",
            "60/60 [==============================] - 0s 3ms/step - loss: 42541780992.0000 - val_loss: 40427794432.0000\n",
            "Epoch 134/400\n",
            "60/60 [==============================] - 0s 3ms/step - loss: 42440609792.0000 - val_loss: 40353599488.0000\n",
            "Epoch 135/400\n",
            "60/60 [==============================] - 0s 3ms/step - loss: 42293911552.0000 - val_loss: 40469778432.0000\n",
            "Epoch 136/400\n",
            "60/60 [==============================] - 0s 3ms/step - loss: 42313457664.0000 - val_loss: 40494612480.0000\n",
            "Epoch 137/400\n",
            "60/60 [==============================] - 0s 4ms/step - loss: 42273083392.0000 - val_loss: 40232251392.0000\n",
            "Epoch 138/400\n",
            "60/60 [==============================] - 0s 4ms/step - loss: 42067652608.0000 - val_loss: 40141385728.0000\n",
            "Epoch 139/400\n",
            "60/60 [==============================] - 0s 3ms/step - loss: 42016485376.0000 - val_loss: 40114995200.0000\n",
            "Epoch 140/400\n",
            "60/60 [==============================] - 0s 3ms/step - loss: 41942327296.0000 - val_loss: 39946067968.0000\n",
            "Epoch 141/400\n",
            "60/60 [==============================] - 0s 3ms/step - loss: 41847209984.0000 - val_loss: 39951335424.0000\n",
            "Epoch 142/400\n",
            "60/60 [==============================] - 0s 3ms/step - loss: 41744687104.0000 - val_loss: 39842217984.0000\n",
            "Epoch 143/400\n",
            "60/60 [==============================] - 0s 3ms/step - loss: 41645408256.0000 - val_loss: 39837360128.0000\n",
            "Epoch 144/400\n",
            "60/60 [==============================] - 0s 3ms/step - loss: 41596620800.0000 - val_loss: 39782932480.0000\n",
            "Epoch 145/400\n",
            "60/60 [==============================] - 0s 3ms/step - loss: 41444454400.0000 - val_loss: 39893884928.0000\n",
            "Epoch 146/400\n",
            "60/60 [==============================] - 0s 3ms/step - loss: 41441615872.0000 - val_loss: 39872970752.0000\n",
            "Epoch 147/400\n",
            "60/60 [==============================] - 0s 3ms/step - loss: 41378893824.0000 - val_loss: 39822655488.0000\n",
            "Epoch 148/400\n",
            "60/60 [==============================] - 0s 3ms/step - loss: 41351385088.0000 - val_loss: 39491497984.0000\n",
            "Epoch 149/400\n",
            "60/60 [==============================] - 0s 3ms/step - loss: 41199104000.0000 - val_loss: 39489474560.0000\n",
            "Epoch 150/400\n",
            "60/60 [==============================] - 0s 4ms/step - loss: 41172099072.0000 - val_loss: 39332216832.0000\n",
            "Epoch 151/400\n",
            "60/60 [==============================] - 0s 3ms/step - loss: 41086758912.0000 - val_loss: 39243296768.0000\n",
            "Epoch 152/400\n",
            "60/60 [==============================] - 0s 3ms/step - loss: 41014071296.0000 - val_loss: 39161614336.0000\n",
            "Epoch 153/400\n",
            "60/60 [==============================] - 0s 3ms/step - loss: 40988491776.0000 - val_loss: 39083651072.0000\n",
            "Epoch 154/400\n",
            "60/60 [==============================] - 0s 3ms/step - loss: 40852250624.0000 - val_loss: 39101374464.0000\n",
            "Epoch 155/400\n",
            "60/60 [==============================] - 0s 3ms/step - loss: 40900919296.0000 - val_loss: 39080091648.0000\n",
            "Epoch 156/400\n",
            "60/60 [==============================] - 0s 4ms/step - loss: 40714825728.0000 - val_loss: 38978580480.0000\n",
            "Epoch 157/400\n",
            "60/60 [==============================] - 0s 3ms/step - loss: 40643268608.0000 - val_loss: 38920110080.0000\n",
            "Epoch 158/400\n",
            "60/60 [==============================] - 0s 3ms/step - loss: 40653230080.0000 - val_loss: 38890881024.0000\n",
            "Epoch 159/400\n",
            "60/60 [==============================] - 0s 3ms/step - loss: 40708104192.0000 - val_loss: 39042891776.0000\n",
            "Epoch 160/400\n",
            "60/60 [==============================] - 0s 3ms/step - loss: 40527491072.0000 - val_loss: 38832828416.0000\n",
            "Epoch 161/400\n",
            "60/60 [==============================] - 0s 3ms/step - loss: 40438124544.0000 - val_loss: 38704738304.0000\n",
            "Epoch 162/400\n",
            "60/60 [==============================] - 0s 3ms/step - loss: 40525385728.0000 - val_loss: 38646231040.0000\n",
            "Epoch 163/400\n",
            "60/60 [==============================] - 0s 3ms/step - loss: 40353099776.0000 - val_loss: 38750838784.0000\n",
            "Epoch 164/400\n",
            "60/60 [==============================] - 0s 4ms/step - loss: 40250331136.0000 - val_loss: 38570119168.0000\n",
            "Epoch 165/400\n",
            "60/60 [==============================] - 0s 4ms/step - loss: 40225243136.0000 - val_loss: 38700089344.0000\n",
            "Epoch 166/400\n",
            "60/60 [==============================] - 0s 4ms/step - loss: 40136556544.0000 - val_loss: 38481575936.0000\n",
            "Epoch 167/400\n",
            "60/60 [==============================] - 0s 4ms/step - loss: 40093667328.0000 - val_loss: 38410743808.0000\n",
            "Epoch 168/400\n",
            "60/60 [==============================] - 0s 4ms/step - loss: 40022306816.0000 - val_loss: 38448807936.0000\n",
            "Epoch 169/400\n",
            "60/60 [==============================] - 0s 4ms/step - loss: 39965573120.0000 - val_loss: 38337171456.0000\n",
            "Epoch 170/400\n",
            "60/60 [==============================] - 0s 4ms/step - loss: 40022884352.0000 - val_loss: 38321782784.0000\n",
            "Epoch 171/400\n",
            "60/60 [==============================] - 0s 4ms/step - loss: 39873052672.0000 - val_loss: 38420680704.0000\n",
            "Epoch 172/400\n",
            "60/60 [==============================] - 0s 4ms/step - loss: 39901650944.0000 - val_loss: 38210646016.0000\n",
            "Epoch 173/400\n",
            "60/60 [==============================] - 0s 4ms/step - loss: 39910756352.0000 - val_loss: 38193131520.0000\n",
            "Epoch 174/400\n",
            "60/60 [==============================] - 0s 4ms/step - loss: 39684804608.0000 - val_loss: 38294302720.0000\n",
            "Epoch 175/400\n",
            "60/60 [==============================] - 0s 4ms/step - loss: 39785631744.0000 - val_loss: 38035202048.0000\n",
            "Epoch 176/400\n",
            "60/60 [==============================] - 0s 5ms/step - loss: 39589642240.0000 - val_loss: 38024192000.0000\n",
            "Epoch 177/400\n",
            "60/60 [==============================] - 0s 4ms/step - loss: 39610810368.0000 - val_loss: 38227931136.0000\n",
            "Epoch 178/400\n",
            "60/60 [==============================] - 0s 4ms/step - loss: 39537348608.0000 - val_loss: 38122160128.0000\n",
            "Epoch 179/400\n",
            "60/60 [==============================] - 0s 3ms/step - loss: 39477182464.0000 - val_loss: 37993164800.0000\n",
            "Epoch 180/400\n",
            "60/60 [==============================] - 0s 3ms/step - loss: 39460245504.0000 - val_loss: 37856088064.0000\n",
            "Epoch 181/400\n",
            "60/60 [==============================] - 0s 4ms/step - loss: 39395545088.0000 - val_loss: 37801394176.0000\n",
            "Epoch 182/400\n",
            "60/60 [==============================] - 0s 3ms/step - loss: 39403495424.0000 - val_loss: 37767884800.0000\n",
            "Epoch 183/400\n",
            "60/60 [==============================] - 0s 3ms/step - loss: 39362105344.0000 - val_loss: 37785088000.0000\n",
            "Epoch 184/400\n",
            "60/60 [==============================] - 0s 4ms/step - loss: 39188889600.0000 - val_loss: 37758410752.0000\n",
            "Epoch 185/400\n",
            "60/60 [==============================] - 0s 4ms/step - loss: 39203749888.0000 - val_loss: 37673058304.0000\n",
            "Epoch 186/400\n",
            "60/60 [==============================] - 0s 3ms/step - loss: 39114338304.0000 - val_loss: 37695803392.0000\n",
            "Epoch 187/400\n",
            "60/60 [==============================] - 0s 3ms/step - loss: 39115784192.0000 - val_loss: 37604458496.0000\n",
            "Epoch 188/400\n",
            "60/60 [==============================] - 0s 3ms/step - loss: 39162634240.0000 - val_loss: 37648273408.0000\n",
            "Epoch 189/400\n",
            "60/60 [==============================] - 0s 3ms/step - loss: 39010705408.0000 - val_loss: 37713440768.0000\n",
            "Epoch 190/400\n",
            "60/60 [==============================] - 0s 4ms/step - loss: 39054635008.0000 - val_loss: 37555437568.0000\n",
            "Epoch 191/400\n",
            "60/60 [==============================] - 0s 3ms/step - loss: 38923124736.0000 - val_loss: 37469712384.0000\n",
            "Epoch 192/400\n",
            "60/60 [==============================] - 0s 4ms/step - loss: 38933848064.0000 - val_loss: 37405011968.0000\n",
            "Epoch 193/400\n",
            "60/60 [==============================] - 0s 3ms/step - loss: 38783967232.0000 - val_loss: 37542744064.0000\n",
            "Epoch 194/400\n",
            "60/60 [==============================] - 0s 3ms/step - loss: 38792396800.0000 - val_loss: 37359648768.0000\n",
            "Epoch 195/400\n",
            "60/60 [==============================] - 0s 3ms/step - loss: 38984351744.0000 - val_loss: 37445283840.0000\n",
            "Epoch 196/400\n",
            "60/60 [==============================] - 0s 3ms/step - loss: 38813376512.0000 - val_loss: 37213585408.0000\n",
            "Epoch 197/400\n",
            "60/60 [==============================] - 0s 3ms/step - loss: 38696452096.0000 - val_loss: 37276909568.0000\n",
            "Epoch 198/400\n",
            "60/60 [==============================] - 0s 3ms/step - loss: 38656094208.0000 - val_loss: 37255077888.0000\n",
            "Epoch 199/400\n",
            "60/60 [==============================] - 0s 3ms/step - loss: 38575398912.0000 - val_loss: 37154295808.0000\n",
            "Epoch 200/400\n",
            "60/60 [==============================] - 0s 3ms/step - loss: 38569672704.0000 - val_loss: 37295108096.0000\n",
            "Epoch 201/400\n",
            "60/60 [==============================] - 0s 4ms/step - loss: 38495481856.0000 - val_loss: 37183868928.0000\n",
            "Epoch 202/400\n",
            "60/60 [==============================] - 0s 3ms/step - loss: 38407553024.0000 - val_loss: 37345775616.0000\n",
            "Epoch 203/400\n",
            "60/60 [==============================] - 0s 3ms/step - loss: 38520532992.0000 - val_loss: 37111853056.0000\n",
            "Epoch 204/400\n",
            "60/60 [==============================] - 0s 3ms/step - loss: 38443868160.0000 - val_loss: 37000392704.0000\n",
            "Epoch 205/400\n",
            "60/60 [==============================] - 0s 4ms/step - loss: 38364962816.0000 - val_loss: 36967006208.0000\n",
            "Epoch 206/400\n",
            "60/60 [==============================] - 0s 4ms/step - loss: 38296481792.0000 - val_loss: 37056819200.0000\n",
            "Epoch 207/400\n",
            "60/60 [==============================] - 0s 4ms/step - loss: 38289408000.0000 - val_loss: 36924051456.0000\n",
            "Epoch 208/400\n",
            "60/60 [==============================] - 0s 4ms/step - loss: 38243254272.0000 - val_loss: 37055074304.0000\n",
            "Epoch 209/400\n",
            "60/60 [==============================] - 0s 4ms/step - loss: 38255472640.0000 - val_loss: 36850712576.0000\n",
            "Epoch 210/400\n",
            "60/60 [==============================] - 0s 4ms/step - loss: 38133256192.0000 - val_loss: 36873949184.0000\n",
            "Epoch 211/400\n",
            "60/60 [==============================] - 0s 3ms/step - loss: 38179753984.0000 - val_loss: 36739215360.0000\n",
            "Epoch 212/400\n",
            "60/60 [==============================] - 0s 4ms/step - loss: 38148386816.0000 - val_loss: 36699516928.0000\n",
            "Epoch 213/400\n",
            "60/60 [==============================] - 0s 3ms/step - loss: 38195642368.0000 - val_loss: 36698271744.0000\n",
            "Epoch 214/400\n",
            "60/60 [==============================] - 0s 3ms/step - loss: 38025175040.0000 - val_loss: 36692205568.0000\n",
            "Epoch 215/400\n",
            "60/60 [==============================] - 0s 3ms/step - loss: 38021128192.0000 - val_loss: 36700823552.0000\n",
            "Epoch 216/400\n",
            "60/60 [==============================] - 0s 3ms/step - loss: 38019301376.0000 - val_loss: 36596178944.0000\n",
            "Epoch 217/400\n",
            "60/60 [==============================] - 0s 3ms/step - loss: 37940690944.0000 - val_loss: 36599480320.0000\n",
            "Epoch 218/400\n",
            "60/60 [==============================] - 0s 3ms/step - loss: 37869518848.0000 - val_loss: 37379166208.0000\n",
            "Epoch 219/400\n",
            "60/60 [==============================] - 0s 4ms/step - loss: 37950320640.0000 - val_loss: 36543553536.0000\n",
            "Epoch 220/400\n",
            "60/60 [==============================] - 0s 3ms/step - loss: 37784928256.0000 - val_loss: 36504129536.0000\n",
            "Epoch 221/400\n",
            "60/60 [==============================] - 0s 3ms/step - loss: 37715980288.0000 - val_loss: 36550279168.0000\n",
            "Epoch 222/400\n",
            "60/60 [==============================] - 0s 3ms/step - loss: 37718630400.0000 - val_loss: 36428075008.0000\n",
            "Epoch 223/400\n",
            "60/60 [==============================] - 0s 3ms/step - loss: 37727764480.0000 - val_loss: 36355112960.0000\n",
            "Epoch 224/400\n",
            "60/60 [==============================] - 0s 4ms/step - loss: 37635514368.0000 - val_loss: 36790685696.0000\n",
            "Epoch 225/400\n",
            "60/60 [==============================] - 0s 3ms/step - loss: 37664239616.0000 - val_loss: 36304605184.0000\n",
            "Epoch 226/400\n",
            "60/60 [==============================] - 0s 4ms/step - loss: 37579411456.0000 - val_loss: 36462522368.0000\n",
            "Epoch 227/400\n",
            "60/60 [==============================] - 0s 5ms/step - loss: 37572333568.0000 - val_loss: 36451897344.0000\n",
            "Epoch 228/400\n",
            "60/60 [==============================] - 0s 5ms/step - loss: 37569724416.0000 - val_loss: 36259823616.0000\n",
            "Epoch 229/400\n",
            "60/60 [==============================] - 0s 4ms/step - loss: 37478563840.0000 - val_loss: 36213403648.0000\n",
            "Epoch 230/400\n",
            "60/60 [==============================] - 0s 4ms/step - loss: 37389168640.0000 - val_loss: 36425101312.0000\n",
            "Epoch 231/400\n",
            "60/60 [==============================] - 0s 4ms/step - loss: 37387444224.0000 - val_loss: 36542672896.0000\n",
            "Epoch 232/400\n",
            "60/60 [==============================] - 0s 4ms/step - loss: 37459800064.0000 - val_loss: 36143349760.0000\n",
            "Epoch 233/400\n",
            "60/60 [==============================] - 0s 4ms/step - loss: 37524918272.0000 - val_loss: 36176580608.0000\n",
            "Epoch 234/400\n",
            "60/60 [==============================] - 0s 4ms/step - loss: 37262282752.0000 - val_loss: 36131033088.0000\n",
            "Epoch 235/400\n",
            "60/60 [==============================] - 0s 4ms/step - loss: 37229854720.0000 - val_loss: 36049575936.0000\n",
            "Epoch 236/400\n",
            "60/60 [==============================] - 0s 4ms/step - loss: 37257412608.0000 - val_loss: 36007899136.0000\n",
            "Epoch 237/400\n",
            "60/60 [==============================] - 0s 4ms/step - loss: 37175316480.0000 - val_loss: 35985924096.0000\n",
            "Epoch 238/400\n",
            "60/60 [==============================] - 0s 4ms/step - loss: 37128224768.0000 - val_loss: 35944906752.0000\n",
            "Epoch 239/400\n",
            "60/60 [==============================] - 0s 4ms/step - loss: 37141213184.0000 - val_loss: 35998855168.0000\n",
            "Epoch 240/400\n",
            "60/60 [==============================] - 0s 4ms/step - loss: 37054275584.0000 - val_loss: 35922857984.0000\n",
            "Epoch 241/400\n",
            "60/60 [==============================] - 0s 3ms/step - loss: 37040377856.0000 - val_loss: 35859697664.0000\n",
            "Epoch 242/400\n",
            "60/60 [==============================] - 0s 3ms/step - loss: 37062201344.0000 - val_loss: 35904327680.0000\n",
            "Epoch 243/400\n",
            "60/60 [==============================] - 0s 3ms/step - loss: 36982763520.0000 - val_loss: 35835097088.0000\n",
            "Epoch 244/400\n",
            "60/60 [==============================] - 0s 3ms/step - loss: 36970409984.0000 - val_loss: 35773399040.0000\n",
            "Epoch 245/400\n",
            "60/60 [==============================] - 0s 3ms/step - loss: 36997210112.0000 - val_loss: 35865300992.0000\n",
            "Epoch 246/400\n",
            "60/60 [==============================] - 0s 4ms/step - loss: 37120901120.0000 - val_loss: 35829608448.0000\n",
            "Epoch 247/400\n",
            "60/60 [==============================] - 0s 4ms/step - loss: 36846354432.0000 - val_loss: 35770236928.0000\n",
            "Epoch 248/400\n",
            "60/60 [==============================] - 0s 3ms/step - loss: 36810436608.0000 - val_loss: 35674771456.0000\n",
            "Epoch 249/400\n",
            "60/60 [==============================] - 0s 3ms/step - loss: 36750807040.0000 - val_loss: 35628482560.0000\n",
            "Epoch 250/400\n",
            "60/60 [==============================] - 0s 4ms/step - loss: 36742189056.0000 - val_loss: 35590115328.0000\n",
            "Epoch 251/400\n",
            "60/60 [==============================] - 0s 3ms/step - loss: 36665376768.0000 - val_loss: 35556474880.0000\n",
            "Epoch 252/400\n",
            "60/60 [==============================] - 0s 3ms/step - loss: 36688412672.0000 - val_loss: 35597058048.0000\n",
            "Epoch 253/400\n",
            "60/60 [==============================] - 0s 3ms/step - loss: 36707213312.0000 - val_loss: 35519938560.0000\n",
            "Epoch 254/400\n",
            "60/60 [==============================] - 0s 3ms/step - loss: 36606312448.0000 - val_loss: 35553361920.0000\n",
            "Epoch 255/400\n",
            "60/60 [==============================] - 0s 3ms/step - loss: 36569047040.0000 - val_loss: 35431952384.0000\n",
            "Epoch 256/400\n",
            "60/60 [==============================] - 0s 4ms/step - loss: 36546768896.0000 - val_loss: 35439476736.0000\n",
            "Epoch 257/400\n",
            "60/60 [==============================] - 0s 4ms/step - loss: 36499849216.0000 - val_loss: 35427528704.0000\n",
            "Epoch 258/400\n",
            "60/60 [==============================] - 0s 3ms/step - loss: 36568379392.0000 - val_loss: 35357175808.0000\n",
            "Epoch 259/400\n",
            "60/60 [==============================] - 0s 3ms/step - loss: 36451368960.0000 - val_loss: 35588628480.0000\n",
            "Epoch 260/400\n",
            "60/60 [==============================] - 0s 4ms/step - loss: 36584640512.0000 - val_loss: 35327684608.0000\n",
            "Epoch 261/400\n",
            "60/60 [==============================] - 0s 4ms/step - loss: 36338581504.0000 - val_loss: 35330510848.0000\n",
            "Epoch 262/400\n",
            "60/60 [==============================] - 0s 3ms/step - loss: 36362391552.0000 - val_loss: 35302903808.0000\n",
            "Epoch 263/400\n",
            "60/60 [==============================] - 0s 4ms/step - loss: 36380897280.0000 - val_loss: 35285086208.0000\n",
            "Epoch 264/400\n",
            "60/60 [==============================] - 0s 3ms/step - loss: 36286836736.0000 - val_loss: 35299008512.0000\n",
            "Epoch 265/400\n",
            "60/60 [==============================] - 0s 3ms/step - loss: 36308586496.0000 - val_loss: 35150290944.0000\n",
            "Epoch 266/400\n",
            "60/60 [==============================] - 0s 4ms/step - loss: 36298125312.0000 - val_loss: 35159777280.0000\n",
            "Epoch 267/400\n",
            "60/60 [==============================] - 0s 4ms/step - loss: 36269096960.0000 - val_loss: 35170926592.0000\n",
            "Epoch 268/400\n",
            "60/60 [==============================] - 0s 4ms/step - loss: 36164624384.0000 - val_loss: 35096199168.0000\n",
            "Epoch 269/400\n",
            "60/60 [==============================] - 0s 3ms/step - loss: 36114591744.0000 - val_loss: 35045408768.0000\n",
            "Epoch 270/400\n",
            "60/60 [==============================] - 0s 3ms/step - loss: 36053319680.0000 - val_loss: 35300945920.0000\n",
            "Epoch 271/400\n",
            "60/60 [==============================] - 0s 3ms/step - loss: 36018921472.0000 - val_loss: 35033104384.0000\n",
            "Epoch 272/400\n",
            "60/60 [==============================] - 0s 3ms/step - loss: 36086382592.0000 - val_loss: 35152183296.0000\n",
            "Epoch 273/400\n",
            "60/60 [==============================] - 0s 3ms/step - loss: 35992330240.0000 - val_loss: 35027734528.0000\n",
            "Epoch 274/400\n",
            "60/60 [==============================] - 0s 3ms/step - loss: 35998887936.0000 - val_loss: 35133833216.0000\n",
            "Epoch 275/400\n",
            "60/60 [==============================] - 0s 3ms/step - loss: 35919122432.0000 - val_loss: 34963369984.0000\n",
            "Epoch 276/400\n",
            "60/60 [==============================] - 0s 3ms/step - loss: 35914850304.0000 - val_loss: 34955952128.0000\n",
            "Epoch 277/400\n",
            "60/60 [==============================] - 0s 4ms/step - loss: 35880808448.0000 - val_loss: 35043090432.0000\n",
            "Epoch 278/400\n",
            "60/60 [==============================] - 0s 3ms/step - loss: 35853369344.0000 - val_loss: 34835013632.0000\n",
            "Epoch 279/400\n",
            "60/60 [==============================] - 0s 3ms/step - loss: 35792146432.0000 - val_loss: 34771931136.0000\n",
            "Epoch 280/400\n",
            "60/60 [==============================] - 0s 4ms/step - loss: 35957407744.0000 - val_loss: 34850385920.0000\n",
            "Epoch 281/400\n",
            "60/60 [==============================] - 0s 3ms/step - loss: 35776114688.0000 - val_loss: 34835156992.0000\n",
            "Epoch 282/400\n",
            "60/60 [==============================] - 0s 4ms/step - loss: 35689472000.0000 - val_loss: 34844667904.0000\n",
            "Epoch 283/400\n",
            "60/60 [==============================] - 0s 3ms/step - loss: 35671937024.0000 - val_loss: 34758955008.0000\n",
            "Epoch 284/400\n",
            "60/60 [==============================] - 0s 3ms/step - loss: 35866230784.0000 - val_loss: 34978725888.0000\n",
            "Epoch 285/400\n",
            "60/60 [==============================] - 0s 4ms/step - loss: 35627581440.0000 - val_loss: 34767220736.0000\n",
            "Epoch 286/400\n",
            "60/60 [==============================] - 0s 4ms/step - loss: 35582107648.0000 - val_loss: 34701463552.0000\n",
            "Epoch 287/400\n",
            "60/60 [==============================] - 0s 4ms/step - loss: 35528359936.0000 - val_loss: 34679754752.0000\n",
            "Epoch 288/400\n",
            "60/60 [==============================] - 0s 4ms/step - loss: 35515351040.0000 - val_loss: 34685059072.0000\n",
            "Epoch 289/400\n",
            "60/60 [==============================] - 0s 5ms/step - loss: 35557531648.0000 - val_loss: 34666012672.0000\n",
            "Epoch 290/400\n",
            "60/60 [==============================] - 0s 4ms/step - loss: 35387613184.0000 - val_loss: 34772164608.0000\n",
            "Epoch 291/400\n",
            "60/60 [==============================] - 0s 4ms/step - loss: 35518869504.0000 - val_loss: 34547425280.0000\n",
            "Epoch 292/400\n",
            "60/60 [==============================] - 0s 4ms/step - loss: 35381579776.0000 - val_loss: 34574393344.0000\n",
            "Epoch 293/400\n",
            "60/60 [==============================] - 0s 5ms/step - loss: 35318870016.0000 - val_loss: 34565464064.0000\n",
            "Epoch 294/400\n",
            "60/60 [==============================] - 0s 5ms/step - loss: 35353329664.0000 - val_loss: 34424496128.0000\n",
            "Epoch 295/400\n",
            "60/60 [==============================] - 0s 4ms/step - loss: 35412615168.0000 - val_loss: 34443423744.0000\n",
            "Epoch 296/400\n",
            "60/60 [==============================] - 0s 5ms/step - loss: 35397742592.0000 - val_loss: 34407337984.0000\n",
            "Epoch 297/400\n",
            "60/60 [==============================] - 0s 5ms/step - loss: 35245088768.0000 - val_loss: 34488176640.0000\n",
            "Epoch 298/400\n",
            "60/60 [==============================] - 0s 3ms/step - loss: 35288584192.0000 - val_loss: 34398298112.0000\n",
            "Epoch 299/400\n",
            "60/60 [==============================] - 0s 3ms/step - loss: 35249201152.0000 - val_loss: 34367463424.0000\n",
            "Epoch 300/400\n",
            "60/60 [==============================] - 0s 4ms/step - loss: 35249651712.0000 - val_loss: 34286317568.0000\n",
            "Epoch 301/400\n",
            "60/60 [==============================] - 0s 3ms/step - loss: 35200782336.0000 - val_loss: 34335049728.0000\n",
            "Epoch 302/400\n",
            "60/60 [==============================] - 0s 3ms/step - loss: 35072655360.0000 - val_loss: 34256818176.0000\n",
            "Epoch 303/400\n",
            "60/60 [==============================] - 0s 3ms/step - loss: 35092291584.0000 - val_loss: 34199078912.0000\n",
            "Epoch 304/400\n",
            "60/60 [==============================] - 0s 4ms/step - loss: 35096928256.0000 - val_loss: 34251649024.0000\n",
            "Epoch 305/400\n",
            "60/60 [==============================] - 0s 4ms/step - loss: 35139866624.0000 - val_loss: 34384674816.0000\n",
            "Epoch 306/400\n",
            "60/60 [==============================] - 0s 3ms/step - loss: 35367469056.0000 - val_loss: 34201827328.0000\n",
            "Epoch 307/400\n",
            "60/60 [==============================] - 0s 4ms/step - loss: 34959106048.0000 - val_loss: 34274232320.0000\n",
            "Epoch 308/400\n",
            "60/60 [==============================] - 0s 4ms/step - loss: 34986500096.0000 - val_loss: 34106167296.0000\n",
            "Epoch 309/400\n",
            "60/60 [==============================] - 0s 4ms/step - loss: 34993278976.0000 - val_loss: 34306744320.0000\n",
            "Epoch 310/400\n",
            "60/60 [==============================] - 0s 3ms/step - loss: 34926952448.0000 - val_loss: 34118879232.0000\n",
            "Epoch 311/400\n",
            "60/60 [==============================] - 0s 4ms/step - loss: 34901434368.0000 - val_loss: 34039480320.0000\n",
            "Epoch 312/400\n",
            "60/60 [==============================] - 0s 4ms/step - loss: 34958147584.0000 - val_loss: 34097209344.0000\n",
            "Epoch 313/400\n",
            "60/60 [==============================] - 0s 3ms/step - loss: 34806382592.0000 - val_loss: 34063611904.0000\n",
            "Epoch 314/400\n",
            "60/60 [==============================] - 0s 4ms/step - loss: 34849488896.0000 - val_loss: 34077251584.0000\n",
            "Epoch 315/400\n",
            "60/60 [==============================] - 0s 4ms/step - loss: 34781990912.0000 - val_loss: 34223601664.0000\n",
            "Epoch 316/400\n",
            "60/60 [==============================] - 0s 3ms/step - loss: 34739417088.0000 - val_loss: 34494705664.0000\n",
            "Epoch 317/400\n",
            "60/60 [==============================] - 0s 4ms/step - loss: 34755665920.0000 - val_loss: 33984014336.0000\n",
            "Epoch 318/400\n",
            "60/60 [==============================] - 0s 4ms/step - loss: 34660941824.0000 - val_loss: 34400583680.0000\n",
            "Epoch 319/400\n",
            "60/60 [==============================] - 0s 3ms/step - loss: 34696708096.0000 - val_loss: 33879724032.0000\n",
            "Epoch 320/400\n",
            "60/60 [==============================] - 0s 4ms/step - loss: 34638966784.0000 - val_loss: 33898096640.0000\n",
            "Epoch 321/400\n",
            "60/60 [==============================] - 0s 4ms/step - loss: 34701725696.0000 - val_loss: 33944258560.0000\n",
            "Epoch 322/400\n",
            "60/60 [==============================] - 0s 3ms/step - loss: 34732322816.0000 - val_loss: 33820524544.0000\n",
            "Epoch 323/400\n",
            "60/60 [==============================] - 0s 4ms/step - loss: 34539180032.0000 - val_loss: 33944461312.0000\n",
            "Epoch 324/400\n",
            "60/60 [==============================] - 0s 3ms/step - loss: 34621177856.0000 - val_loss: 33786923008.0000\n",
            "Epoch 325/400\n",
            "60/60 [==============================] - 0s 3ms/step - loss: 34568945664.0000 - val_loss: 33746702336.0000\n",
            "Epoch 326/400\n",
            "60/60 [==============================] - 0s 3ms/step - loss: 34534473728.0000 - val_loss: 33728385024.0000\n",
            "Epoch 327/400\n",
            "60/60 [==============================] - 0s 3ms/step - loss: 34509275136.0000 - val_loss: 33872726016.0000\n",
            "Epoch 328/400\n",
            "60/60 [==============================] - 0s 3ms/step - loss: 34567454720.0000 - val_loss: 33702660096.0000\n",
            "Epoch 329/400\n",
            "60/60 [==============================] - 0s 4ms/step - loss: 34489806848.0000 - val_loss: 33743511552.0000\n",
            "Epoch 330/400\n",
            "60/60 [==============================] - 0s 4ms/step - loss: 34391486464.0000 - val_loss: 33638361088.0000\n",
            "Epoch 331/400\n",
            "60/60 [==============================] - 0s 3ms/step - loss: 34521427968.0000 - val_loss: 34008348672.0000\n",
            "Epoch 332/400\n",
            "60/60 [==============================] - 0s 3ms/step - loss: 34473459712.0000 - val_loss: 33655644160.0000\n",
            "Epoch 333/400\n",
            "60/60 [==============================] - 0s 3ms/step - loss: 34354475008.0000 - val_loss: 33701466112.0000\n",
            "Epoch 334/400\n",
            "60/60 [==============================] - 0s 3ms/step - loss: 34330318848.0000 - val_loss: 33660653568.0000\n",
            "Epoch 335/400\n",
            "60/60 [==============================] - 0s 3ms/step - loss: 34272804864.0000 - val_loss: 33741166592.0000\n",
            "Epoch 336/400\n",
            "60/60 [==============================] - 0s 3ms/step - loss: 34344357888.0000 - val_loss: 33565247488.0000\n",
            "Epoch 337/400\n",
            "60/60 [==============================] - 0s 4ms/step - loss: 34261956608.0000 - val_loss: 33622134784.0000\n",
            "Epoch 338/400\n",
            "60/60 [==============================] - 0s 3ms/step - loss: 34286798848.0000 - val_loss: 33537742848.0000\n",
            "Epoch 339/400\n",
            "60/60 [==============================] - 0s 4ms/step - loss: 34225418240.0000 - val_loss: 33490427904.0000\n",
            "Epoch 340/400\n",
            "60/60 [==============================] - 0s 4ms/step - loss: 34276548608.0000 - val_loss: 33418594304.0000\n",
            "Epoch 341/400\n",
            "60/60 [==============================] - 0s 3ms/step - loss: 34250221568.0000 - val_loss: 33434728448.0000\n",
            "Epoch 342/400\n",
            "60/60 [==============================] - 0s 3ms/step - loss: 34224717824.0000 - val_loss: 33407680512.0000\n",
            "Epoch 343/400\n",
            "60/60 [==============================] - 0s 4ms/step - loss: 34101010432.0000 - val_loss: 34340245504.0000\n",
            "Epoch 344/400\n",
            "60/60 [==============================] - 0s 5ms/step - loss: 34297972736.0000 - val_loss: 33431398400.0000\n",
            "Epoch 345/400\n",
            "60/60 [==============================] - 0s 5ms/step - loss: 34118240256.0000 - val_loss: 33362810880.0000\n",
            "Epoch 346/400\n",
            "60/60 [==============================] - 0s 5ms/step - loss: 34001145856.0000 - val_loss: 33375391744.0000\n",
            "Epoch 347/400\n",
            "60/60 [==============================] - 0s 4ms/step - loss: 34165794816.0000 - val_loss: 34622869504.0000\n",
            "Epoch 348/400\n",
            "60/60 [==============================] - 0s 5ms/step - loss: 34108942336.0000 - val_loss: 33321373696.0000\n",
            "Epoch 349/400\n",
            "60/60 [==============================] - 0s 4ms/step - loss: 34017433600.0000 - val_loss: 33387905024.0000\n",
            "Epoch 350/400\n",
            "60/60 [==============================] - 0s 4ms/step - loss: 34055100416.0000 - val_loss: 33260232704.0000\n",
            "Epoch 351/400\n",
            "60/60 [==============================] - 0s 4ms/step - loss: 33935992832.0000 - val_loss: 33207197696.0000\n",
            "Epoch 352/400\n",
            "60/60 [==============================] - 0s 5ms/step - loss: 33928527872.0000 - val_loss: 33237252096.0000\n",
            "Epoch 353/400\n",
            "60/60 [==============================] - 0s 4ms/step - loss: 33912092672.0000 - val_loss: 33260535808.0000\n",
            "Epoch 354/400\n",
            "60/60 [==============================] - 0s 4ms/step - loss: 33938165760.0000 - val_loss: 33165393920.0000\n",
            "Epoch 355/400\n",
            "60/60 [==============================] - 0s 5ms/step - loss: 34037112832.0000 - val_loss: 33124513792.0000\n",
            "Epoch 356/400\n",
            "60/60 [==============================] - 0s 5ms/step - loss: 33971048448.0000 - val_loss: 33159542784.0000\n",
            "Epoch 357/400\n",
            "60/60 [==============================] - 0s 4ms/step - loss: 33908420608.0000 - val_loss: 33079707648.0000\n",
            "Epoch 358/400\n",
            "60/60 [==============================] - 0s 3ms/step - loss: 33824514048.0000 - val_loss: 33092323328.0000\n",
            "Epoch 359/400\n",
            "60/60 [==============================] - 0s 3ms/step - loss: 33875787776.0000 - val_loss: 33069752320.0000\n",
            "Epoch 360/400\n",
            "60/60 [==============================] - 0s 4ms/step - loss: 33948921856.0000 - val_loss: 33122641920.0000\n",
            "Epoch 361/400\n",
            "60/60 [==============================] - 0s 4ms/step - loss: 33824043008.0000 - val_loss: 33069490176.0000\n",
            "Epoch 362/400\n",
            "60/60 [==============================] - 0s 4ms/step - loss: 33782734848.0000 - val_loss: 33120555008.0000\n",
            "Epoch 363/400\n",
            "60/60 [==============================] - 0s 3ms/step - loss: 33752285184.0000 - val_loss: 33011552256.0000\n",
            "Epoch 364/400\n",
            "60/60 [==============================] - 0s 4ms/step - loss: 33770960896.0000 - val_loss: 32962289664.0000\n",
            "Epoch 365/400\n",
            "60/60 [==============================] - 0s 4ms/step - loss: 33710329856.0000 - val_loss: 32978968576.0000\n",
            "Epoch 366/400\n",
            "60/60 [==============================] - 0s 4ms/step - loss: 33815973888.0000 - val_loss: 33009012736.0000\n",
            "Epoch 367/400\n",
            "60/60 [==============================] - 0s 4ms/step - loss: 33742163968.0000 - val_loss: 33105895424.0000\n",
            "Epoch 368/400\n",
            "60/60 [==============================] - 0s 3ms/step - loss: 33714128896.0000 - val_loss: 33049473024.0000\n",
            "Epoch 369/400\n",
            "60/60 [==============================] - 0s 3ms/step - loss: 33744783360.0000 - val_loss: 32965507072.0000\n",
            "Epoch 370/400\n",
            "60/60 [==============================] - 0s 4ms/step - loss: 33628686336.0000 - val_loss: 32929196032.0000\n",
            "Epoch 371/400\n",
            "60/60 [==============================] - 0s 3ms/step - loss: 33584881664.0000 - val_loss: 32945956864.0000\n",
            "Epoch 372/400\n",
            "60/60 [==============================] - 0s 4ms/step - loss: 33752260608.0000 - val_loss: 32856535040.0000\n",
            "Epoch 373/400\n",
            "60/60 [==============================] - 0s 4ms/step - loss: 33559033856.0000 - val_loss: 32908869632.0000\n",
            "Epoch 374/400\n",
            "60/60 [==============================] - 0s 4ms/step - loss: 33509697536.0000 - val_loss: 32872398848.0000\n",
            "Epoch 375/400\n",
            "60/60 [==============================] - 0s 3ms/step - loss: 33549611008.0000 - val_loss: 32824444928.0000\n",
            "Epoch 376/400\n",
            "60/60 [==============================] - 0s 4ms/step - loss: 33578102784.0000 - val_loss: 32847378432.0000\n",
            "Epoch 377/400\n",
            "60/60 [==============================] - 0s 4ms/step - loss: 33778173952.0000 - val_loss: 32812677120.0000\n",
            "Epoch 378/400\n",
            "60/60 [==============================] - 0s 4ms/step - loss: 33690593280.0000 - val_loss: 32783691776.0000\n",
            "Epoch 379/400\n",
            "60/60 [==============================] - 0s 4ms/step - loss: 33482520576.0000 - val_loss: 32796360704.0000\n",
            "Epoch 380/400\n",
            "60/60 [==============================] - 0s 3ms/step - loss: 33511047168.0000 - val_loss: 32785469440.0000\n",
            "Epoch 381/400\n",
            "60/60 [==============================] - 0s 4ms/step - loss: 33513814016.0000 - val_loss: 32914655232.0000\n",
            "Epoch 382/400\n",
            "60/60 [==============================] - 0s 3ms/step - loss: 33344894976.0000 - val_loss: 32854087680.0000\n",
            "Epoch 383/400\n",
            "60/60 [==============================] - 0s 3ms/step - loss: 33446803456.0000 - val_loss: 32699000832.0000\n",
            "Epoch 384/400\n",
            "60/60 [==============================] - 0s 4ms/step - loss: 33510375424.0000 - val_loss: 32671645696.0000\n",
            "Epoch 385/400\n",
            "60/60 [==============================] - 0s 3ms/step - loss: 33351440384.0000 - val_loss: 33094066176.0000\n",
            "Epoch 386/400\n",
            "60/60 [==============================] - 0s 4ms/step - loss: 33874843648.0000 - val_loss: 32812728320.0000\n",
            "Epoch 387/400\n",
            "60/60 [==============================] - 0s 4ms/step - loss: 33346400256.0000 - val_loss: 32673576960.0000\n",
            "Epoch 388/400\n",
            "60/60 [==============================] - 0s 4ms/step - loss: 33696391168.0000 - val_loss: 32822048768.0000\n",
            "Epoch 389/400\n",
            "60/60 [==============================] - 0s 3ms/step - loss: 33378375680.0000 - val_loss: 32634529792.0000\n",
            "Epoch 390/400\n",
            "60/60 [==============================] - 0s 4ms/step - loss: 33323231232.0000 - val_loss: 32652134400.0000\n",
            "Epoch 391/400\n",
            "60/60 [==============================] - 0s 3ms/step - loss: 33266765824.0000 - val_loss: 32560979968.0000\n",
            "Epoch 392/400\n",
            "60/60 [==============================] - 0s 4ms/step - loss: 33223895040.0000 - val_loss: 32640858112.0000\n",
            "Epoch 393/400\n",
            "60/60 [==============================] - 0s 3ms/step - loss: 33279369216.0000 - val_loss: 32583970816.0000\n",
            "Epoch 394/400\n",
            "60/60 [==============================] - 0s 3ms/step - loss: 33251383296.0000 - val_loss: 32519880704.0000\n",
            "Epoch 395/400\n",
            "60/60 [==============================] - 0s 4ms/step - loss: 33185026048.0000 - val_loss: 32603531264.0000\n",
            "Epoch 396/400\n",
            "60/60 [==============================] - 0s 3ms/step - loss: 33178494976.0000 - val_loss: 32548093952.0000\n",
            "Epoch 397/400\n",
            "60/60 [==============================] - 0s 3ms/step - loss: 33189961728.0000 - val_loss: 32531527680.0000\n",
            "Epoch 398/400\n",
            "60/60 [==============================] - 0s 3ms/step - loss: 33115299840.0000 - val_loss: 32443017216.0000\n",
            "Epoch 399/400\n",
            "60/60 [==============================] - 0s 3ms/step - loss: 33234243584.0000 - val_loss: 32398010368.0000\n",
            "Epoch 400/400\n",
            "60/60 [==============================] - 0s 3ms/step - loss: 33121613824.0000 - val_loss: 32470011904.0000\n"
          ]
        },
        {
          "data": {
            "text/plain": [
              "<keras.src.callbacks.History at 0x7f7a7dd486d0>"
            ]
          },
          "execution_count": 118,
          "metadata": {},
          "output_type": "execute_result"
        }
      ],
      "source": [
        "# fit the model\n",
        "model.fit(x=x_train_scaled , y=ytrain, epochs=400, batch_size=256,validation_data=(x_test_scaled,ytest) , verbose=1 )"
      ]
    },
    {
      "cell_type": "markdown",
      "metadata": {
        "id": "YaJ5NgQam_2g"
      },
      "source": [
        "We can see that loss is getting smaller and smaller."
      ]
    },
    {
      "cell_type": "markdown",
      "metadata": {
        "id": "5suMczdhm_0B"
      },
      "source": [
        "### Explore what our training history looks like and Whether it is overfitting or not\n"
      ]
    },
    {
      "cell_type": "code",
      "execution_count": null,
      "metadata": {
        "colab": {
          "base_uri": "https://localhost:8080/",
          "height": 206
        },
        "id": "x1i1NCXCm_xJ",
        "outputId": "ea1d3670-8f0d-4b6f-db84-6b6a2bfd1bae"
      },
      "outputs": [
        {
          "data": {
            "text/html": [
              "\n",
              "  <div id=\"df-bab5bd59-ecb7-4111-bc2b-315b7688977c\" class=\"colab-df-container\">\n",
              "    <div>\n",
              "<style scoped>\n",
              "    .dataframe tbody tr th:only-of-type {\n",
              "        vertical-align: middle;\n",
              "    }\n",
              "\n",
              "    .dataframe tbody tr th {\n",
              "        vertical-align: top;\n",
              "    }\n",
              "\n",
              "    .dataframe thead th {\n",
              "        text-align: right;\n",
              "    }\n",
              "</style>\n",
              "<table border=\"1\" class=\"dataframe\">\n",
              "  <thead>\n",
              "    <tr style=\"text-align: right;\">\n",
              "      <th></th>\n",
              "      <th>loss</th>\n",
              "      <th>val_loss</th>\n",
              "    </tr>\n",
              "  </thead>\n",
              "  <tbody>\n",
              "    <tr>\n",
              "      <th>0</th>\n",
              "      <td>4.333334e+11</td>\n",
              "      <td>4.116956e+11</td>\n",
              "    </tr>\n",
              "    <tr>\n",
              "      <th>1</th>\n",
              "      <td>4.331804e+11</td>\n",
              "      <td>4.112936e+11</td>\n",
              "    </tr>\n",
              "    <tr>\n",
              "      <th>2</th>\n",
              "      <td>4.321659e+11</td>\n",
              "      <td>4.092251e+11</td>\n",
              "    </tr>\n",
              "    <tr>\n",
              "      <th>3</th>\n",
              "      <td>4.287608e+11</td>\n",
              "      <td>4.037890e+11</td>\n",
              "    </tr>\n",
              "    <tr>\n",
              "      <th>4</th>\n",
              "      <td>4.212068e+11</td>\n",
              "      <td>3.935711e+11</td>\n",
              "    </tr>\n",
              "  </tbody>\n",
              "</table>\n",
              "</div>\n",
              "    <div class=\"colab-df-buttons\">\n",
              "\n",
              "  <div class=\"colab-df-container\">\n",
              "    <button class=\"colab-df-convert\" onclick=\"convertToInteractive('df-bab5bd59-ecb7-4111-bc2b-315b7688977c')\"\n",
              "            title=\"Convert this dataframe to an interactive table.\"\n",
              "            style=\"display:none;\">\n",
              "\n",
              "  <svg xmlns=\"http://www.w3.org/2000/svg\" height=\"24px\" viewBox=\"0 -960 960 960\">\n",
              "    <path d=\"M120-120v-720h720v720H120Zm60-500h600v-160H180v160Zm220 220h160v-160H400v160Zm0 220h160v-160H400v160ZM180-400h160v-160H180v160Zm440 0h160v-160H620v160ZM180-180h160v-160H180v160Zm440 0h160v-160H620v160Z\"/>\n",
              "  </svg>\n",
              "    </button>\n",
              "\n",
              "  <style>\n",
              "    .colab-df-container {\n",
              "      display:flex;\n",
              "      gap: 12px;\n",
              "    }\n",
              "\n",
              "    .colab-df-convert {\n",
              "      background-color: #E8F0FE;\n",
              "      border: none;\n",
              "      border-radius: 50%;\n",
              "      cursor: pointer;\n",
              "      display: none;\n",
              "      fill: #1967D2;\n",
              "      height: 32px;\n",
              "      padding: 0 0 0 0;\n",
              "      width: 32px;\n",
              "    }\n",
              "\n",
              "    .colab-df-convert:hover {\n",
              "      background-color: #E2EBFA;\n",
              "      box-shadow: 0px 1px 2px rgba(60, 64, 67, 0.3), 0px 1px 3px 1px rgba(60, 64, 67, 0.15);\n",
              "      fill: #174EA6;\n",
              "    }\n",
              "\n",
              "    .colab-df-buttons div {\n",
              "      margin-bottom: 4px;\n",
              "    }\n",
              "\n",
              "    [theme=dark] .colab-df-convert {\n",
              "      background-color: #3B4455;\n",
              "      fill: #D2E3FC;\n",
              "    }\n",
              "\n",
              "    [theme=dark] .colab-df-convert:hover {\n",
              "      background-color: #434B5C;\n",
              "      box-shadow: 0px 1px 3px 1px rgba(0, 0, 0, 0.15);\n",
              "      filter: drop-shadow(0px 1px 2px rgba(0, 0, 0, 0.3));\n",
              "      fill: #FFFFFF;\n",
              "    }\n",
              "  </style>\n",
              "\n",
              "    <script>\n",
              "      const buttonEl =\n",
              "        document.querySelector('#df-bab5bd59-ecb7-4111-bc2b-315b7688977c button.colab-df-convert');\n",
              "      buttonEl.style.display =\n",
              "        google.colab.kernel.accessAllowed ? 'block' : 'none';\n",
              "\n",
              "      async function convertToInteractive(key) {\n",
              "        const element = document.querySelector('#df-bab5bd59-ecb7-4111-bc2b-315b7688977c');\n",
              "        const dataTable =\n",
              "          await google.colab.kernel.invokeFunction('convertToInteractive',\n",
              "                                                    [key], {});\n",
              "        if (!dataTable) return;\n",
              "\n",
              "        const docLinkHtml = 'Like what you see? Visit the ' +\n",
              "          '<a target=\"_blank\" href=https://colab.research.google.com/notebooks/data_table.ipynb>data table notebook</a>'\n",
              "          + ' to learn more about interactive tables.';\n",
              "        element.innerHTML = '';\n",
              "        dataTable['output_type'] = 'display_data';\n",
              "        await google.colab.output.renderOutput(dataTable, element);\n",
              "        const docLink = document.createElement('div');\n",
              "        docLink.innerHTML = docLinkHtml;\n",
              "        element.appendChild(docLink);\n",
              "      }\n",
              "    </script>\n",
              "  </div>\n",
              "\n",
              "\n",
              "<div id=\"df-24fb720c-0e5a-4f99-88f5-ea0757c142fa\">\n",
              "  <button class=\"colab-df-quickchart\" onclick=\"quickchart('df-24fb720c-0e5a-4f99-88f5-ea0757c142fa')\"\n",
              "            title=\"Suggest charts.\"\n",
              "            style=\"display:none;\">\n",
              "\n",
              "<svg xmlns=\"http://www.w3.org/2000/svg\" height=\"24px\"viewBox=\"0 0 24 24\"\n",
              "     width=\"24px\">\n",
              "    <g>\n",
              "        <path d=\"M19 3H5c-1.1 0-2 .9-2 2v14c0 1.1.9 2 2 2h14c1.1 0 2-.9 2-2V5c0-1.1-.9-2-2-2zM9 17H7v-7h2v7zm4 0h-2V7h2v10zm4 0h-2v-4h2v4z\"/>\n",
              "    </g>\n",
              "</svg>\n",
              "  </button>\n",
              "\n",
              "<style>\n",
              "  .colab-df-quickchart {\n",
              "      --bg-color: #E8F0FE;\n",
              "      --fill-color: #1967D2;\n",
              "      --hover-bg-color: #E2EBFA;\n",
              "      --hover-fill-color: #174EA6;\n",
              "      --disabled-fill-color: #AAA;\n",
              "      --disabled-bg-color: #DDD;\n",
              "  }\n",
              "\n",
              "  [theme=dark] .colab-df-quickchart {\n",
              "      --bg-color: #3B4455;\n",
              "      --fill-color: #D2E3FC;\n",
              "      --hover-bg-color: #434B5C;\n",
              "      --hover-fill-color: #FFFFFF;\n",
              "      --disabled-bg-color: #3B4455;\n",
              "      --disabled-fill-color: #666;\n",
              "  }\n",
              "\n",
              "  .colab-df-quickchart {\n",
              "    background-color: var(--bg-color);\n",
              "    border: none;\n",
              "    border-radius: 50%;\n",
              "    cursor: pointer;\n",
              "    display: none;\n",
              "    fill: var(--fill-color);\n",
              "    height: 32px;\n",
              "    padding: 0;\n",
              "    width: 32px;\n",
              "  }\n",
              "\n",
              "  .colab-df-quickchart:hover {\n",
              "    background-color: var(--hover-bg-color);\n",
              "    box-shadow: 0 1px 2px rgba(60, 64, 67, 0.3), 0 1px 3px 1px rgba(60, 64, 67, 0.15);\n",
              "    fill: var(--button-hover-fill-color);\n",
              "  }\n",
              "\n",
              "  .colab-df-quickchart-complete:disabled,\n",
              "  .colab-df-quickchart-complete:disabled:hover {\n",
              "    background-color: var(--disabled-bg-color);\n",
              "    fill: var(--disabled-fill-color);\n",
              "    box-shadow: none;\n",
              "  }\n",
              "\n",
              "  .colab-df-spinner {\n",
              "    border: 2px solid var(--fill-color);\n",
              "    border-color: transparent;\n",
              "    border-bottom-color: var(--fill-color);\n",
              "    animation:\n",
              "      spin 1s steps(1) infinite;\n",
              "  }\n",
              "\n",
              "  @keyframes spin {\n",
              "    0% {\n",
              "      border-color: transparent;\n",
              "      border-bottom-color: var(--fill-color);\n",
              "      border-left-color: var(--fill-color);\n",
              "    }\n",
              "    20% {\n",
              "      border-color: transparent;\n",
              "      border-left-color: var(--fill-color);\n",
              "      border-top-color: var(--fill-color);\n",
              "    }\n",
              "    30% {\n",
              "      border-color: transparent;\n",
              "      border-left-color: var(--fill-color);\n",
              "      border-top-color: var(--fill-color);\n",
              "      border-right-color: var(--fill-color);\n",
              "    }\n",
              "    40% {\n",
              "      border-color: transparent;\n",
              "      border-right-color: var(--fill-color);\n",
              "      border-top-color: var(--fill-color);\n",
              "    }\n",
              "    60% {\n",
              "      border-color: transparent;\n",
              "      border-right-color: var(--fill-color);\n",
              "    }\n",
              "    80% {\n",
              "      border-color: transparent;\n",
              "      border-right-color: var(--fill-color);\n",
              "      border-bottom-color: var(--fill-color);\n",
              "    }\n",
              "    90% {\n",
              "      border-color: transparent;\n",
              "      border-bottom-color: var(--fill-color);\n",
              "    }\n",
              "  }\n",
              "</style>\n",
              "\n",
              "  <script>\n",
              "    async function quickchart(key) {\n",
              "      const quickchartButtonEl =\n",
              "        document.querySelector('#' + key + ' button');\n",
              "      quickchartButtonEl.disabled = true;  // To prevent multiple clicks.\n",
              "      quickchartButtonEl.classList.add('colab-df-spinner');\n",
              "      try {\n",
              "        const charts = await google.colab.kernel.invokeFunction(\n",
              "            'suggestCharts', [key], {});\n",
              "      } catch (error) {\n",
              "        console.error('Error during call to suggestCharts:', error);\n",
              "      }\n",
              "      quickchartButtonEl.classList.remove('colab-df-spinner');\n",
              "      quickchartButtonEl.classList.add('colab-df-quickchart-complete');\n",
              "    }\n",
              "    (() => {\n",
              "      let quickchartButtonEl =\n",
              "        document.querySelector('#df-24fb720c-0e5a-4f99-88f5-ea0757c142fa button');\n",
              "      quickchartButtonEl.style.display =\n",
              "        google.colab.kernel.accessAllowed ? 'block' : 'none';\n",
              "    })();\n",
              "  </script>\n",
              "</div>\n",
              "    </div>\n",
              "  </div>\n"
            ],
            "text/plain": [
              "           loss      val_loss\n",
              "0  4.333334e+11  4.116956e+11\n",
              "1  4.331804e+11  4.112936e+11\n",
              "2  4.321659e+11  4.092251e+11\n",
              "3  4.287608e+11  4.037890e+11\n",
              "4  4.212068e+11  3.935711e+11"
            ]
          },
          "execution_count": 120,
          "metadata": {},
          "output_type": "execute_result"
        }
      ],
      "source": [
        "loss_df = pd.DataFrame(model.history.history)\n",
        "loss_df.head(5)"
      ]
    },
    {
      "cell_type": "code",
      "execution_count": null,
      "metadata": {
        "colab": {
          "base_uri": "https://localhost:8080/",
          "height": 462
        },
        "id": "MJUWVSZJm_iK",
        "outputId": "2e655f14-1b24-437a-9c96-ea4428143af3"
      },
      "outputs": [
        {
          "data": {
            "text/plain": [
              "<Axes: >"
            ]
          },
          "execution_count": 122,
          "metadata": {},
          "output_type": "execute_result"
        },
        {
          "data": {
            "image/png": "[encoded data removed]",
            "text/plain": [
              "<Figure size 640x480 with 1 Axes>"
            ]
          },
          "metadata": {},
          "output_type": "display_data"
        }
      ],
      "source": [
        "loss_df.plot()"
      ]
    },
    {
      "cell_type": "markdown",
      "metadata": {
        "id": "VOQ9R8ozsUyL"
      },
      "source": [
        "We can see that there is no spike in `orange line (val_loss)`, we can probably continue training. However when we look at the val_loss, there is not much improvment and even the improvement value is very tiny after a certain epoch.\n",
        "\n",
        "**NOTE: It is important to look for any spike, which indicates that our model is overfitting.**"
      ]
    },
    {
      "cell_type": "markdown",
      "metadata": {
        "id": "SL2RN_ImtErb"
      },
      "source": [
        "# Evaluation on Test Data\n",
        "\n",
        "https://scikit-learn.org/stable/modules/model_evaluation.html#regression-metrics"
      ]
    },
    {
      "cell_type": "code",
      "execution_count": null,
      "metadata": {
        "id": "gP71xqvjvjQG"
      },
      "outputs": [],
      "source": [
        "from sklearn.metrics import mean_absolute_error, mean_squared_error, explained_variance_score"
      ]
    },
    {
      "cell_type": "markdown",
      "metadata": {
        "id": "CgXN2XuKxqWF"
      },
      "source": [
        "### Get predictions on Test Data"
      ]
    },
    {
      "cell_type": "code",
      "execution_count": null,
      "metadata": {
        "colab": {
          "base_uri": "https://localhost:8080/"
        },
        "id": "DY0NnwEhvs1e",
        "outputId": "2676e322-ce6c-4d2c-e2d5-3e2e75d3bc38"
      },
      "outputs": [
        {
          "name": "stdout",
          "output_type": "stream",
          "text": [
            "203/203 [==============================] - 0s 1ms/step\n"
          ]
        }
      ],
      "source": [
        "predictions = model.predict(xtest)"
      ]
    },
    {
      "cell_type": "markdown",
      "metadata": {
        "id": "JtXwavL9xt8P"
      },
      "source": [
        "### Get evaluations of MAE, MSE, RMSE"
      ]
    },
    {
      "cell_type": "code",
      "execution_count": null,
      "metadata": {
        "colab": {
          "base_uri": "https://localhost:8080/"
        },
        "id": "UYt6E8fQv5NZ",
        "outputId": "591a6aa8-bf15-4aa7-cec2-1bcb54465897"
      },
      "outputs": [
        {
          "data": {
            "text/plain": [
              "443776678.2734568"
            ]
          },
          "execution_count": 125,
          "metadata": {},
          "output_type": "execute_result"
        }
      ],
      "source": [
        "mean_absolute_error(ytest, predictions)"
      ]
    },
    {
      "cell_type": "code",
      "execution_count": null,
      "metadata": {
        "colab": {
          "base_uri": "https://localhost:8080/"
        },
        "id": "eiElyDZUv5LN",
        "outputId": "a7812488-0783-45ad-8027-421f7cdcda96"
      },
      "outputs": [
        {
          "data": {
            "text/plain": [
              "2.5131095550114675e+17"
            ]
          },
          "execution_count": 126,
          "metadata": {},
          "output_type": "execute_result"
        }
      ],
      "source": [
        "mean_squared_error(ytest, predictions)"
      ]
    },
    {
      "cell_type": "code",
      "execution_count": null,
      "metadata": {
        "colab": {
          "base_uri": "https://localhost:8080/"
        },
        "id": "c1ShrLUKv5I8",
        "outputId": "84349ce2-2f9f-4917-8aaa-aa64fa3172d4"
      },
      "outputs": [
        {
          "data": {
            "text/plain": [
              "501309241.38813436"
            ]
          },
          "execution_count": 127,
          "metadata": {},
          "output_type": "execute_result"
        }
      ],
      "source": [
        "np.sqrt(mean_squared_error(ytest, predictions))"
      ]
    },
    {
      "cell_type": "markdown",
      "metadata": {
        "id": "8r_ojClHv5GQ"
      },
      "source": [
        "So we already have MAE, MSE, RMS. Are they good or bad?\n",
        "\n",
        "We need to take into account of the mean value of the price."
      ]
    },
    {
      "cell_type": "code",
      "execution_count": null,
      "metadata": {
        "colab": {
          "base_uri": "https://localhost:8080/"
        },
        "id": "lIqemNB7v5DR",
        "outputId": "30bb07c7-8583-487d-af3b-d14b8cea3b02"
      },
      "outputs": [
        {
          "data": {
            "text/plain": [
              "count    2.159700e+04\n",
              "mean     5.402966e+05\n",
              "std      3.673681e+05\n",
              "min      7.800000e+04\n",
              "25%      3.220000e+05\n",
              "50%      4.500000e+05\n",
              "75%      6.450000e+05\n",
              "max      7.700000e+06\n",
              "Name: price, dtype: float64"
            ]
          },
          "execution_count": 128,
          "metadata": {},
          "output_type": "execute_result"
        }
      ],
      "source": [
        "df['price'].describe()"
      ]
    },
    {
      "cell_type": "code",
      "execution_count": null,
      "metadata": {
        "colab": {
          "base_uri": "https://localhost:8080/"
        },
        "id": "3almOYJ9v5AO",
        "outputId": "4f763af4-3260-4828-f26a-fde1aea487a5"
      },
      "outputs": [
        {
          "data": {
            "text/plain": [
              "540296.6"
            ]
          },
          "execution_count": 129,
          "metadata": {},
          "output_type": "execute_result"
        }
      ],
      "source": [
        "5.402966e+05"
      ]
    },
    {
      "cell_type": "code",
      "execution_count": null,
      "metadata": {
        "colab": {
          "base_uri": "https://localhost:8080/"
        },
        "id": "hcSZ_x3DwfaA",
        "outputId": "ce351269-676d-4be4-8364-17b6312243f9"
      },
      "outputs": [
        {
          "data": {
            "text/plain": [
              "18.952259923810804"
            ]
          },
          "execution_count": 130,
          "metadata": {},
          "output_type": "execute_result"
        }
      ],
      "source": [
        "( 102398.41599151235 / 5.402966e+05 ) * 100"
      ]
    },
    {
      "cell_type": "markdown",
      "metadata": {
        "id": "ofySvh5hwmTg"
      },
      "source": [
        "If we look at the ratio of MAE to average price of the house, we are off by around 19%. This is not Great, but not horrible either.\n",
        "\n",
        "So w can use `explained_variance_score` to get deeper understading.\n"
      ]
    },
    {
      "cell_type": "markdown",
      "metadata": {
        "id": "bbAcN9VFxfoG"
      },
      "source": [
        "### explained_variance_score"
      ]
    },
    {
      "cell_type": "code",
      "execution_count": null,
      "metadata": {
        "colab": {
          "base_uri": "https://localhost:8080/"
        },
        "id": "b-NO6Rd8w95X",
        "outputId": "4878b2bd-3212-4be8-8c35-ddfdfd997176"
      },
      "outputs": [
        {
          "data": {
            "text/plain": [
              "-435809.5214916015"
            ]
          },
          "execution_count": 131,
          "metadata": {},
          "output_type": "execute_result"
        }
      ],
      "source": [
        "explained_variance_score(ytest, predictions)"
      ]
    },
    {
      "cell_type": "markdown",
      "metadata": {
        "id": "nq5dmazQw_hW"
      },
      "source": [
        "The best possible value is 1.0 and our is around 0.797. To see whether this is good or bad again, we need to look at the whole context.\n",
        "\n",
        "If we have a previous model, we might want to compare this value to see whether our model is getting better or wrose.\n"
      ]
    },
    {
      "cell_type": "markdown",
      "metadata": {
        "id": "TEPXVLX3xcUj"
      },
      "source": [
        "### Visualization of True value and Predictions"
      ]
    },
    {
      "cell_type": "code",
      "execution_count": null,
      "metadata": {
        "colab": {
          "base_uri": "https://localhost:8080/",
          "height": 710
        },
        "id": "mDvMCa5Nx84G",
        "outputId": "fc3da2df-8bfc-4a1e-d16b-4210f0f2f833"
      },
      "outputs": [
        {
          "data": {
            "image/png": "[encoded data removed]",
            "text/plain": [
              "<Figure size 1000x800 with 1 Axes>"
            ]
          },
          "metadata": {},
          "output_type": "display_data"
        }
      ],
      "source": [
        "plt.figure(figsize=(10,8))\n",
        "plt.scatter(ytest, predictions);\n",
        "plt.plot(ytest, ytest, color='r'); #perfect line"
      ]
    },
    {
      "cell_type": "markdown",
      "metadata": {
        "id": "v2pMJiNqyEaw"
      },
      "source": [
        "We can see that our model is generally performing well on houses of prices (0 - 2,000,000 USD). But for very expensive houses, our model is not really doing well."
      ]
    },
    {
      "cell_type": "markdown",
      "metadata": {
        "id": "l093hYyGyy_K"
      },
      "source": [
        "# Predictions on Brand New House"
      ]
    },
    {
      "cell_type": "code",
      "execution_count": null,
      "metadata": {
        "colab": {
          "base_uri": "https://localhost:8080/"
        },
        "id": "x3Ks7bbqzBUG",
        "outputId": "0c098477-50ec-43ef-bced-7502275246d8"
      },
      "outputs": [
        {
          "data": {
            "text/plain": [
              "bedrooms            3.0000\n",
              "bathrooms           1.0000\n",
              "sqft_living      1180.0000\n",
              "sqft_lot         5650.0000\n",
              "floors              1.0000\n",
              "waterfront          0.0000\n",
              "view                0.0000\n",
              "condition           3.0000\n",
              "grade               7.0000\n",
              "sqft_above       1180.0000\n",
              "sqft_basement       0.0000\n",
              "yr_built         1955.0000\n",
              "yr_renovated        0.0000\n",
              "lat                47.5112\n",
              "long             -122.2570\n",
              "sqft_living15    1340.0000\n",
              "sqft_lot15       5650.0000\n",
              "year             2014.0000\n",
              "month              10.0000\n",
              "Name: 0, dtype: float64"
            ]
          },
          "execution_count": 133,
          "metadata": {},
          "output_type": "execute_result"
        }
      ],
      "source": [
        "# let's use the very first house\n",
        "new_house = df.drop('price', axis=1).iloc[0]\n",
        "\n",
        "new_house"
      ]
    },
    {
      "cell_type": "code",
      "execution_count": null,
      "metadata": {
        "colab": {
          "base_uri": "https://localhost:8080/"
        },
        "id": "B6VK8LrlzfHV",
        "outputId": "843b9827-22ce-4640-cd37-e84339850d60"
      },
      "outputs": [
        {
          "data": {
            "text/plain": [
              "array([ 3.00000e+00,  1.00000e+00,  1.18000e+03,  5.65000e+03,\n",
              "        1.00000e+00,  0.00000e+00,  0.00000e+00,  3.00000e+00,\n",
              "        7.00000e+00,  1.18000e+03,  0.00000e+00,  1.95500e+03,\n",
              "        0.00000e+00,  4.75112e+01, -1.22257e+02,  1.34000e+03,\n",
              "        5.65000e+03,  2.01400e+03,  1.00000e+01])"
            ]
          },
          "execution_count": 134,
          "metadata": {},
          "output_type": "execute_result"
        }
      ],
      "source": [
        "new_house.values"
      ]
    },
    {
      "cell_type": "markdown",
      "metadata": {
        "id": "IRBz8Sbazsir"
      },
      "source": [
        "We can see that shape is is still not correct. So we need to reshape it.\n",
        "\n",
        "-1 means keep those old dimensions along that axis."
      ]
    },
    {
      "cell_type": "code",
      "execution_count": null,
      "metadata": {
        "colab": {
          "base_uri": "https://localhost:8080/"
        },
        "id": "KWeu7Qfs0AJo",
        "outputId": "5184ba98-7835-4e3c-a4f4-3fba84f21250"
      },
      "outputs": [
        {
          "data": {
            "text/plain": [
              "array([[ 3.00000e+00,  1.00000e+00,  1.18000e+03,  5.65000e+03,\n",
              "         1.00000e+00,  0.00000e+00,  0.00000e+00,  3.00000e+00,\n",
              "         7.00000e+00,  1.18000e+03,  0.00000e+00,  1.95500e+03,\n",
              "         0.00000e+00,  4.75112e+01, -1.22257e+02,  1.34000e+03,\n",
              "         5.65000e+03,  2.01400e+03,  1.00000e+01]])"
            ]
          },
          "execution_count": 135,
          "metadata": {},
          "output_type": "execute_result"
        }
      ],
      "source": [
        "new_house.values.reshape(-1,19)"
      ]
    },
    {
      "cell_type": "code",
      "execution_count": null,
      "metadata": {
        "id": "EjswfbYAzLoA"
      },
      "outputs": [],
      "source": [
        "# as our model is trained on scale data, we need to scale the features too.\n",
        "new_house = scaler.transform(new_house.values.reshape(-1,19))"
      ]
    },
    {
      "cell_type": "code",
      "execution_count": null,
      "metadata": {
        "colab": {
          "base_uri": "https://localhost:8080/"
        },
        "id": "Aw024v32zysO",
        "outputId": "3ddc6bdd-eede-4232-cadb-97eb5208c867"
      },
      "outputs": [
        {
          "name": "stdout",
          "output_type": "stream",
          "text": [
            "1/1 [==============================] - 0s 23ms/step\n"
          ]
        },
        {
          "data": {
            "text/plain": [
              "array([[308926.97]], dtype=float32)"
            ]
          },
          "execution_count": 137,
          "metadata": {},
          "output_type": "execute_result"
        }
      ],
      "source": [
        "# make a prediction\n",
        "model.predict(new_house)"
      ]
    },
    {
      "cell_type": "code",
      "execution_count": null,
      "metadata": {
        "colab": {
          "base_uri": "https://localhost:8080/",
          "height": 81
        },
        "id": "Fl4xP2eh0VI8",
        "outputId": "85ff71e0-d64d-4897-e654-8095e23a786b"
      },
      "outputs": [
        {
          "data": {
            "text/html": [
              "\n",
              "  <div id=\"df-3ab231ea-c9df-43f6-907d-d64c1f6b8488\" class=\"colab-df-container\">\n",
              "    <div>\n",
              "<style scoped>\n",
              "    .dataframe tbody tr th:only-of-type {\n",
              "        vertical-align: middle;\n",
              "    }\n",
              "\n",
              "    .dataframe tbody tr th {\n",
              "        vertical-align: top;\n",
              "    }\n",
              "\n",
              "    .dataframe thead th {\n",
              "        text-align: right;\n",
              "    }\n",
              "</style>\n",
              "<table border=\"1\" class=\"dataframe\">\n",
              "  <thead>\n",
              "    <tr style=\"text-align: right;\">\n",
              "      <th></th>\n",
              "      <th>price</th>\n",
              "      <th>bedrooms</th>\n",
              "      <th>bathrooms</th>\n",
              "      <th>sqft_living</th>\n",
              "      <th>sqft_lot</th>\n",
              "      <th>floors</th>\n",
              "      <th>waterfront</th>\n",
              "      <th>view</th>\n",
              "      <th>condition</th>\n",
              "      <th>grade</th>\n",
              "      <th>sqft_above</th>\n",
              "      <th>sqft_basement</th>\n",
              "      <th>yr_built</th>\n",
              "      <th>yr_renovated</th>\n",
              "      <th>lat</th>\n",
              "      <th>long</th>\n",
              "      <th>sqft_living15</th>\n",
              "      <th>sqft_lot15</th>\n",
              "      <th>year</th>\n",
              "      <th>month</th>\n",
              "    </tr>\n",
              "  </thead>\n",
              "  <tbody>\n",
              "    <tr>\n",
              "      <th>0</th>\n",
              "      <td>221900.0</td>\n",
              "      <td>3</td>\n",
              "      <td>1.0</td>\n",
              "      <td>1180</td>\n",
              "      <td>5650</td>\n",
              "      <td>1.0</td>\n",
              "      <td>0</td>\n",
              "      <td>0</td>\n",
              "      <td>3</td>\n",
              "      <td>7</td>\n",
              "      <td>1180</td>\n",
              "      <td>0</td>\n",
              "      <td>1955</td>\n",
              "      <td>0</td>\n",
              "      <td>47.5112</td>\n",
              "      <td>-122.257</td>\n",
              "      <td>1340</td>\n",
              "      <td>5650</td>\n",
              "      <td>2014</td>\n",
              "      <td>10</td>\n",
              "    </tr>\n",
              "  </tbody>\n",
              "</table>\n",
              "</div>\n",
              "    <div class=\"colab-df-buttons\">\n",
              "\n",
              "  <div class=\"colab-df-container\">\n",
              "    <button class=\"colab-df-convert\" onclick=\"convertToInteractive('df-3ab231ea-c9df-43f6-907d-d64c1f6b8488')\"\n",
              "            title=\"Convert this dataframe to an interactive table.\"\n",
              "            style=\"display:none;\">\n",
              "\n",
              "  <svg xmlns=\"http://www.w3.org/2000/svg\" height=\"24px\" viewBox=\"0 -960 960 960\">\n",
              "    <path d=\"M120-120v-720h720v720H120Zm60-500h600v-160H180v160Zm220 220h160v-160H400v160Zm0 220h160v-160H400v160ZM180-400h160v-160H180v160Zm440 0h160v-160H620v160ZM180-180h160v-160H180v160Zm440 0h160v-160H620v160Z\"/>\n",
              "  </svg>\n",
              "    </button>\n",
              "\n",
              "  <style>\n",
              "    .colab-df-container {\n",
              "      display:flex;\n",
              "      gap: 12px;\n",
              "    }\n",
              "\n",
              "    .colab-df-convert {\n",
              "      background-color: #E8F0FE;\n",
              "      border: none;\n",
              "      border-radius: 50%;\n",
              "      cursor: pointer;\n",
              "      display: none;\n",
              "      fill: #1967D2;\n",
              "      height: 32px;\n",
              "      padding: 0 0 0 0;\n",
              "      width: 32px;\n",
              "    }\n",
              "\n",
              "    .colab-df-convert:hover {\n",
              "      background-color: #E2EBFA;\n",
              "      box-shadow: 0px 1px 2px rgba(60, 64, 67, 0.3), 0px 1px 3px 1px rgba(60, 64, 67, 0.15);\n",
              "      fill: #174EA6;\n",
              "    }\n",
              "\n",
              "    .colab-df-buttons div {\n",
              "      margin-bottom: 4px;\n",
              "    }\n",
              "\n",
              "    [theme=dark] .colab-df-convert {\n",
              "      background-color: #3B4455;\n",
              "      fill: #D2E3FC;\n",
              "    }\n",
              "\n",
              "    [theme=dark] .colab-df-convert:hover {\n",
              "      background-color: #434B5C;\n",
              "      box-shadow: 0px 1px 3px 1px rgba(0, 0, 0, 0.15);\n",
              "      filter: drop-shadow(0px 1px 2px rgba(0, 0, 0, 0.3));\n",
              "      fill: #FFFFFF;\n",
              "    }\n",
              "  </style>\n",
              "\n",
              "    <script>\n",
              "      const buttonEl =\n",
              "        document.querySelector('#df-3ab231ea-c9df-43f6-907d-d64c1f6b8488 button.colab-df-convert');\n",
              "      buttonEl.style.display =\n",
              "        google.colab.kernel.accessAllowed ? 'block' : 'none';\n",
              "\n",
              "      async function convertToInteractive(key) {\n",
              "        const element = document.querySelector('#df-3ab231ea-c9df-43f6-907d-d64c1f6b8488');\n",
              "        const dataTable =\n",
              "          await google.colab.kernel.invokeFunction('convertToInteractive',\n",
              "                                                    [key], {});\n",
              "        if (!dataTable) return;\n",
              "\n",
              "        const docLinkHtml = 'Like what you see? Visit the ' +\n",
              "          '<a target=\"_blank\" href=https://colab.research.google.com/notebooks/data_table.ipynb>data table notebook</a>'\n",
              "          + ' to learn more about interactive tables.';\n",
              "        element.innerHTML = '';\n",
              "        dataTable['output_type'] = 'display_data';\n",
              "        await google.colab.output.renderOutput(dataTable, element);\n",
              "        const docLink = document.createElement('div');\n",
              "        docLink.innerHTML = docLinkHtml;\n",
              "        element.appendChild(docLink);\n",
              "      }\n",
              "    </script>\n",
              "  </div>\n",
              "\n",
              "    </div>\n",
              "  </div>\n"
            ],
            "text/plain": [
              "      price  bedrooms  bathrooms  sqft_living  sqft_lot  floors  waterfront  \\\n",
              "0  221900.0         3        1.0         1180      5650     1.0           0   \n",
              "\n",
              "   view  condition  grade  sqft_above  sqft_basement  yr_built  yr_renovated  \\\n",
              "0     0          3      7        1180              0      1955             0   \n",
              "\n",
              "       lat     long  sqft_living15  sqft_lot15  year  month  \n",
              "0  47.5112 -122.257           1340        5650  2014     10  "
            ]
          },
          "execution_count": 138,
          "metadata": {},
          "output_type": "execute_result"
        }
      ],
      "source": [
        "# true value\n",
        "df.head(1)"
      ]
    },
    {
      "cell_type": "markdown",
      "metadata": {
        "id": "5DdM2t030Xnt"
      },
      "source": [
        "It seem like our model is overshooting.\n",
        "\n",
        "\n",
        "What we can further do is\n",
        "* drop those extreme 1 or 2 expensive houses.\n",
        "* retrain the model and check whether MAE value is reduced or not."
      ]
    },
    {
      "cell_type": "code",
      "execution_count": null,
      "metadata": {
        "id": "umoexvDv0eUq"
      },
      "outputs": [],
      "source": [
        "\n"
      ]
    }
  ],
  "metadata": {
    "colab": {
      "provenance": []
    },
    "kernelspec": {
      "display_name": "Python 3",
      "name": "python3"
    }
  },
  "nbformat": 4,
  "nbformat_minor": 0
}